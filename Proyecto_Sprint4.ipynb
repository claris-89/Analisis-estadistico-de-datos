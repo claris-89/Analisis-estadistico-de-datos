{
 "cells": [
  {
   "cell_type": "markdown",
   "metadata": {},
   "source": [
    "¡Hola!\n",
    "\n",
    "Mi nombre es Tonatiuh Cruz. Me complace revisar tu proyecto hoy.\n",
    "\n",
    "Al identificar cualquier error inicialmente, simplemente los destacaré. Te animo a localizar y abordar los problemas de forma independiente como parte de tu preparación para un rol como data-scientist. En un entorno profesional, tu líder de equipo seguiría un enfoque similar. Si encuentras la tarea desafiante, proporcionaré una pista más específica en la próxima iteración.\n",
    "\n",
    "Encontrarás mis comentarios a continuación - **por favor no los muevas, modifiques o elimines**.\n",
    "\n",
    "Puedes encontrar mis comentarios en cajas verdes, amarillas o rojas como esta:\n",
    "\n",
    "<div class=\"alert alert-block alert-success\">\n",
    "<b>Comentario del revisor</b> <a class=\"tocSkip\"></a>\n",
    "\n",
    "Éxito. Todo está hecho correctamente.\n",
    "</div>\n",
    "\n",
    "<div class=\"alert alert-block alert-warning\">\n",
    "<b>Comentario del revisor</b> <a class=\"tocSkip\"></a>\n",
    "\n",
    "Observaciones. Algunas recomendaciones.\n",
    "</div>\n",
    "\n",
    "<div class=\"alert alert-block alert-danger\">\n",
    "<b>Comentario del revisor</b> <a class=\"tocSkip\"></a>\n",
    "\n",
    "Necesita corrección. El bloque requiere algunas correcciones. El trabajo no puede ser aceptado con comentarios en rojo.\n",
    "</div> \n",
    "\n",
    "<div class=\"alert alert-block alert-info\"> Puedes responderme utilizando esto: Hola Tonatiuh, primero que nada agradezco mucho las correcciones que has hecho a mi proyecto y también gracias por sugerencias que me ayudaran a mejorar en futuros proyectos. Debo decir que me ha resultado complicado entender la parte de las pruebas estadísticas pero he buscado apoyo con los asesores y tutores de mi curso, aún es mucha información que no he podido asimilar del todo pero con el tiempo que he dedicado a este curso poco me he ido familiarizando con los conceptos y el código de python. Ahora que veo los comentarios que me has hecho, pienso que pude haber hecho las correcciones de las tablas principales antes para poder hacer los demás ejercicios, ahora me es difícil por la falta de tiempo libre. Si hay algo más que deba mejorar dejame saber. Muchas gracias.\n",
    "<b>Respuesta del estudiante.</b> <a class=\"tocSkip\"></a>"
   ]
  },
  {
   "cell_type": "markdown",
   "metadata": {},
   "source": [
    "<div class=\"alert alert-block alert-success\">\n",
    "<b>Comentario del revisor</b> <a class=\"tocSkip\"></a>\n",
    "\n",
    "Muchas gracias por el esfuerzo en realizar los ajustes! Como mencionas a lo largo del curso vas a poder seguir aprendiendo diversas herramientas que te van ayudar en los análisis\n",
    "</div>"
   ]
  },
  {
   "cell_type": "markdown",
   "metadata": {
    "id": "3rYiDeEH0q0f"
   },
   "source": [
    "# ¿Cuál es la mejor tarifa?\n",
    "\n",
    "Trabajas como analista para el operador de telecomunicaciones Megaline. La empresa ofrece a sus clientes dos tarifas de prepago, Surf y Ultimate. El departamento comercial quiere saber cuál de las tarifas genera más ingresos para poder ajustar el presupuesto de publicidad.\n",
    "\n",
    "Vas a realizar un análisis preliminar de las tarifas basado en una selección de clientes relativamente pequeña. Tendrás los datos de 500 clientes de Megaline: quiénes son los clientes, de dónde son, qué tarifa usan, así como la cantidad de llamadas que hicieron y los mensajes de texto que enviaron en 2018. Tu trabajo es analizar el comportamiento de los clientes y determinar qué tarifa de prepago genera más ingresos."
   ]
  },
  {
   "cell_type": "markdown",
   "metadata": {
    "id": "VNddPNRQ0q0w"
   },
   "source": [
    "Primero que nada se hará la llamada del método info en cada uno de los dataframe para saber si existen datos vacíos y duplicados. A continuación se revisa si los tipos de datos que contienen cada uno de los dataframes son adecuados para poder trabajar con ellos, si existen tipos de datos no adecuado se procederá a hacer el cambio. También es importante revisar que los nombres de las columnas sean adecuados y hacer en cambio a un nombre más representativo en caso de ser necesario. Otra cosa que también se puede revisar es si podemos agregar información extra a cada uno de los dataframes que pueda ser útil para el análisis.  Una vez hechas las correcciones y limpieza de los datos procede a trabajar con ellos.\n",
    "\n",
    "Se procede a analizar el costo de las tarifas de los dos planes que se manejan, que en este caso son surf y ultimate. Luego se hacen las agrupaciones para obtener la cantidad de minutos, mensajes y megas usados al mes por cada usuario. Posteriormente se fusiona toda esta información para tener todos los datos obtenidos y se le añade la información del plan y costo para tener los datos en un solo dataframe. Después se procede a realizar los cálculos para saber qué usuarios están teniendo un costo extra por exceder los límites en sus planes.\n",
    "\n",
    "A continuación se obtienen los promedios de minutos, mensajes y megas para saber el comportamiento de uso que tienen los usuarios en cada uno de los planes. De igual manera se trazan gráficos para los costos extra que tienen los usuarios en cada uno de los planes. Por último, teniendo la información obtenida anteriormente se procede a formular las hipótesis nula y alterna, se hacen los cálculos necesarios para comprobar cual deberá ser aceptada. "
   ]
  },
  {
   "cell_type": "markdown",
   "metadata": {
    "id": "MQi4IPy70q0y"
   },
   "source": [
    "## Inicialización"
   ]
  },
  {
   "cell_type": "code",
   "execution_count": 1,
   "metadata": {
    "id": "MtYIuBxu0q0z"
   },
   "outputs": [],
   "source": [
    "# Cargar todas las librerías\n",
    "import pandas as pd\n",
    "from math import factorial\n",
    "from scipy import stats as st\n",
    "import math\n",
    "import numpy as np\n",
    "import math\n",
    "from matplotlib import pyplot as plt\n",
    "import seaborn as sns\n",
    "from scipy.stats import ttest_ind"
   ]
  },
  {
   "cell_type": "markdown",
   "metadata": {
    "id": "4ysWWC5i0q00"
   },
   "source": [
    "## Cargar datos"
   ]
  },
  {
   "cell_type": "code",
   "execution_count": 2,
   "metadata": {
    "id": "CCqPW7rS0q01"
   },
   "outputs": [],
   "source": [
    "# Carga los archivos de datos de los diferentes DataFrames\n",
    "df_megaline_calls=pd.read_csv('/datasets/megaline_calls.csv')\n",
    "df_megaline_internet=pd.read_csv('/datasets/megaline_internet.csv')\n",
    "df_megaline_messages=pd.read_csv('/datasets/megaline_messages.csv')\n",
    "df_megaline_plans=pd.read_csv('/datasets/megaline_plans.csv')\n",
    "df_megaline_user=pd.read_csv('/datasets/megaline_users.csv')"
   ]
  },
  {
   "cell_type": "markdown",
   "metadata": {},
   "source": [
    "<div class=\"alert alert-block alert-success\">\n",
    "<b>Comentario del revisor:</b> <a class=\"tocSkip\"></a>\n",
    "    \n",
    "Has realizado un excelente trabajo al importar los datos y las bibliotecas necesarias.\n",
    "\n",
    "</div>"
   ]
  },
  {
   "cell_type": "markdown",
   "metadata": {
    "id": "69qqoJ3r0q01"
   },
   "source": [
    "## Preparar los datos"
   ]
  },
  {
   "cell_type": "markdown",
   "metadata": {
    "id": "ohBhimvH0q01"
   },
   "source": [
    "## Tarifas"
   ]
  },
  {
   "cell_type": "code",
   "execution_count": 3,
   "metadata": {
    "id": "GptqP3Q40q02"
   },
   "outputs": [
    {
     "name": "stdout",
     "output_type": "stream",
     "text": [
      "<class 'pandas.core.frame.DataFrame'>\n",
      "RangeIndex: 2 entries, 0 to 1\n",
      "Data columns (total 8 columns):\n",
      " #   Column                 Non-Null Count  Dtype  \n",
      "---  ------                 --------------  -----  \n",
      " 0   messages_included      2 non-null      int64  \n",
      " 1   mb_per_month_included  2 non-null      int64  \n",
      " 2   minutes_included       2 non-null      int64  \n",
      " 3   usd_monthly_pay        2 non-null      int64  \n",
      " 4   usd_per_gb             2 non-null      int64  \n",
      " 5   usd_per_message        2 non-null      float64\n",
      " 6   usd_per_minute         2 non-null      float64\n",
      " 7   plan_name              2 non-null      object \n",
      "dtypes: float64(2), int64(5), object(1)\n",
      "memory usage: 256.0+ bytes\n"
     ]
    }
   ],
   "source": [
    "# Imprime la información general/resumida sobre el DataFrame de las tarifas\n",
    "df_megaline_plans.info()"
   ]
  },
  {
   "cell_type": "code",
   "execution_count": 4,
   "metadata": {
    "id": "64xzjwL70q02"
   },
   "outputs": [
    {
     "name": "stdout",
     "output_type": "stream",
     "text": [
      "   messages_included  mb_per_month_included  minutes_included  \\\n",
      "0                 50                  15360               500   \n",
      "1               1000                  30720              3000   \n",
      "\n",
      "   usd_monthly_pay  usd_per_gb  usd_per_message  usd_per_minute plan_name  \n",
      "0               20          10             0.03            0.03      surf  \n",
      "1               70           7             0.01            0.01  ultimate  \n"
     ]
    }
   ],
   "source": [
    "# Imprime una muestra de los datos para las tarifas\n",
    "# Se observa que esta tabla solo cuenta con dos columnas, por lo cual se puede imprimir el dataframe completo\n",
    "print(df_megaline_plans)"
   ]
  },
  {
   "cell_type": "markdown",
   "metadata": {
    "id": "R3C05i1l0q03"
   },
   "source": [
    "## Corregir datos"
   ]
  },
  {
   "cell_type": "code",
   "execution_count": 5,
   "metadata": {
    "id": "Y7SVmjGn0q03"
   },
   "outputs": [
    {
     "name": "stdout",
     "output_type": "stream",
     "text": [
      "messages_included          int64\n",
      "mb_per_month_included      int64\n",
      "minutes_included           int64\n",
      "usd_monthly_pay          float64\n",
      "usd_per_gb               float64\n",
      "usd_per_message          float64\n",
      "usd_per_minute           float64\n",
      "plan_name                 object\n",
      "dtype: object\n"
     ]
    }
   ],
   "source": [
    "# Se convirtieron las columna usd_monthly_pay y usd_per_gb a float ya que almacena un precio, este tipo de dato es más adecuado \n",
    "# Se puede observar que la columna usd_per_gb, hace referencia a que los cobros por exceder los megas de algunos de los planes.\n",
    "# El cobro se hace por gb, por lo cual para futuros cálculos será necesario convertir los megas a gigas.\n",
    "df_megaline_plans['usd_monthly_pay']=df_megaline_plans['usd_monthly_pay'].astype('float')\n",
    "df_megaline_plans['usd_per_gb']=df_megaline_plans['usd_per_gb'].astype('float')\n",
    "print(df_megaline_plans.dtypes)"
   ]
  },
  {
   "cell_type": "markdown",
   "metadata": {
    "id": "LJir7bml0q03"
   },
   "source": [
    "## Enriquecer los datos"
   ]
  },
  {
   "cell_type": "markdown",
   "metadata": {
    "id": "gfcIEuXV0q04"
   },
   "source": [
    "<div class=\"alert alert-block alert-warning\">\n",
    "<b>Comentario Revisor</b> <a class=\"tocSkip\"></a>\n",
    "\n",
    "Muy buen trabajo, solamente te sugiero que en este apartado menciones un poco sobre la transformación que se debe realizar de megabytes a gigabytes. \n",
    "</div>"
   ]
  },
  {
   "cell_type": "markdown",
   "metadata": {
    "id": "1n2X6WXf0q04"
   },
   "source": [
    "## Usuarios/as"
   ]
  },
  {
   "cell_type": "code",
   "execution_count": 6,
   "metadata": {
    "id": "2NgjWFqx0q05"
   },
   "outputs": [
    {
     "name": "stdout",
     "output_type": "stream",
     "text": [
      "<class 'pandas.core.frame.DataFrame'>\n",
      "RangeIndex: 500 entries, 0 to 499\n",
      "Data columns (total 8 columns):\n",
      " #   Column      Non-Null Count  Dtype \n",
      "---  ------      --------------  ----- \n",
      " 0   user_id     500 non-null    int64 \n",
      " 1   first_name  500 non-null    object\n",
      " 2   last_name   500 non-null    object\n",
      " 3   age         500 non-null    int64 \n",
      " 4   city        500 non-null    object\n",
      " 5   reg_date    500 non-null    object\n",
      " 6   plan        500 non-null    object\n",
      " 7   churn_date  34 non-null     object\n",
      "dtypes: int64(2), object(6)\n",
      "memory usage: 31.4+ KB\n"
     ]
    }
   ],
   "source": [
    "# Imprime la información general/resumida sobre el DataFrame de usuarios\n",
    "df_megaline_user.info()"
   ]
  },
  {
   "cell_type": "code",
   "execution_count": 7,
   "metadata": {
    "id": "1IN1L9uh0q05"
   },
   "outputs": [
    {
     "name": "stdout",
     "output_type": "stream",
     "text": [
      "   user_id first_name  last_name  age                                   city  \\\n",
      "0     1000   Anamaria      Bauer   45  Atlanta-Sandy Springs-Roswell, GA MSA   \n",
      "1     1001     Mickey  Wilkerson   28        Seattle-Tacoma-Bellevue, WA MSA   \n",
      "2     1002     Carlee    Hoffman   36   Las Vegas-Henderson-Paradise, NV MSA   \n",
      "3     1003   Reynaldo    Jenkins   52                          Tulsa, OK MSA   \n",
      "4     1004    Leonila   Thompson   40        Seattle-Tacoma-Bellevue, WA MSA   \n",
      "\n",
      "     reg_date      plan churn_date  \n",
      "0  2018-12-24  ultimate        NaN  \n",
      "1  2018-08-13      surf        NaN  \n",
      "2  2018-10-21      surf        NaN  \n",
      "3  2018-01-28      surf        NaN  \n",
      "4  2018-05-23      surf        NaN  \n"
     ]
    }
   ],
   "source": [
    "# Imprime una muestra de datos para usuarios\n",
    "print(df_megaline_user.head())"
   ]
  },
  {
   "cell_type": "markdown",
   "metadata": {
    "id": "dCZoUq4f0q06"
   },
   "source": [
    "En el dataframe user se puede observar que existen 466 valores ausentes en la columna churn_date, como no se sabe la fecha en que el usuario dejó de usar el servicio y se sabe que los datos son del 2018 se llenará la información ausente con el último día del 2018, se cambian también a formato de fecha las columnas reg_date y churn_date."
   ]
  },
  {
   "cell_type": "markdown",
   "metadata": {
    "id": "BX5FQh_I0q06"
   },
   "source": [
    "### Corregir los datos"
   ]
  },
  {
   "cell_type": "code",
   "execution_count": 8,
   "metadata": {
    "id": "yUqX-K0C0q07"
   },
   "outputs": [
    {
     "name": "stdout",
     "output_type": "stream",
     "text": [
      "Duplicados totales:  0 \n",
      "\n",
      "Valores ausentes totales: \n",
      " user_id         0\n",
      "first_name      0\n",
      "last_name       0\n",
      "age             0\n",
      "city            0\n",
      "reg_date        0\n",
      "plan            0\n",
      "churn_date    466\n",
      "dtype: int64 \n",
      "\n",
      "Valores ausentes totales: \n",
      " user_id       0\n",
      "first_name    0\n",
      "last_name     0\n",
      "age           0\n",
      "city          0\n",
      "reg_date      0\n",
      "plan          0\n",
      "churn_date    0\n",
      "dtype: int64 \n",
      "\n",
      "user_id                int64\n",
      "first_name            object\n",
      "last_name             object\n",
      "age                    int64\n",
      "city                  object\n",
      "reg_date      datetime64[ns]\n",
      "plan_name             object\n",
      "churn_date    datetime64[ns]\n",
      "dtype: object\n"
     ]
    }
   ],
   "source": [
    "# Se revisan valores duplicados y ausentes, se hace el cambio de las columnas reg_date y churn_date a tipo fecha.\n",
    "# En la columna churn_date se llenan los datos vacíos con 2018-12-31, esto porque no se conoce dicha información.\n",
    "# Tener completa esta columna servirá para los siguientes cálculos. \n",
    "# También se hace el cambio de nombre de la columna plan a plan_name\n",
    "print('Duplicados totales: ', df_megaline_user.duplicated().sum(),'\\n')\n",
    "print('Valores ausentes totales: \\n', df_megaline_user.isna().sum(), '\\n')\n",
    "df_megaline_user['churn_date'] = df_megaline_user['churn_date'].fillna('2018-12-31')\n",
    "print('Valores ausentes totales: \\n', df_megaline_user.isna().sum(), '\\n')\n",
    "df_megaline_user['reg_date'] = pd.to_datetime(df_megaline_user['reg_date'], format='%Y-%m-%d')\n",
    "df_megaline_user['churn_date'] = pd.to_datetime(df_megaline_user['churn_date'], format='%Y-%m-%d')\n",
    "columns_new = {'plan':'plan_name'}\n",
    "df_megaline_user = df_megaline_user.rename(columns = columns_new)\n",
    "print(df_megaline_user.dtypes)"
   ]
  },
  {
   "cell_type": "markdown",
   "metadata": {
    "id": "ycwuARJp0q07"
   },
   "source": [
    "### Enriquecer los datos"
   ]
  },
  {
   "cell_type": "code",
   "execution_count": 9,
   "metadata": {
    "id": "iq0AaBS90q08"
   },
   "outputs": [
    {
     "name": "stdout",
     "output_type": "stream",
     "text": [
      "     user_id first_name   last_name  age  \\\n",
      "0       1000   Anamaria       Bauer   45   \n",
      "1       1001     Mickey   Wilkerson   28   \n",
      "2       1002     Carlee     Hoffman   36   \n",
      "3       1003   Reynaldo     Jenkins   52   \n",
      "4       1004    Leonila    Thompson   40   \n",
      "..       ...        ...         ...  ...   \n",
      "495     1495      Fidel      Sharpe   67   \n",
      "496     1496      Ariel    Shepherd   49   \n",
      "497     1497      Donte     Barrera   49   \n",
      "498     1498       Scot  Williamson   51   \n",
      "499     1499      Shena     Dickson   37   \n",
      "\n",
      "                                          city   reg_date plan_name  \\\n",
      "0        Atlanta-Sandy Springs-Roswell, GA MSA 2018-12-24  ultimate   \n",
      "1              Seattle-Tacoma-Bellevue, WA MSA 2018-08-13      surf   \n",
      "2         Las Vegas-Henderson-Paradise, NV MSA 2018-10-21      surf   \n",
      "3                                Tulsa, OK MSA 2018-01-28      surf   \n",
      "4              Seattle-Tacoma-Bellevue, WA MSA 2018-05-23      surf   \n",
      "..                                         ...        ...       ...   \n",
      "495  New York-Newark-Jersey City, NY-NJ-PA MSA 2018-09-04      surf   \n",
      "496               New Orleans-Metairie, LA MSA 2018-02-20      surf   \n",
      "497     Los Angeles-Long Beach-Anaheim, CA MSA 2018-12-10  ultimate   \n",
      "498  New York-Newark-Jersey City, NY-NJ-PA MSA 2018-02-04      surf   \n",
      "499          Orlando-Kissimmee-Sanford, FL MSA 2018-05-06      surf   \n",
      "\n",
      "    churn_date  usd_monthly_pay  \n",
      "0   2018-12-31             70.0  \n",
      "1   2018-12-31             20.0  \n",
      "2   2018-12-31             20.0  \n",
      "3   2018-12-31             20.0  \n",
      "4   2018-12-31             20.0  \n",
      "..         ...              ...  \n",
      "495 2018-12-31             20.0  \n",
      "496 2018-12-31             20.0  \n",
      "497 2018-12-31             70.0  \n",
      "498 2018-12-31             20.0  \n",
      "499 2018-12-31             20.0  \n",
      "\n",
      "[500 rows x 9 columns]\n"
     ]
    }
   ],
   "source": [
    "# En el dataframe de usuarios se está agregando la información del usd_monthly_pay que será útil para hacer cálculos.\n",
    "# Se borran las columnas sobrantes que no seran útiles. \n",
    "df_megaline_user_plan = df_megaline_user.merge(df_megaline_plans, on='plan_name', how='left')\n",
    "df_megaline_user_plan.drop(['messages_included', 'mb_per_month_included', 'minutes_included', \n",
    "                           'usd_per_gb', 'usd_per_message', 'usd_per_minute'],\n",
    "                           axis=1, inplace=True)\n",
    "print(df_megaline_user_plan)"
   ]
  },
  {
   "cell_type": "markdown",
   "metadata": {
    "id": "o7MeKCid0q08"
   },
   "source": [
    "## Llamadas"
   ]
  },
  {
   "cell_type": "code",
   "execution_count": 10,
   "metadata": {
    "id": "6dDlnoDm0q08"
   },
   "outputs": [
    {
     "name": "stdout",
     "output_type": "stream",
     "text": [
      "<class 'pandas.core.frame.DataFrame'>\n",
      "RangeIndex: 137735 entries, 0 to 137734\n",
      "Data columns (total 4 columns):\n",
      " #   Column     Non-Null Count   Dtype  \n",
      "---  ------     --------------   -----  \n",
      " 0   id         137735 non-null  object \n",
      " 1   user_id    137735 non-null  int64  \n",
      " 2   call_date  137735 non-null  object \n",
      " 3   duration   137735 non-null  float64\n",
      "dtypes: float64(1), int64(1), object(2)\n",
      "memory usage: 4.2+ MB\n"
     ]
    }
   ],
   "source": [
    "# Imprime la información general/resumida sobre el DataFrame de las llamadas\n",
    "df_megaline_calls.info()"
   ]
  },
  {
   "cell_type": "code",
   "execution_count": 11,
   "metadata": {
    "id": "kuh1vlNB0q09"
   },
   "outputs": [
    {
     "name": "stdout",
     "output_type": "stream",
     "text": [
      "         id  user_id   call_date  duration\n",
      "0   1000_93     1000  2018-12-27      8.52\n",
      "1  1000_145     1000  2018-12-27     13.66\n",
      "2  1000_247     1000  2018-12-27     14.48\n",
      "3  1000_309     1000  2018-12-28      5.76\n",
      "4  1000_380     1000  2018-12-30      4.22\n"
     ]
    }
   ],
   "source": [
    "# Imprime una muestra de datos para las llamadas\n",
    "print(df_megaline_calls.head())"
   ]
  },
  {
   "cell_type": "markdown",
   "metadata": {
    "id": "DOAxYJSx0q09"
   },
   "source": [
    "Se observa que el nombre de la columna id no es adecuado por lo cual se cambia a call_id ya que es más descriptivo, en la columna call_id se observa que los datos tiene un guión bajo el cual se reemplaza con un espacio vacío. Después esta columna se convierte a int que es un tipo de dato más adecuado para call_id. También se cambia de tipo de dato en la columna call_date por tipo fecha."
   ]
  },
  {
   "cell_type": "markdown",
   "metadata": {
    "id": "S7hzxmbX0q0-"
   },
   "source": [
    "### Corregir los datos"
   ]
  },
  {
   "cell_type": "code",
   "execution_count": 12,
   "metadata": {
    "id": "S2r8xA4f0q0-"
   },
   "outputs": [
    {
     "name": "stdout",
     "output_type": "stream",
     "text": [
      "Index(['call_id', 'user_id', 'call_date', 'duration'], dtype='object') \n",
      "\n",
      "Duplicados totales:  0 \n",
      "\n",
      "Valores ausentes totales: \n",
      " call_id      0\n",
      "user_id      0\n",
      "call_date    0\n",
      "duration     0\n",
      "dtype: int64 \n",
      "\n",
      "   call_id  user_id   call_date  duration\n",
      "0   100093     1000  2018-12-27      8.52\n",
      "1  1000145     1000  2018-12-27     13.66\n",
      "2  1000247     1000  2018-12-27     14.48\n",
      "3  1000309     1000  2018-12-28      5.76\n",
      "4  1000380     1000  2018-12-30      4.22 \n",
      "\n",
      "call_id               int64\n",
      "user_id               int64\n",
      "call_date    datetime64[ns]\n",
      "duration            float64\n",
      "dtype: object\n"
     ]
    }
   ],
   "source": [
    "# Se cambió el nombre de la columna id por call_id ya que es más descriptivo, se revisa si hay valores duplicados y ausentes. \n",
    "# En la columna call_id se observa que los datos tiene un guión bajo el cual se reemplaza con un espacio vacío.\n",
    "# Después esta columna se convierte a int que es un tipo de dato más adecuado para call_id.\n",
    "# Se hizo también el cambio de tipo de dato en la columna call_date por tipo fecha.\n",
    "columns_new = {'id':'call_id'}\n",
    "df_megaline_calls = df_megaline_calls.rename(columns = columns_new)\n",
    "print(df_megaline_calls.columns, '\\n')\n",
    "print('Duplicados totales: ', df_megaline_calls.duplicated().sum(),'\\n')\n",
    "print('Valores ausentes totales: \\n', df_megaline_calls.isna().sum(), '\\n')\n",
    "df_megaline_calls['call_id']=df_megaline_calls['call_id'].replace('_', '')\n",
    "df_megaline_calls['call_id']=df_megaline_calls['call_id'].astype('int')\n",
    "print(df_megaline_calls.head(), '\\n')\n",
    "df_megaline_calls['call_date'] = pd.to_datetime(df_megaline_calls['call_date'], format='%Y-%m-%d')\n",
    "print(df_megaline_calls.dtypes)"
   ]
  },
  {
   "cell_type": "markdown",
   "metadata": {
    "id": "KrMgTrlG0q0_"
   },
   "source": [
    "### Enriquecer los datos"
   ]
  },
  {
   "cell_type": "code",
   "execution_count": 13,
   "metadata": {
    "id": "iZ1avpA_0q0_"
   },
   "outputs": [
    {
     "name": "stdout",
     "output_type": "stream",
     "text": [
      "        call_id  user_id  call_date  duration  duration_round\n",
      "0        100093     1000 2018-12-27      8.52             9.0\n",
      "1       1000145     1000 2018-12-27     13.66            14.0\n",
      "2       1000247     1000 2018-12-27     14.48            15.0\n",
      "3       1000309     1000 2018-12-28      5.76             6.0\n",
      "4       1000380     1000 2018-12-30      4.22             5.0\n",
      "...         ...      ...        ...       ...             ...\n",
      "137730  1499199     1499 2018-11-21      8.72             9.0\n",
      "137731  1499200     1499 2018-10-20     10.89            11.0\n",
      "137732  1499201     1499 2018-09-21      8.12             9.0\n",
      "137733  1499202     1499 2018-10-10      0.37             1.0\n",
      "137734  1499203     1499 2018-12-29     13.86            14.0\n",
      "\n",
      "[137735 rows x 5 columns]\n"
     ]
    }
   ],
   "source": [
    "# Como se menciona en la descripción del proyecto se  Megaline redondea los segundos a minutos \n",
    "# En cada llamada individual, por ello se crea una nueva columna llamada duration_round con la información redondeada.\n",
    "# Se usa apply(np.ceil) para hacer el redondeo hacia arriba, aunque la llamada haya durado menos de un minuto se hace el cobro.\n",
    "df_megaline_calls['duration_round'] = df_megaline_calls['duration'].apply(np.ceil)\n",
    "print(df_megaline_calls)"
   ]
  },
  {
   "cell_type": "markdown",
   "metadata": {},
   "source": [
    "<div class=\"alert alert-block alert-warning\">\n",
    "<b>Comentario Revisor</b> <a class=\"tocSkip\"></a>\n",
    "\n",
    "Qué podríamos decir hasta el momento de las llamadas que tienen una duración de 0?\n",
    "</div>"
   ]
  },
  {
   "cell_type": "markdown",
   "metadata": {
    "id": "mOUZSi180q0_"
   },
   "source": [
    "## Mensajes"
   ]
  },
  {
   "cell_type": "code",
   "execution_count": 14,
   "metadata": {
    "id": "R-bYJpdV0q1A"
   },
   "outputs": [
    {
     "name": "stdout",
     "output_type": "stream",
     "text": [
      "<class 'pandas.core.frame.DataFrame'>\n",
      "RangeIndex: 76051 entries, 0 to 76050\n",
      "Data columns (total 3 columns):\n",
      " #   Column        Non-Null Count  Dtype \n",
      "---  ------        --------------  ----- \n",
      " 0   id            76051 non-null  object\n",
      " 1   user_id       76051 non-null  int64 \n",
      " 2   message_date  76051 non-null  object\n",
      "dtypes: int64(1), object(2)\n",
      "memory usage: 1.7+ MB\n"
     ]
    }
   ],
   "source": [
    "# Imprime la información general/resumida sobre el DataFrame de los mensajes\n",
    "df_megaline_messages.info()"
   ]
  },
  {
   "cell_type": "code",
   "execution_count": 15,
   "metadata": {
    "id": "mCEl2iGE0q1A"
   },
   "outputs": [
    {
     "name": "stdout",
     "output_type": "stream",
     "text": [
      "         id  user_id message_date\n",
      "0  1000_125     1000   2018-12-27\n",
      "1  1000_160     1000   2018-12-31\n",
      "2  1000_223     1000   2018-12-31\n",
      "3  1000_251     1000   2018-12-27\n",
      "4  1000_255     1000   2018-12-26\n"
     ]
    }
   ],
   "source": [
    "# Imprime una muestra de datos para los mensajes\n",
    "print(df_megaline_messages.head())"
   ]
  },
  {
   "cell_type": "markdown",
   "metadata": {
    "id": "04xDj7KH0q1A"
   },
   "source": [
    "En este dataframe se puede observar que el nombre de la columna id no es adecuado por lo cual procede a cambiarlo por message_id que es más descriptivo. La información del dataframe muestra que no hay valores ausentes. En la columna message_id se observa que los datos tiene un guión bajo. También se observan tipos de datos no adecuados que será necesario cambiar. "
   ]
  },
  {
   "cell_type": "markdown",
   "metadata": {
    "id": "Sprfak900q1B"
   },
   "source": [
    "### Corregir los datos"
   ]
  },
  {
   "cell_type": "code",
   "execution_count": 16,
   "metadata": {
    "id": "vsllvkoa0q1B"
   },
   "outputs": [
    {
     "name": "stdout",
     "output_type": "stream",
     "text": [
      "Index(['message_id', 'user_id', 'message_date'], dtype='object') \n",
      "\n",
      "Duplicados totales:  0 \n",
      "\n",
      "Valores ausentes totales: \n",
      " message_id      0\n",
      "user_id         0\n",
      "message_date    0\n",
      "dtype: int64 \n",
      "\n",
      "       message_id  user_id message_date\n",
      "0         1000125     1000   2018-12-27\n",
      "1         1000160     1000   2018-12-31\n",
      "2         1000223     1000   2018-12-31\n",
      "3         1000251     1000   2018-12-27\n",
      "4         1000255     1000   2018-12-26\n",
      "...           ...      ...          ...\n",
      "76046     1497526     1497   2018-12-24\n",
      "76047     1497536     1497   2018-12-24\n",
      "76048     1497547     1497   2018-12-31\n",
      "76049     1497558     1497   2018-12-24\n",
      "76050     1497613     1497   2018-12-23\n",
      "\n",
      "[76051 rows x 3 columns] \n",
      "\n",
      "message_id               int64\n",
      "user_id                  int64\n",
      "message_date    datetime64[ns]\n",
      "dtype: object\n"
     ]
    }
   ],
   "source": [
    "# Se cambió el nombre de la columna id por message_id ya que es más descriptivo, se revisa si hay valores duplicados y ausentes. \n",
    "# En la columna message_id se observa que los datos tiene un guión bajo el cual se reemplaza con un espacio vacío.\n",
    "# Después esta columna se convierte a int que es un tipo de dato más adecuado para message_id.\n",
    "# Se hizo también el cambio de tipo de dato en la columna message_date por tipo fecha.\n",
    "columns_new = {'id':'message_id'}\n",
    "df_megaline_messages = df_megaline_messages.rename(columns = columns_new)\n",
    "print(df_megaline_messages.columns, '\\n')\n",
    "print('Duplicados totales: ', df_megaline_messages.duplicated().sum(),'\\n')\n",
    "print('Valores ausentes totales: \\n', df_megaline_messages.isna().sum(), '\\n')\n",
    "df_megaline_messages['message_id']=df_megaline_messages['message_id'].replace('_', '')\n",
    "df_megaline_messages['message_id']=df_megaline_messages['message_id'].astype('int')\n",
    "print(df_megaline_messages, '\\n')\n",
    "df_megaline_messages['message_date'] = pd.to_datetime(df_megaline_messages['message_date'], format='%Y-%m-%d')\n",
    "print(df_megaline_messages.dtypes)"
   ]
  },
  {
   "cell_type": "markdown",
   "metadata": {
    "id": "HvLid7iD0q1B"
   },
   "source": [
    "### Enriquecer los datos"
   ]
  },
  {
   "cell_type": "code",
   "execution_count": null,
   "metadata": {
    "id": "zYEXZac10q1C"
   },
   "outputs": [],
   "source": []
  },
  {
   "cell_type": "markdown",
   "metadata": {
    "id": "bStkaxn40q1C"
   },
   "source": [
    "## Internet"
   ]
  },
  {
   "cell_type": "code",
   "execution_count": 17,
   "metadata": {
    "id": "e-Uz5qyn0q1C"
   },
   "outputs": [
    {
     "name": "stdout",
     "output_type": "stream",
     "text": [
      "<class 'pandas.core.frame.DataFrame'>\n",
      "RangeIndex: 104825 entries, 0 to 104824\n",
      "Data columns (total 4 columns):\n",
      " #   Column        Non-Null Count   Dtype  \n",
      "---  ------        --------------   -----  \n",
      " 0   id            104825 non-null  object \n",
      " 1   user_id       104825 non-null  int64  \n",
      " 2   session_date  104825 non-null  object \n",
      " 3   mb_used       104825 non-null  float64\n",
      "dtypes: float64(1), int64(1), object(2)\n",
      "memory usage: 3.2+ MB\n"
     ]
    }
   ],
   "source": [
    "# Imprime la información general/resumida sobre el DataFrame de internet\n",
    "df_megaline_internet.info()"
   ]
  },
  {
   "cell_type": "code",
   "execution_count": 18,
   "metadata": {
    "id": "9r3x_XLw0q1C"
   },
   "outputs": [
    {
     "name": "stdout",
     "output_type": "stream",
     "text": [
      "         id  user_id session_date  mb_used\n",
      "0   1000_13     1000   2018-12-29    89.86\n",
      "1  1000_204     1000   2018-12-31     0.00\n",
      "2  1000_379     1000   2018-12-28   660.40\n",
      "3  1000_413     1000   2018-12-26   270.99\n",
      "4  1000_442     1000   2018-12-27   880.22\n"
     ]
    }
   ],
   "source": [
    "# Imprime una muestra de datos para el tráfico de internet\n",
    "print(df_megaline_internet.head())"
   ]
  },
  {
   "cell_type": "markdown",
   "metadata": {
    "id": "EzOG5ik30q1D"
   },
   "source": [
    "Al igual que los dataframe se puede observar que el nombre de la columna id no es adecuado por lo cual procede a cambiarlo por uno más descriptivo. La información del dataframe muestra que no hay valores ausentes. En la columna id se observa que los datos tienen un guión bajo. También se observan tipos de datos no adecuados que será necesario cambiar. "
   ]
  },
  {
   "cell_type": "markdown",
   "metadata": {
    "id": "yA0tkPFg0q1D"
   },
   "source": [
    "### Corregir los datos"
   ]
  },
  {
   "cell_type": "code",
   "execution_count": 19,
   "metadata": {
    "id": "zVeanzdd0q1E"
   },
   "outputs": [
    {
     "name": "stdout",
     "output_type": "stream",
     "text": [
      "Index(['internet_id', 'user_id', 'session_date', 'mb_used'], dtype='object') \n",
      "\n",
      "Duplicados totales:  0 \n",
      "\n",
      "Valores ausentes totales: \n",
      " internet_id     0\n",
      "user_id         0\n",
      "session_date    0\n",
      "mb_used         0\n",
      "dtype: int64 \n",
      "\n",
      "        internet_id  user_id session_date  mb_used\n",
      "0            100013     1000   2018-12-29    89.86\n",
      "1           1000204     1000   2018-12-31     0.00\n",
      "2           1000379     1000   2018-12-28   660.40\n",
      "3           1000413     1000   2018-12-26   270.99\n",
      "4           1000442     1000   2018-12-27   880.22\n",
      "...             ...      ...          ...      ...\n",
      "104820      1499215     1499   2018-10-20   218.06\n",
      "104821      1499216     1499   2018-12-30   304.72\n",
      "104822      1499217     1499   2018-09-22   292.75\n",
      "104823      1499218     1499   2018-12-07     0.00\n",
      "104824      1499219     1499   2018-12-24   758.31\n",
      "\n",
      "[104825 rows x 4 columns] \n",
      "\n",
      "message_id               int64\n",
      "user_id                  int64\n",
      "message_date    datetime64[ns]\n",
      "dtype: object\n"
     ]
    }
   ],
   "source": [
    "# Se cambió el nombre de la columna id por internet_id ya que es más descriptivo, se revisa si hay valores duplicados y ausentes. \n",
    "# En la columna internet_id se observa que los datos tiene un guión bajo el cual se reemplaza con un espacio vacíos.\n",
    "# Después esta columna se convierte a int que es un tipo de dato más adecuado para internet_id.\n",
    "# Se hizo también el cambio de tipo de dato en la columna session_date por tipo fecha.\n",
    "# Una vez que se comience con los cálculos será necesario hacer el redondeo hacia arriba de la mb_used y hacer la conversión de mb a gb.\n",
    "columns_new = {'id':'internet_id'}\n",
    "df_megaline_internet = df_megaline_internet.rename(columns = columns_new)\n",
    "print(df_megaline_internet.columns, '\\n')\n",
    "print('Duplicados totales: ', df_megaline_internet.duplicated().sum(),'\\n')\n",
    "print('Valores ausentes totales: \\n', df_megaline_internet.isna().sum(), '\\n')\n",
    "df_megaline_internet['internet_id']=df_megaline_internet['internet_id'].replace('_', '')\n",
    "df_megaline_internet['internet_id']=df_megaline_internet['internet_id'].astype('int')\n",
    "print(df_megaline_internet, '\\n')\n",
    "df_megaline_internet['session_date'] = pd.to_datetime(df_megaline_internet['session_date'], format='%Y-%m-%d')\n",
    "print(df_megaline_messages.dtypes)"
   ]
  },
  {
   "cell_type": "markdown",
   "metadata": {
    "id": "e8_mLF4a0q1E"
   },
   "source": [
    "### Enriquecer los datos"
   ]
  },
  {
   "cell_type": "markdown",
   "metadata": {
    "id": "ESiYPIEK0q1E"
   },
   "source": [
    "<div class=\"alert alert-block alert-warning\">\n",
    "<b>Comentario revisor</b> <a class=\"tocSkip\"></a>\n",
    "\n",
    "\n",
    "Te recomiendo solamente comentar que cuando agrupemos los datos vamos a tener que redondear hacia arriba lo valores de la transformación de mbegabyter a gigabyte, para este ejercicio debemos hacer el redondeo superior dado que se cobra el costo extra en cuanto se pasa de los límites.Por lo que es necesario hacer la transformación de mb a gb y después hacer el redondeo.  \n",
    "</div>"
   ]
  },
  {
   "cell_type": "markdown",
   "metadata": {
    "id": "3UA2cqIW0q1E"
   },
   "source": [
    "## Estudiar las condiciones de las tarifas"
   ]
  },
  {
   "cell_type": "code",
   "execution_count": 20,
   "metadata": {
    "id": "i409op8p0q1F"
   },
   "outputs": [
    {
     "name": "stdout",
     "output_type": "stream",
     "text": [
      "Descripción de la tarifas Surf\n",
      " messages_included           50.0\n",
      "mb_per_month_included    15360.0\n",
      "minutes_included           500.0\n",
      "usd_monthly_pay             20.0\n",
      "Name: 0, dtype: float64 \n",
      "\n",
      "Precios si se exceden los límites del paquete Surf\n",
      " usd_per_gb         10.00\n",
      "usd_per_message     0.03\n",
      "usd_per_minute      0.03\n",
      "Name: 0, dtype: float64 \n",
      "\n",
      "Descricion de la tarifa plan ultimate\n",
      " messages_included         1000.0\n",
      "mb_per_month_included    30720.0\n",
      "minutes_included          3000.0\n",
      "usd_monthly_pay             70.0\n",
      "Name: 1, dtype: float64 \n",
      "\n",
      "Precios si se exceden los límites del paquete Ultimate\n",
      " usd_per_gb         7.00\n",
      "usd_per_message    0.01\n",
      "usd_per_minute     0.01\n",
      "Name: 1, dtype: float64 \n",
      "\n"
     ]
    }
   ],
   "source": [
    "# Imprime las condiciones de la tarifa y asegúrate de que te quedan claras\n",
    "df_megaline_plan_normal=df_megaline_plans.loc[:, 'messages_included':'usd_monthly_pay']\n",
    "df_megaline_plan_exceed=df_megaline_plans.loc[:,'usd_per_gb':'usd_per_minute']\n",
    "print('Descripción de la tarifas Surf\\n', df_megaline_plan_normal.loc[0], '\\n')\n",
    "print('Precios si se exceden los límites del paquete Surf\\n', df_megaline_plan_exceed.loc[0], '\\n')\n",
    "print('Descricion de la tarifa plan ultimate\\n', df_megaline_plan_normal.loc[1], '\\n')\n",
    "print('Precios si se exceden los límites del paquete Ultimate\\n', df_megaline_plan_exceed.loc[1], '\\n')"
   ]
  },
  {
   "cell_type": "markdown",
   "metadata": {
    "id": "hMR1tP5d0q1F"
   },
   "source": [
    "## Agregar datos por usuario\n",
    "\n",
    "[Ahora que los datos están limpios, agrega los datos por usuario y por periodo para que solo haya un registro por usuario y por periodo. Esto facilitará mucho el análisis posterior.]"
   ]
  },
  {
   "cell_type": "code",
   "execution_count": 21,
   "metadata": {
    "id": "A332cedB0q1G"
   },
   "outputs": [
    {
     "name": "stdout",
     "output_type": "stream",
     "text": [
      "Llamadas hechas por cada usuario al mes:\n",
      " user_id  call_date\n",
      "1000     12           16\n",
      "1001     8            27\n",
      "         9            49\n",
      "         10           65\n",
      "         11           64\n",
      "                      ..\n",
      "1498     12           39\n",
      "1499     9            41\n",
      "         10           53\n",
      "         11           45\n",
      "         12           65\n",
      "Name: user_id, Length: 2258, dtype: int64\n"
     ]
    }
   ],
   "source": [
    "# Calcula el número de llamadas hechas por cada usuario al mes. Guarda el resultado.\n",
    "# Se agrupa la información, por user_id, se extrae el mes de la fecha y se hace el conteo de la llamadas.\n",
    "df_call_by_user_month=df_megaline_calls.groupby([df_megaline_calls['user_id'], df_megaline_calls['call_date'].dt.month])['user_id'].count()\n",
    "print('Llamadas hechas por cada usuario al mes:\\n', df_call_by_user_month)"
   ]
  },
  {
   "cell_type": "markdown",
   "metadata": {},
   "source": [
    "<div class=\"alert alert-block alert-warning\">\n",
    "\n",
    "<b>Comentario revisor</b> <a class=\"tocSkip\"></a>\n",
    "\n",
    "Si bien es correcta la forma de agrupar para sacar la duración de las llamadas por cada ususario, para proximas ocasiones puedes hacer uso de la siguiente forma:\n",
    "    \n",
    "    pivot_calls = calls.pivot_table(index=['user_id', 'month'],\n",
    "                                values=['duration'],\n",
    "                                aggfunc=['sum','count']).reset_index()\n",
    "\n",
    "</div>\n",
    "\n"
   ]
  },
  {
   "cell_type": "code",
   "execution_count": 22,
   "metadata": {
    "id": "aw2cmuql0q1G"
   },
   "outputs": [
    {
     "name": "stdout",
     "output_type": "stream",
     "text": [
      "Minutos gastados por cada usuario al mes\n",
      " user_id  call_date\n",
      "1000     12           124.0\n",
      "1001     8            182.0\n",
      "         9            315.0\n",
      "         10           393.0\n",
      "         11           426.0\n",
      "                      ...  \n",
      "1498     12           339.0\n",
      "1499     9            346.0\n",
      "         10           385.0\n",
      "         11           308.0\n",
      "         12           496.0\n",
      "Name: duration_round, Length: 2258, dtype: float64\n"
     ]
    }
   ],
   "source": [
    "# Calcula la cantidad de minutos usados por cada usuario al mes. Guarda el resultado.\n",
    "# Se agrupa la información, por user_id, se extrae el mes de la fecha y se hace la suma de los minutos usados.\n",
    "df_min_by_user_month=df_megaline_calls.groupby([df_megaline_calls['user_id'], df_megaline_calls['call_date'].dt.month])['duration_round'].sum()\n",
    "print('Minutos gastados por cada usuario al mes\\n', df_min_by_user_month)"
   ]
  },
  {
   "cell_type": "code",
   "execution_count": 23,
   "metadata": {
    "id": "CcQvNHn60q1G"
   },
   "outputs": [
    {
     "name": "stdout",
     "output_type": "stream",
     "text": [
      "Mensajes enviados por usuario al mes: \n",
      " user_id  message_date\n",
      "1000     12              11\n",
      "1001     8               30\n",
      "         9               44\n",
      "         10              53\n",
      "         11              36\n",
      "                         ..\n",
      "1496     9               21\n",
      "         10              18\n",
      "         11              13\n",
      "         12              11\n",
      "1497     12              50\n",
      "Name: user_id, Length: 1806, dtype: int64\n"
     ]
    }
   ],
   "source": [
    "# Calcula el número de mensajes enviados por cada usuario al mes. Guarda el resultado.\n",
    "# Se agrupa la información, por user_id, se extrae el mes de la fecha y se hace el conteo de los mensajes enviados.\n",
    "df_message_by_user_month=df_megaline_messages.groupby([df_megaline_messages['user_id'], df_megaline_messages['message_date'].dt.month])['user_id'].count()\n",
    "print('Mensajes enviados por usuario al mes: \\n', df_message_by_user_month)"
   ]
  },
  {
   "cell_type": "code",
   "execution_count": 24,
   "metadata": {
    "id": "H1AqN2eG0q1H"
   },
   "outputs": [
    {
     "name": "stdout",
     "output_type": "stream",
     "text": [
      "Mensajes enviados por usuario al mes: \n",
      " user_id  session_date\n",
      "1000     12               1901\n",
      "1001     8                6919\n",
      "         9               13315\n",
      "         10              22330\n",
      "         11              18504\n",
      "                         ...  \n",
      "1498     12              23138\n",
      "1499     9               12985\n",
      "         10              19492\n",
      "         11              16814\n",
      "         12              22059\n",
      "Name: mb_used, Length: 2277, dtype: int64\n"
     ]
    }
   ],
   "source": [
    "# Calcula el volumen del tráfico de Internet usado por cada usuario al mes. Guarda el resultado.\n",
    "# Se agrupa la información por user_id, se extrae el mes de la fecha, se hace la suma de los megas usados y se redondean estos datos convirtiéndolos a int.\n",
    "df_mb_by_user_month=df_megaline_internet.groupby([df_megaline_internet['user_id'], df_megaline_internet['session_date'].dt.month])['mb_used'].sum().round().astype('int')\n",
    "print('Mensajes enviados por usuario al mes: \\n', df_mb_by_user_month)"
   ]
  },
  {
   "cell_type": "code",
   "execution_count": 25,
   "metadata": {
    "id": "FW99ykyf0q1H"
   },
   "outputs": [
    {
     "name": "stdout",
     "output_type": "stream",
     "text": [
      "      user_id  month  call_user_monthly  min_user_monthly  \\\n",
      "0        1000     12               16.0             124.0   \n",
      "1        1001      8               27.0             182.0   \n",
      "2        1001      9               49.0             315.0   \n",
      "3        1001     10               65.0             393.0   \n",
      "4        1001     11               64.0             426.0   \n",
      "...       ...    ...                ...               ...   \n",
      "2288     1498     12               39.0             339.0   \n",
      "2289     1499      9               41.0             346.0   \n",
      "2290     1499     10               53.0             385.0   \n",
      "2291     1499     11               45.0             308.0   \n",
      "2292     1499     12               65.0             496.0   \n",
      "\n",
      "      message_user_monthly  mb_user_monthly  \n",
      "0                     11.0           1901.0  \n",
      "1                     30.0           6919.0  \n",
      "2                     44.0          13315.0  \n",
      "3                     53.0          22330.0  \n",
      "4                     36.0          18504.0  \n",
      "...                    ...              ...  \n",
      "2288                   NaN          23138.0  \n",
      "2289                   NaN          12985.0  \n",
      "2290                   NaN          19492.0  \n",
      "2291                   NaN          16814.0  \n",
      "2292                   NaN          22059.0  \n",
      "\n",
      "[2293 rows x 6 columns]\n"
     ]
    }
   ],
   "source": [
    "# Fusiona los datos de llamadas, minutos, mensajes e Internet con base en user_id y month\n",
    "# Se hace una concatenación de los groupby anteriormente realizados de las llamadas, mensajes, minutos y megas.  \n",
    "# Se usa reset_index(inplace=True) en la tabla concatenada ya que este método hace que reconozca los meses como una columna.\n",
    "# Se le cambia el nombre a month para que sea más descriptivo.\n",
    "df_consume_user=pd.concat([df_call_by_user_month, df_min_by_user_month, df_message_by_user_month, df_mb_by_user_month], axis='columns')\n",
    "df_consume_user.columns = ['call_user_monthly', 'min_user_monthly', 'message_user_monthly', 'mb_user_monthly']\n",
    "df_consume_user.reset_index(inplace=True)\n",
    "columns_new = {'level_1':'month'}\n",
    "df_consume_user = df_consume_user.rename(columns = columns_new)\n",
    "print(df_consume_user)"
   ]
  },
  {
   "cell_type": "markdown",
   "metadata": {},
   "source": [
    "<div class=\"alert alert-block alert-success\">\n",
    "<b>Comentario del revisor</b> <a class=\"tocSkip\"></a>\n",
    "\n",
    "Muy buen trabajo!! el merge es correcto para unir todas las bases trabajadas.\n",
    "    \n",
    "</div>"
   ]
  },
  {
   "cell_type": "code",
   "execution_count": 26,
   "metadata": {
    "id": "0dNOXHag0q1H"
   },
   "outputs": [
    {
     "name": "stdout",
     "output_type": "stream",
     "text": [
      "      user_id  month  call_user_monthly  min_user_monthly  \\\n",
      "0        1000   12.0               16.0             124.0   \n",
      "1        1001    8.0               27.0             182.0   \n",
      "2        1001    9.0               49.0             315.0   \n",
      "3        1001   10.0               65.0             393.0   \n",
      "4        1001   11.0               64.0             426.0   \n",
      "...       ...    ...                ...               ...   \n",
      "2298     1307    NaN                NaN               NaN   \n",
      "2299     1319    NaN                NaN               NaN   \n",
      "2300     1378    NaN                NaN               NaN   \n",
      "2301     1463    NaN                NaN               NaN   \n",
      "2302     1473    NaN                NaN               NaN   \n",
      "\n",
      "      message_user_monthly  mb_user_monthly plan_name  usd_monthly_pay  \n",
      "0                     11.0           1901.0  ultimate             70.0  \n",
      "1                     30.0           6919.0      surf             20.0  \n",
      "2                     44.0          13315.0      surf             20.0  \n",
      "3                     53.0          22330.0      surf             20.0  \n",
      "4                     36.0          18504.0      surf             20.0  \n",
      "...                    ...              ...       ...              ...  \n",
      "2298                   NaN              NaN      surf             20.0  \n",
      "2299                   NaN              NaN      surf             20.0  \n",
      "2300                   NaN              NaN      surf             20.0  \n",
      "2301                   NaN              NaN  ultimate             70.0  \n",
      "2302                   NaN              NaN      surf             20.0  \n",
      "\n",
      "[2303 rows x 8 columns]\n"
     ]
    }
   ],
   "source": [
    "# Se añade la información de la tarifa haciendo un merge con la tabla de usuarios y la tabla concatenada.\n",
    "# Donde se fusionaron los datos de llamadas, minutos, mensajes e Internet con base en user_id.\n",
    "df_consume_user_fee = pd.merge(df_consume_user, df_megaline_user_plan, on=['user_id'], how='outer')\n",
    "df_consume_user_fee.drop(['first_name', 'last_name', 'age', 'city', 'reg_date', 'churn_date'], axis=1, inplace=True)\n",
    "df_consume_user_fee.reset_index(drop=True, inplace=True)\n",
    "#Se puede observar que la tabla resultante del merge tiene datos vacíos por lo cual se procede a llenarlos con 0 para poder realizar los cálculos en los próximos ejercicios.\n",
    "df_consume_user_fee.fillna(0)\n",
    "print(df_consume_user_fee)"
   ]
  },
  {
   "cell_type": "markdown",
   "metadata": {
    "id": "-jtyHzJb0q1I"
   },
   "source": [
    "## Estudia el comportamiento de usuario"
   ]
  },
  {
   "cell_type": "code",
   "execution_count": 27,
   "metadata": {
    "id": "5FGCf_c60q1I"
   },
   "outputs": [],
   "source": [
    "# Calcula el ingreso mensual para cada usuario\n",
    "# Se hace un merge de las tablas df_consume_user_fee(anteriormente obtenida), df_megaline_plans(tabla original con los costos de las tarifas) en la columna plan_name \n",
    "df_consume_user_monthly = pd.merge(df_consume_user_fee, df_megaline_plans, on=['plan_name'], how='left')\n",
    "df_consume_user_monthly.reset_index(drop=True, inplace=True)\n",
    "\n",
    "# Se crea un data frame con solo la información del plan surf, agregando las columnas necesarias para hacer calculos.\n",
    "df_plan_surf=df_consume_user_monthly.query(\"plan_name=='surf'\")[['user_id', 'month', 'min_user_monthly', 'minutes_included', \n",
    "                                                                 'message_user_monthly', 'mb_user_monthly', 'messages_included',\n",
    "                                                                 'mb_per_month_included', 'usd_monthly_pay_x', 'usd_per_gb', \n",
    "                                                                 'usd_per_message', 'usd_per_minute', 'plan_name', 'call_user_monthly']]\n",
    "# Se crea un data frame con solo la información del plan ultimate, agregando las columnas necesarias para hacer calculos.\n",
    "df_plan_ultimate=df_consume_user_monthly.query(\"plan_name=='ultimate'\")[['user_id', 'month', 'min_user_monthly', 'minutes_included', \n",
    "                                                                 'message_user_monthly', 'mb_user_monthly', 'messages_included',\n",
    "                                                                 'mb_per_month_included', 'usd_monthly_pay_x', 'usd_per_gb', \n",
    "                                                                 'usd_per_message', 'usd_per_minute', 'plan_name', 'call_user_monthly']]\n",
    "# Cálculo minutos surf, se restan los minutos incluidos de los minutos que el usuario uso en el mes.\n",
    "# Como algunos lo excedieron la resta da resultados negativos, por que se usa abs() para pasarlos a positivo.\n",
    "# Se crea un nuevo dataframe para guardar la consulta donde se revisa si los minutos al mes gastados por el usuario son mayores a los que incluye el plan.\n",
    "# Entonces se hace la multiplicación del exceso de los minutos por el costo de un minuto que excedió el plan. \n",
    "# El costo extra obtenido se guarda en una nueva columna. \n",
    "df_plan_surf['surf_montly_min']=df_plan_surf['minutes_included']-df_plan_surf['min_user_monthly']\n",
    "df_plan_surf['surf_montly_min']=df_plan_surf['surf_montly_min'].abs()\n",
    "df_plan_surf_min=df_plan_surf.query(\"surf_montly_min > minutes_included\")[['user_id', 'month', \n",
    "                                                                          'surf_montly_min',\n",
    "                                                                          'minutes_included',\n",
    "                                                                          'usd_per_minute',\n",
    "                                                                          'plan_name']]\n",
    "df_plan_surf_min['extra_surf_montly_min']=df_plan_surf_min['surf_montly_min']*df_plan_surf_min['usd_per_minute']\n",
    "# Cálculo mensajes surf, se restan los minutos incluidos de los minutos que el usuario uso en el mes.\n",
    "# Como algunos lo excedieron la resta da resultados negativos, por que se usa abs() para pasarlos a positivo.\n",
    "# Se crea un nuevo dataframe para guardar la consulta donde se revisa si los mensajes al mes gastados por el usuario son mayores a los que incluye el plan.\n",
    "# Entonces se hace la multiplicación del exceso de los mensajes por el costo de un minuto que excedió el plan. \n",
    "# El costo extra obtenido se guarda en una nueva columna.\n",
    "df_plan_surf['surf_montly_men']=df_plan_surf['messages_included']-df_plan_surf['message_user_monthly']\n",
    "df_plan_surf['surf_montly_men']=df_plan_surf['surf_montly_men'].abs()\n",
    "df_plan_surf_men=df_plan_surf.query(\"surf_montly_men > messages_included\")[['user_id', 'month', \n",
    "                                                                           'surf_montly_men', \n",
    "                                                                           'messages_included', \n",
    "                                                                           'usd_per_message',\n",
    "                                                                           'plan_name']]\n",
    "df_plan_surf_men['extra_surf_montly_men']=df_plan_surf_men['surf_montly_men']*df_plan_surf_men['usd_per_message']\n",
    "# Calculo mb surf, se restan los mb incluidos de los mb que el usuario uso en el mes.\n",
    "# Como algunos lo excedieron la resta da resultados negativos, por que se usa abs() para pasarlos a positivo.\n",
    "# Se crea un nuevo dataframe para guardar la consulta donde se revisa si los mb al mes gastados por el usuario son mayores a los que incluye el plan.\n",
    "# Como el costo extra de megas se maneja como usd_per_gb, primero se convierten los mb a gb 1 GB = 1024 megabytes.\n",
    "# Entonces se hace la multiplicación del exceso de los mb por el costo de un minuto que excedió el plan. \n",
    "# El costo extra obtenido se guarda en una nueva columna. \n",
    "# Se hace el redondeo de la columna surf_montly_mb hacia arriba con apply(np.ceil)\n",
    "df_plan_surf['surf_montly_mb']=df_plan_surf['mb_per_month_included']-df_plan_surf['mb_user_monthly']\n",
    "df_plan_surf['surf_montly_mb']=df_plan_surf['surf_montly_mb'].abs()\n",
    "df_plan_surf_mb=df_plan_surf.query(\"surf_montly_mb > mb_per_month_included\")[['user_id', 'month', \n",
    "                                                                             'surf_montly_mb',\n",
    "                                                                             'mb_per_month_included', \n",
    "                                                                             'usd_per_gb',\n",
    "                                                                             'plan_name']]\n",
    "df_plan_surf_mb['surf_montly_mb']=df_plan_surf_mb['surf_montly_mb']/1024\n",
    "df_plan_surf_mb['surf_montly_mb']=df_plan_surf_mb['surf_montly_mb'].apply(np.ceil)\n",
    "df_plan_surf_mb['extra_surf_montly_mb']=df_plan_surf_mb['surf_montly_mb']*df_plan_surf_mb['usd_per_gb']\n",
    "# Calculo minutos ultimate, se restan los minutos incluidos de los minutos que el usuario uso en el mes.\n",
    "# Como algunos lo excedieron la resta da resultados negativos, por que se usa abs() para pasarlos a positivo.\n",
    "# Se crea un nuevo dataframe para guardar la consulta donde se revisa si los minutos al mes gastados por el usuario son mayores a los que incluye el plan.\n",
    "# Entonces se hace la multiplicación del exceso de los minutos por el costo de un minuto que excedió el plan. \n",
    "# El costo extra obtenido se guarda en una nueva columna. \n",
    "df_plan_ultimate['ultimate_montly_min']=df_plan_ultimate['minutes_included']-df_plan_ultimate['min_user_monthly']\n",
    "df_plan_ultimate['ultimate_montly_min']=df_plan_ultimate['ultimate_montly_min'].abs()\n",
    "df_plan_ultimate_min=df_plan_ultimate.query(\"ultimate_montly_min > minutes_included\")[['user_id', 'month', \n",
    "                                                                                      'ultimate_montly_min',\n",
    "                                                                                      'usd_per_minute',\n",
    "                                                                                      'plan_name']]\n",
    "df_plan_ultimate_min['extra_ultimate_montly_min']=df_plan_ultimate_min['ultimate_montly_min']*df_plan_ultimate_min['usd_per_minute']\n",
    "# Calculo mensajes ultimate, se restan los minutos incluidos de los minutos que el usuario uso en el mes.\n",
    "# Como algunos lo excedieron la resta da resultados negativos, por que se usa abs() para pasarlos a positivo.\n",
    "# Se crea un nuevo dataframe para guardar la consulta donde se revisa si los mensajes al mes gastados por el usuario son mayores a los que incluye el plan.\n",
    "# Entonces se hace la multiplicación del exceso de los mensajes por el costo de un minuto que excedió el plan. \n",
    "# El costo extra obtenido se guarda en una nueva columna.\n",
    "df_plan_ultimate['ultimate_montly_men']=df_plan_ultimate['messages_included']-df_plan_ultimate['message_user_monthly']\n",
    "df_plan_ultimate_men=df_plan_ultimate.query(\"ultimate_montly_men > messages_included\")[['user_id', 'month', \n",
    "                                                                                       'ultimate_montly_men', \n",
    "                                                                                       'messages_included', \n",
    "                                                                                       'usd_per_message',\n",
    "                                                                                       'plan_name']]\n",
    "df_plan_ultimate_men['extra_ultimate_montly_men']=df_plan_ultimate_men['ultimate_montly_men']*df_plan_ultimate_men['usd_per_message']\n",
    "# Calculo mb ultimate, se restan los mb incluidos de los mb que el usuario uso en el mes.\n",
    "# Como algunos lo excedieron la resta da resultados negativos, por que se usa abs() para pasarlos a positivo.\n",
    "# Se crea un nuevo dataframe para guardar la consulta donde se revisa si los mb al mes gastados por el usuario son mayores a los que incluye el plan.\n",
    "# Como el costo extra de megas se maneja como usd_per_gb, primero se convierten los mb a gb 1 GB = 1024 megabytes.\n",
    "# Entonces se hace la multiplicación del exceso de los mb por el costo de un minuto que excedió el plan. \n",
    "# El costo extra obtenido se guarda en una nueva columna.\n",
    "# Se hace el redondeo de la columna ultimate_montly_mb hacia arriba con apply(np.ceil)\n",
    "df_plan_ultimate['ultimate_montly_mb']=df_plan_ultimate['mb_per_month_included']-df_plan_ultimate['mb_user_monthly']\n",
    "df_plan_ultimate['ultimate_montly_mb']=df_plan_ultimate['ultimate_montly_mb'].abs()\n",
    "df_plan_ultimate_mb=df_plan_ultimate.query(\"ultimate_montly_mb > mb_per_month_included\")[['user_id', 'month', \n",
    "                                                                                         'ultimate_montly_mb', \n",
    "                                                                                         'mb_per_month_included', \n",
    "                                                                                         'usd_per_gb',\n",
    "                                                                                         'plan_name']]\n",
    "df_plan_ultimate_mb['ultimate_montly_mb']=df_plan_ultimate['ultimate_montly_mb']/1024\n",
    "df_plan_ultimate_mb['ultimate_montly_mb']=df_plan_ultimate_mb['ultimate_montly_mb'].apply(np.ceil)\n",
    "df_plan_ultimate_mb['extra_ultimate_montly_mb']=df_plan_ultimate_mb['ultimate_montly_mb']*df_plan_ultimate_mb['usd_per_gb']"
   ]
  },
  {
   "cell_type": "markdown",
   "metadata": {},
   "source": [
    "<div class=\"alert alert-block alert-danger\">\n",
    "<b>Comentario revisor</b> <a class=\"tocSkip\"></a>\n",
    "\n",
    "\n",
    "Recuerda que para este punto, es necesario  redondear la transformación de megabytes a gigabytes. Esto cobra importancia dado que estamos calculando por cuanto se paso cada usuario, entonces el no redondear puede alterar este valor.\n",
    "</div>"
   ]
  },
  {
   "cell_type": "markdown",
   "metadata": {},
   "source": [
    "<div class=\"alert alert-block alert-success\">\n",
    "<b>Comentario del revisor</b> <a class=\"tocSkip\"></a>\n",
    "\n",
    "Muy buen trabajo con los ajustes!\n",
    "</div>"
   ]
  },
  {
   "cell_type": "code",
   "execution_count": 28,
   "metadata": {},
   "outputs": [
    {
     "name": "stdout",
     "output_type": "stream",
     "text": [
      "Tarifa total en USD usuarios Surf:  31460.0\n",
      "Tarifa total en USD usuarios Ultimate:  50400.0\n"
     ]
    }
   ],
   "source": [
    "# En esta parte se está haciendo el cálculo de total de la tarifa de los usuario de cada plan, para ello se agrupan por user_ id y month.\n",
    "# A esto se le aplica el método sum() dos veces para obtener el total. \n",
    "surf_usd_monthly_pay_total=df_plan_surf.groupby(['user_id', 'month'])['usd_monthly_pay_x'].sum().sum()\n",
    "print(\"Tarifa total en USD usuarios Surf: \", surf_usd_monthly_pay_total)\n",
    "ultimate_usd_monthly_pay_total=df_plan_ultimate.groupby(['user_id', 'month'])['usd_monthly_pay_x'].sum().sum()\n",
    "print(\"Tarifa total en USD usuarios Ultimate: \", ultimate_usd_monthly_pay_total)\n"
   ]
  },
  {
   "cell_type": "code",
   "execution_count": 29,
   "metadata": {},
   "outputs": [
    {
     "name": "stdout",
     "output_type": "stream",
     "text": [
      "Tarifa total en USD usuarios Surf más los gastos extra:  46249.770000000004\n"
     ]
    }
   ],
   "source": [
    "# De los cálculos realizados anteriormente para obtener los gastos extra que hicieron los usuarios de cada plan. \n",
    "# Esta parte se están concatenando estos resultados, gastos extra por minutos, mensajes y megas. \n",
    "# Se está haciendo una concatenación de las tablas donde se obtuvieron los resultados de los gastos extra y se borran las columnas sobrantes. \n",
    "# Una vez obtenido el total extra se suma al total de la tarifa de cada plan y se obtiene el total de la tarifa de cada plan. \n",
    "# Cabe resaltar que de acuerdo a los cálculos realizados se encontró que en el plan ultimate los usuarios no excedieron los límites el plan por ello para el cálculo de esta tarifa no hay un gasto extra que sumar. \n",
    "df_consume_extra_fee = pd.concat([df_plan_surf_min, df_plan_surf_men, df_plan_surf_mb, \n",
    "                                df_plan_ultimate_min, df_plan_ultimate_men, df_plan_ultimate_mb], axis=0)\n",
    "df_consume_extra_fee.drop(['surf_montly_min', 'minutes_included', 'usd_per_minute', \n",
    "                           'surf_montly_men', 'messages_included', 'usd_per_message',\n",
    "                          'surf_montly_mb', 'mb_per_month_included', 'usd_per_gb',\n",
    "                          'ultimate_montly_min','ultimate_montly_men', 'ultimate_montly_mb'], axis=1, inplace=True)\n",
    "df_consume_extra_fee.reset_index(drop=True, inplace=True)\n",
    "\n",
    "extra_total_surf=(df_consume_extra_fee['extra_surf_montly_min'].sum())+(df_consume_extra_fee['extra_surf_montly_men'].sum())+(df_consume_extra_fee['extra_surf_montly_mb'].sum())\n",
    "total_surf_pay=(extra_total_surf+surf_usd_monthly_pay_total)\n",
    "print(\"Tarifa total en USD usuarios Surf más los gastos extra: \", total_surf_pay)"
   ]
  },
  {
   "cell_type": "code",
   "execution_count": 30,
   "metadata": {},
   "outputs": [
    {
     "data": {
      "text/plain": [
       "<matplotlib.legend.Legend at 0x7f77758ddcd0>"
      ]
     },
     "execution_count": 30,
     "metadata": {},
     "output_type": "execute_result"
    },
    {
     "data": {
      "image/png": "[encoded data removed]",
      "text/plain": [
       "<Figure size 640x480 with 1 Axes>"
      ]
     },
     "metadata": {},
     "output_type": "display_data"
    }
   ],
   "source": [
    "# Se crean histogramas para mostrar el comportamiento de gastos extra en minutos en cada uno de los planes. \n",
    "df_plan_surf_min['extra_surf_montly_min'].plot(kind='hist', bins = 20, title = 'Extra / Minutes', ylabel = 'Frequency')\n",
    "df_plan_ultimate_min['extra_ultimate_montly_min'].plot(kind='hist', bins = 20, title = 'Extra / Minutes', ylabel = 'Frequency')\n",
    "plt.legend(['Surf', 'Ultimate'])"
   ]
  },
  {
   "cell_type": "code",
   "execution_count": 31,
   "metadata": {},
   "outputs": [
    {
     "data": {
      "text/plain": [
       "<matplotlib.legend.Legend at 0x7f7778b4c670>"
      ]
     },
     "execution_count": 31,
     "metadata": {},
     "output_type": "execute_result"
    },
    {
     "data": {
      "image/png": "[encoded data removed]",
      "text/plain": [
       "<Figure size 640x480 with 1 Axes>"
      ]
     },
     "metadata": {},
     "output_type": "display_data"
    }
   ],
   "source": [
    "# Se crean histogramas para mostrar el comportamiento de gastos extra en mensajes en cada uno de los planes. \n",
    "df_plan_surf_men['extra_surf_montly_men'].plot(kind='hist', bins = 20, title = 'Extra / Messages', ylabel = 'Frequency')\n",
    "df_plan_ultimate_men['extra_ultimate_montly_men'].plot(kind='hist', bins = 20, title = 'Extra / Messages', ylabel = 'Frequency')\n",
    "plt.legend(['Surf', 'Ultimate'])"
   ]
  },
  {
   "cell_type": "code",
   "execution_count": 32,
   "metadata": {},
   "outputs": [
    {
     "data": {
      "text/plain": [
       "<matplotlib.legend.Legend at 0x7f7778add8b0>"
      ]
     },
     "execution_count": 32,
     "metadata": {},
     "output_type": "execute_result"
    },
    {
     "data": {
      "image/png": "[encoded data removed]",
      "text/plain": [
       "<Figure size 640x480 with 1 Axes>"
      ]
     },
     "metadata": {},
     "output_type": "display_data"
    }
   ],
   "source": [
    "# Se crean histogramas para mostrar el comportamiento de gastos extra en mb en cada uno de los planes. \n",
    "df_plan_surf_mb['extra_surf_montly_mb'].plot(kind='hist', bins = 20, title = 'Extra / MB', ylabel = 'Frequency')\n",
    "df_plan_ultimate_mb['extra_ultimate_montly_mb'].plot(kind='hist', bins = 20, title = 'Extra / MB', ylabel = 'Frequency')\n",
    "plt.legend(['Surf', 'Ultimate'])"
   ]
  },
  {
   "cell_type": "markdown",
   "metadata": {
    "id": "vtW4CJEe0q1J"
   },
   "source": [
    "### Llamadas"
   ]
  },
  {
   "cell_type": "markdown",
   "metadata": {
    "id": "Jf5v5--k0q1J"
   },
   "source": [
    "# Compara la duración promedio de llamadas por cada plan y por cada mes. Traza un gráfico de barras para visualizarla.\n"
   ]
  },
  {
   "cell_type": "code",
   "execution_count": 33,
   "metadata": {
    "id": "QoLqW1S_0q1J"
   },
   "outputs": [
    {
     "data": {
      "image/png": "[encoded data removed]",
      "text/plain": [
       "<Figure size 1000x400 with 1 Axes>"
      ]
     },
     "metadata": {},
     "output_type": "display_data"
    }
   ],
   "source": [
    "# Compara el número de minutos mensuales que necesitan los usuarios de cada plan. Traza un histograma.\n",
    "# Se está usando el metodo pivot_table para agrupar los datos que muestran el la duración promedio de las llamadas al mes por plan de cada usuario. \n",
    "# Se agrega una tabla que muestra los resultados.\n",
    "df_consume_user_monthly.groupby(['month', 'plan_name']).agg({\"min_user_monthly\":\"mean\"})\n",
    "df_consume_user_monthly['month']\n",
    "consume_user_monthly_min=df_consume_user_monthly.pivot_table(columns='plan_name', \n",
    "                                                             index='month', \n",
    "                                                             values=\"min_user_monthly\", \n",
    "                                                             aggfunc='mean')\n",
    "consume_user_monthly_min.plot(kind='bar', \n",
    "                          title='Duración promedio de llamadas por plan y mes',\n",
    "                          xlabel='Mes',\n",
    "                          ylabel='Minutos',\n",
    "                          figsize=[10,4])\n",
    "plt.legend(['Surf', 'Ultimate'])\n",
    "plt.show()"
   ]
  },
  {
   "cell_type": "code",
   "execution_count": 34,
   "metadata": {
    "id": "oSndbAnt0q1K"
   },
   "outputs": [
    {
     "name": "stdout",
     "output_type": "stream",
     "text": [
      "La mediana es igual a: \n",
      " plan_name\n",
      "surf        419.291020\n",
      "ultimate    424.252208\n",
      "dtype: float64\n",
      "La varianza es igual a: \n",
      " plan_name\n",
      "surf        5843.400884\n",
      "ultimate    6085.246960\n",
      "dtype: float64\n"
     ]
    }
   ],
   "source": [
    "# Calcula la media y la varianza de la duración mensual de llamadas.\n",
    "print('La mediana es igual a: \\n', consume_user_monthly_min.median())\n",
    "print('La varianza es igual a: \\n', np.var(consume_user_monthly_min))"
   ]
  },
  {
   "cell_type": "code",
   "execution_count": 35,
   "metadata": {
    "id": "nZzoRUKc0q1K"
   },
   "outputs": [
    {
     "data": {
      "image/png": "[encoded data removed]",
      "text/plain": [
       "<Figure size 640x480 with 1 Axes>"
      ]
     },
     "metadata": {},
     "output_type": "display_data"
    }
   ],
   "source": [
    "# Traza un diagrama de caja para visualizar la distribución de la duración mensual de llamadas\n",
    "diagrama_caja_surf=sns.boxplot(consume_user_monthly_min['surf'], x='Minutes')\n",
    "diagrama_caja_ultimate=sns.boxplot(consume_user_monthly_min['ultimate'], x='Minutes', color='orange')\n",
    "plt.show()"
   ]
  },
  {
   "cell_type": "markdown",
   "metadata": {
    "id": "r627zBO50q1K"
   },
   "source": [
    "De acuerdo al diagrama de caja mostrado, se puede observar que el valor mínimo en ambos planes queda cerca de los 300 minutos. La mediana para ambos planes es alrededor de 400 minutos y un valor máximo que ronda alrededor de 450 minutos para ambos planes. Con esto podemos llegar a la conclusión de que los usuario del plan surf son quienes están excediendo el límite de su plan, usando un promedio similar de minutos a los usuarios de ultimate."
   ]
  },
  {
   "cell_type": "markdown",
   "metadata": {
    "id": "8idKy8Wh0q1L"
   },
   "source": [
    "### Mensajes"
   ]
  },
  {
   "cell_type": "code",
   "execution_count": 36,
   "metadata": {
    "id": "NXLxiTit0q1L"
   },
   "outputs": [
    {
     "data": {
      "image/png": "[encoded data removed]",
      "text/plain": [
       "<Figure size 1000x400 with 1 Axes>"
      ]
     },
     "metadata": {},
     "output_type": "display_data"
    }
   ],
   "source": [
    "# Comprara el número de mensajes que tienden a enviar cada mes los usuarios de cada plan\n",
    "# Se está usando el metodo pivot_table para agrupar los datos que muestran el promedio de mensajes al mes por plan de cada usuario. \n",
    "# Se agrega una tabla que muestra los resultados.\n",
    "df_consume_user_monthly['month']=df_consume_user_monthly['month'].fillna(0).astype('int')\n",
    "consume_user_monthly_men=df_consume_user_monthly.pivot_table(columns='plan_name', \n",
    "                                                             index='month', \n",
    "                                                             values=\"message_user_monthly\", \n",
    "                                                             aggfunc='mean')\n",
    "consume_user_monthly_men.plot(kind='bar', \n",
    "                          title='Envio promedio de mensajes por plan al mes',\n",
    "                          xlabel='Mes',\n",
    "                          ylabel='Mensajes',\n",
    "                          figsize=[10,4])\n",
    "plt.legend(['Surf', 'Ultimate'])\n",
    "plt.show()"
   ]
  },
  {
   "cell_type": "markdown",
   "metadata": {
    "id": "390SSL480q1M"
   },
   "source": [
    "En la gráfica se observa que, tanto los usuarios de plan surf como los usuarios del plan ultimate están enviando la misma cantidad de mensajes. cabe resaltar que el plan ultimate tiene un límite de 1000 mensajes a los usuarios de este plan no se están acercando para nada. en cambio los usuario de plan surf apenas llegan se límite que es 50, con lo cual podemos concluir que solo urante los últimos meses del año los usuarios de surf son los que están más cerca se pasar el límite de mensajes incluidos en su plan. "
   ]
  },
  {
   "cell_type": "markdown",
   "metadata": {
    "id": "42YSypXz0q1M"
   },
   "source": [
    "### Internet"
   ]
  },
  {
   "cell_type": "code",
   "execution_count": 46,
   "metadata": {
    "id": "lSuKPtjh0q1M"
   },
   "outputs": [],
   "source": [
    "# Compara la cantidad de tráfico de Internet consumido por usuarios por plan\n",
    "# Se está usando el metodo pivot_table para agrupar los datos que muestran el promedio de mb al mes por plan de cada usuario. \n",
    "# Se agrega una tabla que muestra los resultados.\n",
    "df_consume_user_monthly['month']=df_consume_user_monthly['month'].astype('int')\n",
    "consume_user_monthly_mb=df_consume_user_monthly.pivot_table(columns='plan_name', \n",
    "                                                            index='month', \n",
    "                                                            values=\"mb_user_monthly\", \n",
    "                                                            aggfunc='mean')"
   ]
  },
  {
   "cell_type": "code",
   "execution_count": 38,
   "metadata": {
    "id": "wnh8jYXi0q1N"
   },
   "outputs": [
    {
     "data": {
      "image/png": "[encoded data removed]",
      "text/plain": [
       "<Figure size 1000x400 with 1 Axes>"
      ]
     },
     "metadata": {},
     "output_type": "display_data"
    }
   ],
   "source": [
    "consume_user_monthly_mb.plot(kind='bar', \n",
    "                          title='Cantidad promedio consumida de MB por plan al mes',\n",
    "                          xlabel='Mes',\n",
    "                          ylabel='Megas(MB)',\n",
    "                          figsize=[10,4])\n",
    "plt.legend(['Surf', 'Ultimate'])\n",
    "plt.show()"
   ]
  },
  {
   "cell_type": "markdown",
   "metadata": {
    "id": "UN9zwuMP0q1N"
   },
   "source": [
    "En la mayoría de los meses se observa que el comportamiento del uso de los megas de cada usuario, en el plan ultimate es superior. pero cabe resaltar que la cantidad promedio de uso de los megas en el plan surf los usuarios están usando una cantidad similar de megas a los de plan ultimate, por lo que podemos concluir que los usuarios de plan surf están excediendo el límite de megas en el plan surf."
   ]
  },
  {
   "cell_type": "markdown",
   "metadata": {
    "id": "tCijq3260q1N"
   },
   "source": [
    "## Ingreso"
   ]
  },
  {
   "cell_type": "code",
   "execution_count": 39,
   "metadata": {
    "scrolled": false
   },
   "outputs": [
    {
     "data": {
      "image/png": "[encoded data removed]",
      "text/plain": [
       "<Figure size 640x480 with 1 Axes>"
      ]
     },
     "metadata": {},
     "output_type": "display_data"
    }
   ],
   "source": [
    "# En esta parte se está creando una pivot_table que filtra los datos por gasto mensual \n",
    "# Después se crea una gráfica de barras para comparar el ingreso por mes en cada uno de los planes.\n",
    "df_consume_user_monthly['month']=df_consume_user_monthly['month'].fillna(0).astype('int')\n",
    "consume_month=df_consume_user_monthly.pivot_table(columns='plan_name',\n",
    "                                          index='month', \n",
    "                                          values=\"usd_monthly_pay_x\", \n",
    "                                          aggfunc='sum')\n",
    "consume_month.plot(kind='bar', \n",
    "                  title='Cantidad en USD consumida por plan al mes',\n",
    "                  xlabel='Mes',\n",
    "                  ylabel='Cantidad en USD')\n",
    "plt.legend(['Surf', 'Ultimate'])\n",
    "plt.show()"
   ]
  },
  {
   "cell_type": "code",
   "execution_count": 40,
   "metadata": {
    "id": "tz-dq_V00q1O"
   },
   "outputs": [
    {
     "data": {
      "image/png": "[encoded data removed]",
      "text/plain": [
       "<Figure size 640x480 with 1 Axes>"
      ]
     },
     "metadata": {},
     "output_type": "display_data"
    },
    {
     "name": "stdout",
     "output_type": "stream",
     "text": [
      "\n"
     ]
    }
   ],
   "source": [
    "# Se está usando el metodo pivot_table para agrupar los datos que muestran el promedio de gasto extra en minutos al mes por plan de cada usuario. \n",
    "# Se agrega una tabla que muestra los resultados.\n",
    "df_consume_extra_fee['month']=df_consume_extra_fee['month'].fillna(0).astype('int')\n",
    "surf_fee_min=df_consume_extra_fee.pivot_table(columns='plan_name',\n",
    "                                          index='month', \n",
    "                                          values=\"extra_surf_montly_min\", \n",
    "                                          aggfunc='mean')\n",
    "surf_fee_min.plot(kind='bar', \n",
    "                  title='Cantidad promedio en USD excedida por los usuarios de Surf en minutos al mes',\n",
    "                  xlabel='Mes',\n",
    "                  ylabel='Precio en USD')\n",
    "plt.legend(['Surf'])\n",
    "plt.show()\n",
    "print()"
   ]
  },
  {
   "cell_type": "code",
   "execution_count": 41,
   "metadata": {
    "id": "0Y1v8ZUz0q1P"
   },
   "outputs": [
    {
     "data": {
      "image/png": "[encoded data removed]",
      "text/plain": [
       "<Figure size 640x480 with 1 Axes>"
      ]
     },
     "metadata": {},
     "output_type": "display_data"
    }
   ],
   "source": [
    "# Se está usando el metodo pivot_table para agrupar los datos que muestran el promedio de gasto extra en mensajes al mes por plan de cada usuario. \n",
    "# Se agrega una tabla que muestra los resultados.\n",
    "df_consume_extra_fee['month']=df_consume_extra_fee['month'].fillna(0).astype('int')\n",
    "surf_fee_men=df_consume_extra_fee.pivot_table(columns='plan_name',\n",
    "                                          index='month', \n",
    "                                          values=\"extra_surf_montly_men\", \n",
    "                                          aggfunc='mean')\n",
    "surf_fee_men.plot(kind='bar', \n",
    "                  title='Cantidad promedio en USD excedida por los usuarios de Surf en mensajes al mes',\n",
    "                  xlabel='Mes',\n",
    "                  ylabel='Precio en USD')\n",
    "plt.legend(['Surf'])\n",
    "plt.show()"
   ]
  },
  {
   "cell_type": "code",
   "execution_count": 42,
   "metadata": {
    "id": "bYmwxyVh0q1P"
   },
   "outputs": [
    {
     "data": {
      "image/png": "[encoded data removed]",
      "text/plain": [
       "<Figure size 640x480 with 1 Axes>"
      ]
     },
     "metadata": {},
     "output_type": "display_data"
    }
   ],
   "source": [
    "# Se está usando el metodo pivot_table para agrupar los datos que muestran el promedio de gasto extra en mb al mes por plan de cada usuario. \n",
    "# Se agrega una tabla que muestra los resultados.\n",
    "df_consume_extra_fee['month']=df_consume_extra_fee['month'].fillna(0).astype('int')\n",
    "surf_fee_mb=df_consume_extra_fee.pivot_table(columns='plan_name',\n",
    "                                          index='month', \n",
    "                                          values=\"extra_surf_montly_mb\", \n",
    "                                          aggfunc='mean')\n",
    "surf_fee_mb.plot(kind='bar', \n",
    "                  title='Cantidad promedio en USD excedida por los usuarios de Surf en MB al mes',\n",
    "                  xlabel='Mes',\n",
    "                  ylabel='Precio en USD')\n",
    "plt.legend(['Surf'])\n",
    "plt.show()"
   ]
  },
  {
   "cell_type": "markdown",
   "metadata": {
    "id": "KAFidcXZ0q1P"
   },
   "source": [
    "De acuerdo a los cálculos realizados y a las gráficas mostradas anteriormente podemos observar que los usuarios del plan surf están excediendo los límites de su paquete para minutos, mensajes y megas.  Se puede observar que en la segunda mitad del año es cuando hay excesos en los límites. Los usuarios del plan ultimate apenas se acercan a los límites que incluye su paquete. Por lo tanto se puede concluir que los usuarios del plan surf son quienes exceden los límites de sus paquetes. \n"
   ]
  },
  {
   "cell_type": "markdown",
   "metadata": {},
   "source": [
    "<div class=\"alert alert-block alert-success\">\n",
    "<b>Comentario revisor</b> <a class=\"tocSkip\"></a>\n",
    "\n",
    " Muy buena prática la de usar distintos tipos de gráficas identificar algunos hallazgos y llegar a conclusiones. En este caso las gráficas de box-plots nos ayudan a identificar outiers que pueden sesgar nuestros resultados, especificamente las pruebas de hipótesis. Es por ello que con estás gráficas puedes complementar el análisis eliminando los valores atipicos. \n",
    "</div>"
   ]
  },
  {
   "cell_type": "markdown",
   "metadata": {
    "id": "ajJ7VKeI0q1Q"
   },
   "source": [
    "## Prueba las hipótesis estadísticas"
   ]
  },
  {
   "cell_type": "markdown",
   "metadata": {
    "id": "AdXAZ-yL0q1Q"
   },
   "source": [
    "[Prueba la hipótesis de que son diferentes los ingresos promedio procedentes de los usuarios de los planes de llamada Ultimate y Surf.]"
   ]
  },
  {
   "cell_type": "markdown",
   "metadata": {
    "id": "IQwa_hsh0q1Q"
   },
   "source": [
    "Hipótesis nula: El ingreso promedio de los usuarios de las tarifas Ultimate y Surf no difiere.\n",
    "Hipótesis alternativa: El ingreso promedio de los usuarios de las tarifas Ultimate y Surf difiere."
   ]
  },
  {
   "cell_type": "code",
   "execution_count": 43,
   "metadata": {
    "id": "nFoPNlPq0q1R"
   },
   "outputs": [
    {
     "name": "stdout",
     "output_type": "stream",
     "text": [
      "Valor p:  [0.20839074]\n"
     ]
    }
   ],
   "source": [
    "# Prueba las hipótesis\n",
    "# En esta parte se está usando ttest_ind pasando los datos de los ingresos en cada plan para determinar el valor p\n",
    "# Esto es antes de los ingresos extra de surf, aun así se puede notar que el valor p es superior al 10% por lo tanto se acepta la hipótesis nula \n",
    "surf_total=df_consume_user_monthly.groupby(['month', 'plan_name']).agg({\"usd_monthly_pay_x\":\"sum\"}).query(\"plan_name=='surf'\")\n",
    "ultimate_total=df_consume_user_monthly.groupby(['month', 'plan_name']).agg({\"usd_monthly_pay_x\":\"sum\"}).query(\"plan_name=='ultimate'\")\n",
    "p_value=ttest_ind(surf_total, ultimate_total)\n",
    "print('Valor p: ', p_value.pvalue)"
   ]
  },
  {
   "cell_type": "code",
   "execution_count": 44,
   "metadata": {},
   "outputs": [
    {
     "name": "stdout",
     "output_type": "stream",
     "text": [
      "No podemos rechazar la hipótesis nula\n",
      "El ingreso promedio de los usuarios de las tarifas Ultimate y Surf difiere\n"
     ]
    }
   ],
   "source": [
    "# En esta parte se concatenan las tablas que contienen los ingresos extra de surf, se suman para obtener el total de gastos extra de surf.\n",
    "# Despues se está usando ttest_ind pasando los datos de los ingresos en cada plan para determinar el valor p\n",
    "# Esto es ya con los ingresos extra de surf, aun así se puede notar que el valor p es superior al 10% por lo tanto se acepta la hipótesis nula \n",
    "surf_total_extra=pd.concat([consume_month, surf_fee_min, surf_fee_men, surf_fee_mb], axis=1).fillna(0)\n",
    "surf_total_extra.columns = ['surf_total', 'ultimate_total', 'surf_extra_min', 'surf_extra_men', 'surf_extra_mb']\n",
    "surf_total_extra['surf_total_extra']=(surf_total_extra['surf_total']+\n",
    "                                      surf_total_extra['surf_extra_min']+\n",
    "                                      surf_total_extra['surf_extra_men']+\n",
    "                                      surf_total_extra['surf_extra_mb'])\n",
    "total_surf=surf_total_extra['surf_total_extra']\n",
    "total_ultimate=surf_total_extra['ultimate_total']\n",
    "result=ttest_ind(total_surf, total_ultimate)\n",
    "\n",
    "alpha=0.05 # Se establace así porque son los valores de umbral convencionales son 5% y 1%.\n",
    "if (result.pvalue < alpha):\n",
    "    print('Rechazamos la hipótesis nula')\n",
    "    print('El ingreso promedio de los usuarios de las tarifas Ultimate y Surf si difiere.')\n",
    "else:\n",
    "    print(\"No podemos rechazar la hipótesis nula\")\n",
    "    print(\"El ingreso promedio de los usuarios de las tarifas Ultimate y Surf difiere\")"
   ]
  },
  {
   "cell_type": "markdown",
   "metadata": {
    "id": "LsBgitqj0q1R"
   },
   "source": [
    "[Elabora las hipótesis nula y alternativa, escoge la prueba estadística, determina el valor alfa.]\n",
    "Hipótesis nula:El ingreso promedio de los usuarios en el área de estados Nueva York-Nueva Jersey no es diferente al de los usuarios de otras regiones.\n",
    "Hipótesis alternativa:El ingreso promedio de los usuarios en el área de estados Nueva York-Nueva Jersey es diferente al de los usuarios de otras regiones."
   ]
  },
  {
   "cell_type": "code",
   "execution_count": 45,
   "metadata": {
    "id": "Cqcj7wrZ0q1S"
   },
   "outputs": [
    {
     "name": "stdout",
     "output_type": "stream",
     "text": [
      "No podemos rechazar la hipótesis nula\n",
      "Hipótesis nula:El ingreso promedio de los usuarios en el área de estados Nueva York-Nueva Jersey no es diferente al de los usuarios de otras regiones.\n"
     ]
    }
   ],
   "source": [
    "# Prueba las hipótesis\n",
    "# En esta parte se está usando ttest_ind pasando los datos de los ingresos en cada plan para determinar el valor p\n",
    "df_consume_ny_nj=pd.merge(df_consume_user_monthly, df_megaline_user, on=['user_id'])\n",
    "df_consume_ny_nj.reset_index(drop=True, inplace=True)\n",
    "df_consume_ny_nj.drop(['first_name', 'last_name', 'age', 'reg_date', 'churn_date', 'call_user_monthly'], axis=1, inplace=True)\n",
    "total_ny_nj=df_consume_ny_nj.groupby(['user_id','city']).agg({\"usd_monthly_pay_x\":\"sum\"}).query(\"city=='New York-Newark-Jersey City, NY-NJ-PA MSA'\")\n",
    "total_other_cities=df_consume_ny_nj.groupby(['user_id','city']).agg({\"usd_monthly_pay_x\":\"sum\"}).query(\"city!='New York-Newark-Jersey City, NY-NJ-PA MSA'\")\n",
    "result=ttest_ind(total_ny_nj, total_other_cities)\n",
    "alpha=0.05 # Se establace así porque son los valores de umbral convencionales son 5% y 1%.\n",
    "if (result.pvalue < alpha):\n",
    "    print('Rechazamos la hipótesis nula')\n",
    "    print('Hipótesis alternativa:El ingreso promedio de los usuarios en el área de estados Nueva York-Nueva Jersey es diferente al de los usuarios de otras regiones.')\n",
    "else:\n",
    "    print(\"No podemos rechazar la hipótesis nula\")\n",
    "    print('Hipótesis nula:El ingreso promedio de los usuarios en el área de estados Nueva York-Nueva Jersey no es diferente al de los usuarios de otras regiones.')"
   ]
  },
  {
   "cell_type": "code",
   "execution_count": null,
   "metadata": {},
   "outputs": [],
   "source": []
  },
  {
   "cell_type": "markdown",
   "metadata": {
    "id": "bbTR8UQO0q1T"
   },
   "source": [
    "## Conclusión general\n",
    "\n",
    "[En esta sección final, enumera tus conclusiones importantes. Asegúrate de que estas abarquen todas las decisiones (suposiciones) importantes que adoptaste y que determinaron la forma elegida para procesar y analizar los datos.]\n",
    "Como conclusión final para este proyecto se puede decir que las diferencias encontradas en el uso de cada uno de los planes varían, ya que los usuarios del plan surf llegan a exceder los límites de sus paquetes por mucho tanto en minutos llamadas, mensajes y megas. En los cálculos realizados no se encontraron excesos en los usuarios de ultimate, cabe mencionar que los usuarios del plan ultimate apenas llegaron a consumir lo que paquete incluye. Es importante mencionar también que la mayoría de los excesos se dieron durante la segunda mitad del año, incluso en la tarifa normal de cada plan se observó que los usuarios de ambos planes usan sus líneas con mayor frecuencia la segunda mitad del año. Con esto se puede decir que se le puede ofrecer el plan de ultimate a los usuarios de surf que excedieron sus tarifas mostrándoles una comparación de los gastan en excesos de sus paquetes y lo que gastaría si usan el plan ultimate, sería más conveniente para quienes excedan su plan surf cambiarlo a ultimate. \n",
    "\n",
    "Como conclusión personal puedo decir que me ha resultado complicado resolver este proyecto, a pesar de ello puedo decir que he aprendido mucho con cada ejercicio que resolver, es complicado algunas veces estar tanto tiempo trabajando en el análisis de datos ya que no dispongo de mucho tiempo libre pero hago lo posible dedicar el mayor tiempo posible. Espero las correcciones para saber en que me hace falta mejorar y gracias quien revise mi proyecto. "
   ]
  }
 ],
 "metadata": {
  "ExecuteTimeLog": [
   {
    "duration": 828,
    "start_time": "2021-11-16T09:21:11.304Z"
   },
   {
    "duration": 893,
    "start_time": "2021-11-16T09:21:17.728Z"
   },
   {
    "duration": 1150,
    "start_time": "2021-11-16T09:21:29.568Z"
   },
   {
    "duration": 3,
    "start_time": "2021-11-16T09:24:14.495Z"
   },
   {
    "duration": 120,
    "start_time": "2021-11-16T09:24:46.630Z"
   },
   {
    "duration": 3,
    "start_time": "2021-11-16T09:28:27.882Z"
   },
   {
    "duration": 4,
    "start_time": "2021-11-16T09:29:54.281Z"
   },
   {
    "duration": 3,
    "start_time": "2021-11-16T09:30:45.936Z"
   },
   {
    "duration": 4,
    "start_time": "2021-11-16T09:31:06.300Z"
   },
   {
    "duration": 113,
    "start_time": "2021-11-16T09:31:37.208Z"
   },
   {
    "duration": 143,
    "start_time": "2021-11-16T09:31:48.656Z"
   },
   {
    "duration": 98,
    "start_time": "2021-11-16T09:31:55.678Z"
   },
   {
    "duration": 3,
    "start_time": "2021-11-16T09:32:08.535Z"
   },
   {
    "duration": 111,
    "start_time": "2021-11-16T09:32:10.120Z"
   },
   {
    "duration": 3,
    "start_time": "2021-11-16T09:32:15.732Z"
   },
   {
    "duration": 4,
    "start_time": "2021-11-16T09:32:29.423Z"
   },
   {
    "duration": 3,
    "start_time": "2021-11-16T10:03:03.074Z"
   },
   {
    "duration": 3,
    "start_time": "2021-11-16T10:10:01.288Z"
   },
   {
    "duration": 3,
    "start_time": "2021-11-16T10:10:46.923Z"
   },
   {
    "duration": 121,
    "start_time": "2021-11-16T10:37:46.494Z"
   },
   {
    "duration": 125,
    "start_time": "2021-11-16T10:38:20.632Z"
   },
   {
    "duration": 112,
    "start_time": "2021-11-16T10:46:53.001Z"
   },
   {
    "duration": 110,
    "start_time": "2021-11-16T10:48:25.775Z"
   },
   {
    "duration": 3,
    "start_time": "2021-11-16T10:50:18.720Z"
   },
   {
    "duration": 4,
    "start_time": "2021-11-16T10:50:37.649Z"
   },
   {
    "duration": 2,
    "start_time": "2021-11-16T10:50:51.884Z"
   },
   {
    "duration": 3,
    "start_time": "2021-11-16T10:51:56.237Z"
   },
   {
    "duration": 101,
    "start_time": "2021-11-16T10:53:13.791Z"
   },
   {
    "duration": 3,
    "start_time": "2021-11-16T10:55:59.186Z"
   },
   {
    "duration": 3,
    "start_time": "2021-11-16T10:56:10.751Z"
   },
   {
    "duration": 3,
    "start_time": "2021-11-16T10:56:49.038Z"
   },
   {
    "duration": 3,
    "start_time": "2021-11-16T10:56:49.174Z"
   },
   {
    "duration": 4,
    "start_time": "2021-11-16T10:56:49.414Z"
   },
   {
    "duration": 3,
    "start_time": "2021-11-16T10:56:49.680Z"
   },
   {
    "duration": 3,
    "start_time": "2021-11-16T10:56:50.370Z"
   },
   {
    "duration": 114,
    "start_time": "2021-11-16T10:59:34.518Z"
   },
   {
    "duration": 3,
    "start_time": "2021-11-16T11:01:41.201Z"
   },
   {
    "duration": 116,
    "start_time": "2021-11-16T11:01:48.754Z"
   },
   {
    "duration": 3,
    "start_time": "2021-11-16T11:02:16.685Z"
   },
   {
    "duration": 3,
    "start_time": "2021-11-16T11:02:19.479Z"
   },
   {
    "duration": 3,
    "start_time": "2021-11-16T11:02:47.067Z"
   },
   {
    "duration": 3,
    "start_time": "2021-11-16T11:02:49.353Z"
   },
   {
    "duration": 3,
    "start_time": "2021-11-16T11:03:07.835Z"
   },
   {
    "duration": 3,
    "start_time": "2021-11-16T11:03:07.953Z"
   },
   {
    "duration": 112,
    "start_time": "2021-11-16T11:07:52.072Z"
   },
   {
    "duration": 187,
    "start_time": "2021-11-16T11:09:23.468Z"
   },
   {
    "duration": 4,
    "start_time": "2021-11-16T11:10:01.455Z"
   },
   {
    "duration": 3,
    "start_time": "2021-11-16T11:10:05.069Z"
   },
   {
    "duration": 4,
    "start_time": "2021-11-16T11:10:13.376Z"
   },
   {
    "duration": 3,
    "start_time": "2021-11-16T11:10:14.434Z"
   },
   {
    "duration": 3,
    "start_time": "2021-11-16T11:10:22.853Z"
   },
   {
    "duration": 4,
    "start_time": "2021-11-16T11:27:29.279Z"
   },
   {
    "duration": 4,
    "start_time": "2021-11-16T11:29:08.919Z"
   },
   {
    "duration": 118,
    "start_time": "2021-11-16T11:29:46.703Z"
   },
   {
    "duration": 437,
    "start_time": "2021-11-16T11:36:02.181Z"
   },
   {
    "duration": 157,
    "start_time": "2021-11-16T11:36:14.388Z"
   },
   {
    "duration": 207,
    "start_time": "2021-11-16T11:47:15.898Z"
   },
   {
    "duration": 3,
    "start_time": "2021-11-16T11:53:52.092Z"
   },
   {
    "duration": 3,
    "start_time": "2021-11-16T11:53:52.236Z"
   },
   {
    "duration": 3,
    "start_time": "2021-11-16T11:59:12.005Z"
   },
   {
    "duration": 112,
    "start_time": "2021-11-16T12:00:33.446Z"
   },
   {
    "duration": 3,
    "start_time": "2021-11-16T12:02:14.453Z"
   },
   {
    "duration": 3,
    "start_time": "2021-11-16T12:02:39.512Z"
   },
   {
    "duration": 106,
    "start_time": "2021-11-16T12:03:03.460Z"
   },
   {
    "duration": 3,
    "start_time": "2021-11-17T20:37:21.139Z"
   },
   {
    "duration": 3,
    "start_time": "2021-11-17T20:37:22.229Z"
   },
   {
    "duration": 3,
    "start_time": "2021-11-17T20:38:38.806Z"
   },
   {
    "duration": 3,
    "start_time": "2021-11-17T20:38:41.958Z"
   },
   {
    "duration": 3,
    "start_time": "2021-11-17T20:43:46.551Z"
   },
   {
    "duration": 4,
    "start_time": "2021-11-17T20:58:21.835Z"
   },
   {
    "duration": 3,
    "start_time": "2021-11-17T20:59:21.872Z"
   },
   {
    "duration": 4,
    "start_time": "2021-11-17T20:59:45.352Z"
   },
   {
    "duration": 4,
    "start_time": "2021-11-17T20:59:49.646Z"
   },
   {
    "duration": 159,
    "start_time": "2021-11-17T21:02:26.949Z"
   },
   {
    "duration": 3,
    "start_time": "2021-11-17T21:03:53.461Z"
   },
   {
    "duration": 3,
    "start_time": "2021-11-17T21:03:53.694Z"
   },
   {
    "duration": 3,
    "start_time": "2021-11-17T21:05:28.145Z"
   },
   {
    "duration": 116,
    "start_time": "2021-11-17T21:05:57.787Z"
   },
   {
    "duration": 3,
    "start_time": "2021-11-17T21:06:37.993Z"
   },
   {
    "duration": 3,
    "start_time": "2021-11-17T21:06:38.261Z"
   },
   {
    "duration": 3,
    "start_time": "2021-11-17T21:11:54.358Z"
   },
   {
    "duration": 3,
    "start_time": "2021-11-17T21:12:43.846Z"
   },
   {
    "duration": 4,
    "start_time": "2021-11-17T21:13:08.773Z"
   },
   {
    "duration": 3,
    "start_time": "2021-11-17T21:14:44.441Z"
   },
   {
    "duration": 3,
    "start_time": "2021-11-17T21:15:42.059Z"
   },
   {
    "duration": 4,
    "start_time": "2021-11-17T21:15:51.995Z"
   },
   {
    "duration": 3,
    "start_time": "2021-11-17T21:15:53.923Z"
   },
   {
    "duration": 3,
    "start_time": "2021-11-17T21:15:55.282Z"
   },
   {
    "duration": 3,
    "start_time": "2021-11-17T21:16:28.492Z"
   },
   {
    "duration": 3,
    "start_time": "2021-11-17T21:16:32.603Z"
   },
   {
    "duration": 3,
    "start_time": "2021-11-17T21:17:06.941Z"
   },
   {
    "duration": 98,
    "start_time": "2021-11-17T21:18:05.733Z"
   },
   {
    "duration": 4,
    "start_time": "2021-11-17T21:21:35.255Z"
   },
   {
    "duration": 3,
    "start_time": "2021-11-17T21:21:37.804Z"
   },
   {
    "duration": 4,
    "start_time": "2021-11-17T21:23:06.071Z"
   },
   {
    "duration": 3,
    "start_time": "2021-11-17T21:23:24.799Z"
   },
   {
    "duration": 3,
    "start_time": "2021-11-17T21:23:32.591Z"
   },
   {
    "duration": 98,
    "start_time": "2021-11-17T21:28:31.559Z"
   },
   {
    "duration": 3,
    "start_time": "2021-11-17T21:28:45.448Z"
   },
   {
    "duration": 3,
    "start_time": "2021-11-17T21:29:17.303Z"
   },
   {
    "duration": 3,
    "start_time": "2021-11-17T21:29:29.617Z"
   },
   {
    "duration": 3,
    "start_time": "2021-11-17T21:29:32.681Z"
   },
   {
    "duration": 3,
    "start_time": "2021-11-17T21:36:11.474Z"
   },
   {
    "duration": 3,
    "start_time": "2021-11-17T21:36:14.791Z"
   },
   {
    "duration": 3,
    "start_time": "2021-11-17T21:36:53.943Z"
   },
   {
    "duration": 3,
    "start_time": "2021-11-17T21:36:56.165Z"
   },
   {
    "duration": 4,
    "start_time": "2021-11-17T21:37:16.590Z"
   },
   {
    "duration": 3,
    "start_time": "2021-11-17T21:37:22.702Z"
   },
   {
    "duration": 4,
    "start_time": "2021-11-17T21:38:03.479Z"
   },
   {
    "duration": 3,
    "start_time": "2021-11-17T21:38:08.601Z"
   },
   {
    "duration": 3,
    "start_time": "2021-11-17T21:38:12.928Z"
   },
   {
    "duration": 3,
    "start_time": "2021-11-17T21:38:48.896Z"
   },
   {
    "duration": 2,
    "start_time": "2021-11-17T21:38:49.171Z"
   },
   {
    "duration": 4,
    "start_time": "2021-11-17T21:39:57.889Z"
   },
   {
    "duration": 3,
    "start_time": "2021-11-17T21:39:58.057Z"
   },
   {
    "duration": 3,
    "start_time": "2021-11-17T21:41:20.108Z"
   },
   {
    "duration": 3,
    "start_time": "2021-11-17T21:41:20.629Z"
   },
   {
    "duration": 3,
    "start_time": "2021-11-17T21:42:49.136Z"
   },
   {
    "duration": 3,
    "start_time": "2021-11-17T21:43:15.137Z"
   },
   {
    "duration": 4,
    "start_time": "2021-11-17T21:43:16.766Z"
   },
   {
    "duration": 4,
    "start_time": "2021-11-17T21:43:31.711Z"
   },
   {
    "duration": 3,
    "start_time": "2021-11-17T21:43:36.312Z"
   },
   {
    "duration": 4,
    "start_time": "2021-11-17T21:45:08.825Z"
   },
   {
    "duration": 4,
    "start_time": "2021-11-17T21:45:10.119Z"
   },
   {
    "duration": 4,
    "start_time": "2021-11-17T21:45:13.748Z"
   },
   {
    "duration": 3,
    "start_time": "2021-11-17T21:45:22.219Z"
   },
   {
    "duration": 3,
    "start_time": "2021-11-17T21:45:33.412Z"
   },
   {
    "duration": 2,
    "start_time": "2021-11-17T21:46:01.885Z"
   },
   {
    "duration": 3,
    "start_time": "2021-11-17T21:46:03.628Z"
   },
   {
    "duration": 107,
    "start_time": "2021-11-17T21:47:32.512Z"
   },
   {
    "duration": 103,
    "start_time": "2021-11-17T21:50:36.243Z"
   },
   {
    "duration": 3,
    "start_time": "2021-11-18T06:28:31.440Z"
   },
   {
    "duration": 3,
    "start_time": "2021-11-18T06:29:00.168Z"
   },
   {
    "duration": 3,
    "start_time": "2021-11-18T06:31:27.008Z"
   },
   {
    "duration": 2,
    "start_time": "2021-11-18T06:35:34.288Z"
   },
   {
    "duration": 2,
    "start_time": "2021-11-18T06:38:04.527Z"
   },
   {
    "duration": 883,
    "start_time": "2024-05-28T13:49:21.667Z"
   },
   {
    "duration": 430,
    "start_time": "2024-05-28T13:49:24.779Z"
   },
   {
    "duration": 4,
    "start_time": "2024-05-28T13:51:38.731Z"
   },
   {
    "duration": 25,
    "start_time": "2024-05-28T13:51:41.295Z"
   },
   {
    "duration": 25,
    "start_time": "2024-05-28T13:55:27.415Z"
   },
   {
    "duration": 437,
    "start_time": "2024-05-28T13:58:16.382Z"
   },
   {
    "duration": 356,
    "start_time": "2024-05-28T13:58:44.907Z"
   },
   {
    "duration": 365,
    "start_time": "2024-05-28T13:59:01.040Z"
   },
   {
    "duration": 339,
    "start_time": "2024-05-30T01:46:19.974Z"
   },
   {
    "duration": 1085,
    "start_time": "2024-05-30T01:46:26.206Z"
   },
   {
    "duration": 528,
    "start_time": "2024-05-30T01:46:27.295Z"
   },
   {
    "duration": 25,
    "start_time": "2024-05-30T01:46:27.828Z"
   },
   {
    "duration": 14,
    "start_time": "2024-05-30T01:47:16.068Z"
   },
   {
    "duration": 11,
    "start_time": "2024-05-30T01:47:27.920Z"
   },
   {
    "duration": 11,
    "start_time": "2024-05-30T01:47:32.605Z"
   },
   {
    "duration": 325,
    "start_time": "2024-05-30T02:00:21.080Z"
   },
   {
    "duration": 16,
    "start_time": "2024-05-30T04:07:57.640Z"
   },
   {
    "duration": 327,
    "start_time": "2024-05-30T12:24:23.791Z"
   },
   {
    "duration": 1050,
    "start_time": "2024-05-30T12:24:27.522Z"
   },
   {
    "duration": 434,
    "start_time": "2024-05-30T12:24:28.577Z"
   },
   {
    "duration": 21,
    "start_time": "2024-05-30T12:24:29.014Z"
   },
   {
    "duration": 11,
    "start_time": "2024-05-30T12:24:29.039Z"
   },
   {
    "duration": 19,
    "start_time": "2024-05-30T12:24:29.054Z"
   },
   {
    "duration": 57,
    "start_time": "2024-05-30T12:24:29.076Z"
   },
   {
    "duration": 100,
    "start_time": "2024-05-30T12:26:07.984Z"
   },
   {
    "duration": 9,
    "start_time": "2024-05-30T12:26:14.947Z"
   },
   {
    "duration": 8,
    "start_time": "2024-05-30T12:34:57.708Z"
   },
   {
    "duration": 11,
    "start_time": "2024-05-30T12:35:26.933Z"
   },
   {
    "duration": 8,
    "start_time": "2024-05-30T12:35:33.096Z"
   },
   {
    "duration": 10,
    "start_time": "2024-05-30T12:37:45.012Z"
   },
   {
    "duration": 11,
    "start_time": "2024-05-30T12:39:23.434Z"
   },
   {
    "duration": 11,
    "start_time": "2024-05-30T12:39:32.956Z"
   },
   {
    "duration": 8,
    "start_time": "2024-05-30T12:51:45.696Z"
   },
   {
    "duration": 9,
    "start_time": "2024-05-30T12:51:52.050Z"
   },
   {
    "duration": 10,
    "start_time": "2024-05-30T12:52:09.250Z"
   },
   {
    "duration": 39,
    "start_time": "2024-05-30T12:58:32.903Z"
   },
   {
    "duration": 11,
    "start_time": "2024-05-30T12:59:00.185Z"
   },
   {
    "duration": 14,
    "start_time": "2024-05-30T13:07:19.145Z"
   },
   {
    "duration": 14,
    "start_time": "2024-05-30T13:09:47.951Z"
   },
   {
    "duration": 31,
    "start_time": "2024-05-30T13:13:19.500Z"
   },
   {
    "duration": 29,
    "start_time": "2024-05-30T13:13:40.991Z"
   },
   {
    "duration": 26,
    "start_time": "2024-05-30T13:17:00.128Z"
   },
   {
    "duration": 7,
    "start_time": "2024-05-30T13:17:17.186Z"
   },
   {
    "duration": 30,
    "start_time": "2024-05-30T13:18:02.539Z"
   },
   {
    "duration": 14,
    "start_time": "2024-05-30T13:18:13.198Z"
   },
   {
    "duration": 9,
    "start_time": "2024-05-30T13:21:09.549Z"
   },
   {
    "duration": 71,
    "start_time": "2024-05-30T13:30:12.204Z"
   },
   {
    "duration": 72,
    "start_time": "2024-05-30T13:34:12.635Z"
   },
   {
    "duration": 81,
    "start_time": "2024-05-30T13:35:07.675Z"
   },
   {
    "duration": 83,
    "start_time": "2024-05-30T13:35:28.019Z"
   },
   {
    "duration": 10,
    "start_time": "2024-05-30T13:38:53.527Z"
   },
   {
    "duration": 7,
    "start_time": "2024-05-30T13:39:05.853Z"
   },
   {
    "duration": 7,
    "start_time": "2024-05-30T13:39:34.636Z"
   },
   {
    "duration": 124,
    "start_time": "2024-05-30T13:40:22.316Z"
   },
   {
    "duration": 235,
    "start_time": "2024-05-30T13:40:59.916Z"
   },
   {
    "duration": 44,
    "start_time": "2024-05-30T13:41:18.664Z"
   },
   {
    "duration": 45,
    "start_time": "2024-05-30T13:41:34.197Z"
   },
   {
    "duration": 9,
    "start_time": "2024-05-30T13:41:43.428Z"
   },
   {
    "duration": 60,
    "start_time": "2024-05-30T13:41:54.846Z"
   },
   {
    "duration": 8,
    "start_time": "2024-05-30T13:42:05.572Z"
   },
   {
    "duration": 58,
    "start_time": "2024-05-30T13:42:32.330Z"
   },
   {
    "duration": 4,
    "start_time": "2024-05-30T13:42:45.830Z"
   },
   {
    "duration": 303,
    "start_time": "2024-05-30T13:42:45.839Z"
   },
   {
    "duration": 15,
    "start_time": "2024-05-30T13:42:46.146Z"
   },
   {
    "duration": 9,
    "start_time": "2024-05-30T13:42:46.166Z"
   },
   {
    "duration": 46,
    "start_time": "2024-05-30T13:42:46.178Z"
   },
   {
    "duration": 18,
    "start_time": "2024-05-30T13:42:46.227Z"
   },
   {
    "duration": 9,
    "start_time": "2024-05-30T13:42:46.248Z"
   },
   {
    "duration": 72,
    "start_time": "2024-05-30T13:42:46.261Z"
   },
   {
    "duration": 26,
    "start_time": "2024-05-30T13:42:46.339Z"
   },
   {
    "duration": 9,
    "start_time": "2024-05-30T13:42:46.369Z"
   },
   {
    "duration": 115,
    "start_time": "2024-05-30T13:42:46.382Z"
   },
   {
    "duration": 81,
    "start_time": "2024-05-30T13:49:35.266Z"
   },
   {
    "duration": 84,
    "start_time": "2024-05-30T13:49:40.906Z"
   },
   {
    "duration": 78,
    "start_time": "2024-05-30T13:51:48.371Z"
   },
   {
    "duration": 230,
    "start_time": "2024-05-30T13:55:40.477Z"
   },
   {
    "duration": 165,
    "start_time": "2024-05-30T13:56:37.406Z"
   },
   {
    "duration": 164,
    "start_time": "2024-05-30T13:56:54.221Z"
   },
   {
    "duration": 164,
    "start_time": "2024-05-30T13:58:07.663Z"
   },
   {
    "duration": 733,
    "start_time": "2024-05-30T13:58:32.863Z"
   },
   {
    "duration": 113,
    "start_time": "2024-05-30T13:58:44.368Z"
   },
   {
    "duration": 116,
    "start_time": "2024-05-30T14:00:27.415Z"
   },
   {
    "duration": 960,
    "start_time": "2024-05-31T04:00:07.420Z"
   },
   {
    "duration": 408,
    "start_time": "2024-05-31T04:00:08.384Z"
   },
   {
    "duration": 18,
    "start_time": "2024-05-31T04:00:08.795Z"
   },
   {
    "duration": 10,
    "start_time": "2024-05-31T04:00:08.817Z"
   },
   {
    "duration": 17,
    "start_time": "2024-05-31T04:00:08.830Z"
   },
   {
    "duration": 16,
    "start_time": "2024-05-31T04:00:08.852Z"
   },
   {
    "duration": 53,
    "start_time": "2024-05-31T04:00:08.871Z"
   },
   {
    "duration": 26,
    "start_time": "2024-05-31T04:00:08.927Z"
   },
   {
    "duration": 26,
    "start_time": "2024-05-31T04:00:08.957Z"
   },
   {
    "duration": 6,
    "start_time": "2024-05-31T04:00:09.025Z"
   },
   {
    "duration": 189,
    "start_time": "2024-05-31T04:00:09.034Z"
   },
   {
    "duration": 5,
    "start_time": "2024-05-31T04:00:09.226Z"
   },
   {
    "duration": 4,
    "start_time": "2024-05-31T04:00:09.234Z"
   },
   {
    "duration": 4,
    "start_time": "2024-05-31T04:00:09.241Z"
   },
   {
    "duration": 4,
    "start_time": "2024-05-31T04:00:09.248Z"
   },
   {
    "duration": 4,
    "start_time": "2024-05-31T04:00:09.255Z"
   },
   {
    "duration": 60,
    "start_time": "2024-05-31T04:00:09.262Z"
   },
   {
    "duration": 3,
    "start_time": "2024-05-31T04:00:09.325Z"
   },
   {
    "duration": 4,
    "start_time": "2024-05-31T04:00:09.335Z"
   },
   {
    "duration": 3,
    "start_time": "2024-05-31T04:00:09.342Z"
   },
   {
    "duration": 4,
    "start_time": "2024-05-31T04:00:09.349Z"
   },
   {
    "duration": 3,
    "start_time": "2024-05-31T04:00:09.357Z"
   },
   {
    "duration": 3,
    "start_time": "2024-05-31T04:00:09.364Z"
   },
   {
    "duration": 3,
    "start_time": "2024-05-31T04:00:09.422Z"
   },
   {
    "duration": 5,
    "start_time": "2024-05-31T04:00:09.428Z"
   },
   {
    "duration": 4,
    "start_time": "2024-05-31T04:00:09.436Z"
   },
   {
    "duration": 4,
    "start_time": "2024-05-31T04:00:09.444Z"
   },
   {
    "duration": 3,
    "start_time": "2024-05-31T04:00:09.458Z"
   },
   {
    "duration": 58,
    "start_time": "2024-05-31T04:00:09.465Z"
   },
   {
    "duration": 4,
    "start_time": "2024-05-31T04:00:09.526Z"
   },
   {
    "duration": 3,
    "start_time": "2024-05-31T04:00:09.534Z"
   },
   {
    "duration": 20,
    "start_time": "2024-05-31T04:01:18.825Z"
   },
   {
    "duration": 196,
    "start_time": "2024-05-31T04:03:38.520Z"
   },
   {
    "duration": 19,
    "start_time": "2024-05-31T04:03:50.534Z"
   },
   {
    "duration": 7,
    "start_time": "2024-05-31T04:06:31.280Z"
   },
   {
    "duration": 7,
    "start_time": "2024-05-31T04:06:43.719Z"
   },
   {
    "duration": 977,
    "start_time": "2024-05-31T04:10:24.135Z"
   },
   {
    "duration": 182,
    "start_time": "2024-05-31T04:10:30.760Z"
   },
   {
    "duration": 128,
    "start_time": "2024-05-31T04:11:03.755Z"
   },
   {
    "duration": 111,
    "start_time": "2024-05-31T04:11:14.028Z"
   },
   {
    "duration": 54,
    "start_time": "2024-05-31T04:11:26.879Z"
   },
   {
    "duration": 75,
    "start_time": "2024-05-31T04:11:37.812Z"
   },
   {
    "duration": 53,
    "start_time": "2024-05-31T04:11:42.805Z"
   },
   {
    "duration": 75,
    "start_time": "2024-05-31T04:19:32.784Z"
   },
   {
    "duration": 7,
    "start_time": "2024-05-31T04:23:41.569Z"
   },
   {
    "duration": 9,
    "start_time": "2024-05-31T04:43:48.355Z"
   },
   {
    "duration": 24,
    "start_time": "2024-05-31T04:44:32.528Z"
   },
   {
    "duration": 4,
    "start_time": "2024-05-31T04:44:53.062Z"
   },
   {
    "duration": 214,
    "start_time": "2024-05-31T04:44:59.589Z"
   },
   {
    "duration": 13,
    "start_time": "2024-05-31T04:46:57.479Z"
   },
   {
    "duration": 13,
    "start_time": "2024-05-31T04:48:16.993Z"
   },
   {
    "duration": 22,
    "start_time": "2024-05-31T04:50:42.388Z"
   },
   {
    "duration": 7,
    "start_time": "2024-05-31T04:52:02.031Z"
   },
   {
    "duration": 69,
    "start_time": "2024-05-31T05:05:51.124Z"
   },
   {
    "duration": 5,
    "start_time": "2024-05-31T05:06:05.568Z"
   },
   {
    "duration": 306,
    "start_time": "2024-05-31T05:06:05.576Z"
   },
   {
    "duration": 16,
    "start_time": "2024-05-31T05:06:05.886Z"
   },
   {
    "duration": 22,
    "start_time": "2024-05-31T05:06:05.905Z"
   },
   {
    "duration": 7,
    "start_time": "2024-05-31T05:06:05.933Z"
   },
   {
    "duration": 16,
    "start_time": "2024-05-31T05:06:05.944Z"
   },
   {
    "duration": 10,
    "start_time": "2024-05-31T05:06:05.963Z"
   },
   {
    "duration": 21,
    "start_time": "2024-05-31T05:06:06.025Z"
   },
   {
    "duration": 29,
    "start_time": "2024-05-31T05:06:06.049Z"
   },
   {
    "duration": 47,
    "start_time": "2024-05-31T05:06:06.082Z"
   },
   {
    "duration": 134,
    "start_time": "2024-05-31T05:06:06.133Z"
   },
   {
    "duration": 32,
    "start_time": "2024-05-31T05:09:29.053Z"
   },
   {
    "duration": 41,
    "start_time": "2024-05-31T05:09:45.206Z"
   },
   {
    "duration": 109,
    "start_time": "2024-05-31T05:27:18.687Z"
   },
   {
    "duration": 933,
    "start_time": "2024-05-31T12:24:39.832Z"
   },
   {
    "duration": 391,
    "start_time": "2024-05-31T12:24:40.769Z"
   },
   {
    "duration": 18,
    "start_time": "2024-05-31T12:24:41.163Z"
   },
   {
    "duration": 9,
    "start_time": "2024-05-31T12:24:41.184Z"
   },
   {
    "duration": 6,
    "start_time": "2024-05-31T12:24:41.215Z"
   },
   {
    "duration": 14,
    "start_time": "2024-05-31T12:24:41.224Z"
   },
   {
    "duration": 8,
    "start_time": "2024-05-31T12:24:41.244Z"
   },
   {
    "duration": 57,
    "start_time": "2024-05-31T12:24:41.255Z"
   },
   {
    "duration": 26,
    "start_time": "2024-05-31T12:24:41.315Z"
   },
   {
    "duration": 8,
    "start_time": "2024-05-31T12:24:41.344Z"
   },
   {
    "duration": 184,
    "start_time": "2024-05-31T12:24:41.355Z"
   },
   {
    "duration": 18,
    "start_time": "2024-05-31T12:24:41.542Z"
   },
   {
    "duration": 22,
    "start_time": "2024-05-31T12:24:41.563Z"
   },
   {
    "duration": 7,
    "start_time": "2024-05-31T12:24:41.618Z"
   },
   {
    "duration": 39,
    "start_time": "2024-05-31T12:24:41.629Z"
   },
   {
    "duration": 3,
    "start_time": "2024-05-31T12:24:41.671Z"
   },
   {
    "duration": 39,
    "start_time": "2024-05-31T12:24:41.676Z"
   },
   {
    "duration": 3,
    "start_time": "2024-05-31T12:24:41.718Z"
   },
   {
    "duration": 7,
    "start_time": "2024-05-31T12:24:41.724Z"
   },
   {
    "duration": 3,
    "start_time": "2024-05-31T12:24:41.734Z"
   },
   {
    "duration": 4,
    "start_time": "2024-05-31T12:24:41.740Z"
   },
   {
    "duration": 3,
    "start_time": "2024-05-31T12:24:41.748Z"
   },
   {
    "duration": 4,
    "start_time": "2024-05-31T12:24:41.754Z"
   },
   {
    "duration": 54,
    "start_time": "2024-05-31T12:24:41.760Z"
   },
   {
    "duration": 4,
    "start_time": "2024-05-31T12:24:41.817Z"
   },
   {
    "duration": 3,
    "start_time": "2024-05-31T12:24:41.824Z"
   },
   {
    "duration": 4,
    "start_time": "2024-05-31T12:24:41.830Z"
   },
   {
    "duration": 4,
    "start_time": "2024-05-31T12:24:41.836Z"
   },
   {
    "duration": 4,
    "start_time": "2024-05-31T12:24:41.844Z"
   },
   {
    "duration": 3,
    "start_time": "2024-05-31T12:24:41.852Z"
   },
   {
    "duration": 3,
    "start_time": "2024-05-31T12:24:41.913Z"
   },
   {
    "duration": 4,
    "start_time": "2024-05-31T12:24:41.919Z"
   },
   {
    "duration": 3,
    "start_time": "2024-05-31T12:24:41.926Z"
   },
   {
    "duration": 60,
    "start_time": "2024-05-31T12:29:26.344Z"
   },
   {
    "duration": 43,
    "start_time": "2024-05-31T12:32:11.523Z"
   },
   {
    "duration": 56,
    "start_time": "2024-05-31T12:33:01.773Z"
   },
   {
    "duration": 113,
    "start_time": "2024-05-31T12:34:12.539Z"
   },
   {
    "duration": 22,
    "start_time": "2024-05-31T12:35:56.011Z"
   },
   {
    "duration": 8,
    "start_time": "2024-05-31T12:36:33.079Z"
   },
   {
    "duration": 121,
    "start_time": "2024-05-31T12:45:38.317Z"
   },
   {
    "duration": 914,
    "start_time": "2024-06-01T19:49:46.951Z"
   },
   {
    "duration": 359,
    "start_time": "2024-06-01T19:49:47.870Z"
   },
   {
    "duration": 18,
    "start_time": "2024-06-01T19:49:48.232Z"
   },
   {
    "duration": 11,
    "start_time": "2024-06-01T19:49:48.253Z"
   },
   {
    "duration": 7,
    "start_time": "2024-06-01T19:49:48.268Z"
   },
   {
    "duration": 47,
    "start_time": "2024-06-01T19:49:48.278Z"
   },
   {
    "duration": 9,
    "start_time": "2024-06-01T19:49:48.328Z"
   },
   {
    "duration": 20,
    "start_time": "2024-06-01T19:49:48.340Z"
   },
   {
    "duration": 69,
    "start_time": "2024-06-01T19:49:48.363Z"
   },
   {
    "duration": 7,
    "start_time": "2024-06-01T19:49:48.436Z"
   },
   {
    "duration": 168,
    "start_time": "2024-06-01T19:49:48.446Z"
   },
   {
    "duration": 14,
    "start_time": "2024-06-01T19:49:48.617Z"
   },
   {
    "duration": 20,
    "start_time": "2024-06-01T19:49:48.634Z"
   },
   {
    "duration": 7,
    "start_time": "2024-06-01T19:49:48.659Z"
   },
   {
    "duration": 78,
    "start_time": "2024-06-01T19:49:48.711Z"
   },
   {
    "duration": 23,
    "start_time": "2024-06-01T19:49:48.811Z"
   },
   {
    "duration": 7,
    "start_time": "2024-06-01T19:49:48.837Z"
   },
   {
    "duration": 169,
    "start_time": "2024-06-01T19:49:48.847Z"
   },
   {
    "duration": 8,
    "start_time": "2024-06-01T20:07:57.823Z"
   },
   {
    "duration": 6,
    "start_time": "2024-06-01T20:08:06.529Z"
   },
   {
    "duration": 7,
    "start_time": "2024-06-01T20:08:14.906Z"
   },
   {
    "duration": 9,
    "start_time": "2024-06-01T20:09:05.363Z"
   },
   {
    "duration": 8,
    "start_time": "2024-06-01T20:09:13.605Z"
   },
   {
    "duration": 1276,
    "start_time": "2024-06-01T20:10:31.069Z"
   },
   {
    "duration": 66,
    "start_time": "2024-06-01T20:10:44.500Z"
   },
   {
    "duration": 56,
    "start_time": "2024-06-01T20:13:37.458Z"
   },
   {
    "duration": 6,
    "start_time": "2024-06-01T20:15:31.835Z"
   },
   {
    "duration": 6,
    "start_time": "2024-06-01T20:16:05.559Z"
   },
   {
    "duration": 6,
    "start_time": "2024-06-01T20:16:45.878Z"
   },
   {
    "duration": 7,
    "start_time": "2024-06-01T20:16:52.924Z"
   },
   {
    "duration": 394,
    "start_time": "2024-06-01T20:17:58.639Z"
   },
   {
    "duration": 116,
    "start_time": "2024-06-01T20:22:15.072Z"
   },
   {
    "duration": 59,
    "start_time": "2024-06-01T20:23:48.313Z"
   },
   {
    "duration": 5,
    "start_time": "2024-06-01T20:23:54.684Z"
   },
   {
    "duration": 58,
    "start_time": "2024-06-01T20:24:52.823Z"
   },
   {
    "duration": 733,
    "start_time": "2024-06-01T20:26:50.870Z"
   },
   {
    "duration": 6,
    "start_time": "2024-06-01T20:26:58.590Z"
   },
   {
    "duration": 108,
    "start_time": "2024-06-01T20:27:31.772Z"
   },
   {
    "duration": 197,
    "start_time": "2024-06-01T20:29:29.808Z"
   },
   {
    "duration": 70,
    "start_time": "2024-06-01T20:29:39.130Z"
   },
   {
    "duration": 29,
    "start_time": "2024-06-01T20:29:51.513Z"
   },
   {
    "duration": 63,
    "start_time": "2024-06-01T20:31:51.071Z"
   },
   {
    "duration": 65,
    "start_time": "2024-06-01T20:32:03.849Z"
   },
   {
    "duration": 183,
    "start_time": "2024-06-01T20:32:39.755Z"
   },
   {
    "duration": 70,
    "start_time": "2024-06-01T20:33:12.001Z"
   },
   {
    "duration": 6,
    "start_time": "2024-06-01T20:33:23.958Z"
   },
   {
    "duration": 68,
    "start_time": "2024-06-01T20:40:14.499Z"
   },
   {
    "duration": 56,
    "start_time": "2024-06-01T20:40:30.530Z"
   },
   {
    "duration": 57,
    "start_time": "2024-06-01T20:41:57.771Z"
   },
   {
    "duration": 78,
    "start_time": "2024-06-01T20:43:54.824Z"
   },
   {
    "duration": 4,
    "start_time": "2024-06-01T20:44:15.838Z"
   },
   {
    "duration": 56,
    "start_time": "2024-06-01T20:47:04.254Z"
   },
   {
    "duration": 10,
    "start_time": "2024-06-01T20:48:43.609Z"
   },
   {
    "duration": 7,
    "start_time": "2024-06-01T20:49:11.869Z"
   },
   {
    "duration": 9,
    "start_time": "2024-06-01T20:49:20.536Z"
   },
   {
    "duration": 8,
    "start_time": "2024-06-01T20:49:29.887Z"
   },
   {
    "duration": 9,
    "start_time": "2024-06-01T20:50:39.273Z"
   },
   {
    "duration": 25,
    "start_time": "2024-06-01T20:55:07.490Z"
   },
   {
    "duration": 11,
    "start_time": "2024-06-01T20:55:17.525Z"
   },
   {
    "duration": 13,
    "start_time": "2024-06-01T20:57:18.014Z"
   },
   {
    "duration": 10,
    "start_time": "2024-06-01T20:59:15.272Z"
   },
   {
    "duration": 204,
    "start_time": "2024-06-01T20:59:27.370Z"
   },
   {
    "duration": 10,
    "start_time": "2024-06-01T20:59:43.262Z"
   },
   {
    "duration": 11,
    "start_time": "2024-06-01T21:00:08.672Z"
   },
   {
    "duration": 11,
    "start_time": "2024-06-01T21:01:38.440Z"
   },
   {
    "duration": 11,
    "start_time": "2024-06-01T21:01:46.654Z"
   },
   {
    "duration": 13,
    "start_time": "2024-06-01T21:06:12.466Z"
   },
   {
    "duration": 16,
    "start_time": "2024-06-01T21:06:23.380Z"
   },
   {
    "duration": 12,
    "start_time": "2024-06-01T21:06:48.872Z"
   },
   {
    "duration": 13,
    "start_time": "2024-06-01T21:07:47.873Z"
   },
   {
    "duration": 10,
    "start_time": "2024-06-01T21:08:01.547Z"
   },
   {
    "duration": 22,
    "start_time": "2024-06-01T21:17:43.554Z"
   },
   {
    "duration": 318,
    "start_time": "2024-06-01T22:16:36.515Z"
   },
   {
    "duration": 1014,
    "start_time": "2024-06-01T22:16:51.627Z"
   },
   {
    "duration": 398,
    "start_time": "2024-06-01T22:16:52.645Z"
   },
   {
    "duration": 18,
    "start_time": "2024-06-01T22:16:53.046Z"
   },
   {
    "duration": 12,
    "start_time": "2024-06-01T22:16:53.067Z"
   },
   {
    "duration": 7,
    "start_time": "2024-06-01T22:16:53.084Z"
   },
   {
    "duration": 41,
    "start_time": "2024-06-01T22:16:53.095Z"
   },
   {
    "duration": 9,
    "start_time": "2024-06-01T22:16:53.139Z"
   },
   {
    "duration": 19,
    "start_time": "2024-06-01T22:16:53.151Z"
   },
   {
    "duration": 66,
    "start_time": "2024-06-01T22:16:53.174Z"
   },
   {
    "duration": 8,
    "start_time": "2024-06-01T22:16:53.244Z"
   },
   {
    "duration": 183,
    "start_time": "2024-06-01T22:16:53.256Z"
   },
   {
    "duration": 13,
    "start_time": "2024-06-01T22:16:53.443Z"
   },
   {
    "duration": 25,
    "start_time": "2024-06-01T22:16:53.459Z"
   },
   {
    "duration": 8,
    "start_time": "2024-06-01T22:16:53.522Z"
   },
   {
    "duration": 104,
    "start_time": "2024-06-01T22:16:53.534Z"
   },
   {
    "duration": 23,
    "start_time": "2024-06-01T22:16:53.641Z"
   },
   {
    "duration": 8,
    "start_time": "2024-06-01T22:16:53.667Z"
   },
   {
    "duration": 180,
    "start_time": "2024-06-01T22:16:53.679Z"
   },
   {
    "duration": 14,
    "start_time": "2024-06-01T22:16:53.861Z"
   },
   {
    "duration": 945,
    "start_time": "2024-06-01T22:16:53.878Z"
   },
   {
    "duration": 132,
    "start_time": "2024-06-01T22:17:25.860Z"
   },
   {
    "duration": 23,
    "start_time": "2024-06-01T22:17:45.625Z"
   },
   {
    "duration": 29,
    "start_time": "2024-06-01T22:19:45.964Z"
   },
   {
    "duration": 30,
    "start_time": "2024-06-01T22:19:57.349Z"
   },
   {
    "duration": 649,
    "start_time": "2024-06-01T22:21:44.389Z"
   },
   {
    "duration": 52,
    "start_time": "2024-06-01T22:22:46.697Z"
   },
   {
    "duration": 38,
    "start_time": "2024-06-01T22:26:20.226Z"
   },
   {
    "duration": 32,
    "start_time": "2024-06-01T22:36:14.445Z"
   },
   {
    "duration": 35,
    "start_time": "2024-06-01T22:38:14.652Z"
   },
   {
    "duration": 34,
    "start_time": "2024-06-01T22:38:55.100Z"
   },
   {
    "duration": 41,
    "start_time": "2024-06-01T22:39:33.491Z"
   },
   {
    "duration": 27,
    "start_time": "2024-06-01T22:47:34.157Z"
   },
   {
    "duration": 4,
    "start_time": "2024-06-01T22:47:41.662Z"
   },
   {
    "duration": 316,
    "start_time": "2024-06-01T22:47:41.671Z"
   },
   {
    "duration": 16,
    "start_time": "2024-06-01T22:47:41.991Z"
   },
   {
    "duration": 20,
    "start_time": "2024-06-01T22:47:42.012Z"
   },
   {
    "duration": 7,
    "start_time": "2024-06-01T22:47:42.038Z"
   },
   {
    "duration": 19,
    "start_time": "2024-06-01T22:47:42.049Z"
   },
   {
    "duration": 9,
    "start_time": "2024-06-01T22:47:42.071Z"
   },
   {
    "duration": 60,
    "start_time": "2024-06-01T22:47:42.083Z"
   },
   {
    "duration": 34,
    "start_time": "2024-06-01T22:47:42.148Z"
   },
   {
    "duration": 7,
    "start_time": "2024-06-01T22:47:42.222Z"
   },
   {
    "duration": 159,
    "start_time": "2024-06-01T22:47:42.232Z"
   },
   {
    "duration": 29,
    "start_time": "2024-06-01T22:47:42.395Z"
   },
   {
    "duration": 25,
    "start_time": "2024-06-01T22:47:42.427Z"
   },
   {
    "duration": 9,
    "start_time": "2024-06-01T22:47:42.455Z"
   },
   {
    "duration": 120,
    "start_time": "2024-06-01T22:47:42.467Z"
   },
   {
    "duration": 44,
    "start_time": "2024-06-01T22:47:42.590Z"
   },
   {
    "duration": 9,
    "start_time": "2024-06-01T22:47:42.638Z"
   },
   {
    "duration": 167,
    "start_time": "2024-06-01T22:47:42.650Z"
   },
   {
    "duration": 12,
    "start_time": "2024-06-01T22:47:42.820Z"
   },
   {
    "duration": 38,
    "start_time": "2024-06-01T22:47:42.835Z"
   },
   {
    "duration": 77,
    "start_time": "2024-06-01T22:47:42.878Z"
   },
   {
    "duration": 164,
    "start_time": "2024-06-01T22:47:42.959Z"
   },
   {
    "duration": 25,
    "start_time": "2024-06-01T22:47:57.319Z"
   },
   {
    "duration": 34,
    "start_time": "2024-06-01T22:48:25.549Z"
   },
   {
    "duration": 20,
    "start_time": "2024-06-01T22:49:02.340Z"
   },
   {
    "duration": 24,
    "start_time": "2024-06-01T22:53:53.942Z"
   },
   {
    "duration": 23,
    "start_time": "2024-06-01T22:55:04.231Z"
   },
   {
    "duration": 357,
    "start_time": "2024-06-02T00:52:56.491Z"
   },
   {
    "duration": 980,
    "start_time": "2024-06-02T00:53:12.862Z"
   },
   {
    "duration": 428,
    "start_time": "2024-06-02T00:53:13.845Z"
   },
   {
    "duration": 20,
    "start_time": "2024-06-02T00:53:14.276Z"
   },
   {
    "duration": 10,
    "start_time": "2024-06-02T00:53:14.301Z"
   },
   {
    "duration": 10,
    "start_time": "2024-06-02T00:53:14.324Z"
   },
   {
    "duration": 19,
    "start_time": "2024-06-02T00:53:14.337Z"
   },
   {
    "duration": 13,
    "start_time": "2024-06-02T00:53:14.363Z"
   },
   {
    "duration": 67,
    "start_time": "2024-06-02T00:53:14.379Z"
   },
   {
    "duration": 35,
    "start_time": "2024-06-02T00:53:14.454Z"
   },
   {
    "duration": 30,
    "start_time": "2024-06-02T00:53:14.496Z"
   },
   {
    "duration": 211,
    "start_time": "2024-06-02T00:53:14.530Z"
   },
   {
    "duration": 20,
    "start_time": "2024-06-02T00:53:14.745Z"
   },
   {
    "duration": 23,
    "start_time": "2024-06-02T00:53:14.769Z"
   },
   {
    "duration": 32,
    "start_time": "2024-06-02T00:53:14.795Z"
   },
   {
    "duration": 109,
    "start_time": "2024-06-02T00:53:14.831Z"
   },
   {
    "duration": 23,
    "start_time": "2024-06-02T00:53:14.943Z"
   },
   {
    "duration": 7,
    "start_time": "2024-06-02T00:53:14.969Z"
   },
   {
    "duration": 178,
    "start_time": "2024-06-02T00:53:14.980Z"
   },
   {
    "duration": 13,
    "start_time": "2024-06-02T00:53:15.163Z"
   },
   {
    "duration": 60,
    "start_time": "2024-06-02T00:53:15.180Z"
   },
   {
    "duration": 32,
    "start_time": "2024-06-02T00:53:15.243Z"
   },
   {
    "duration": 45,
    "start_time": "2024-06-02T00:53:15.279Z"
   },
   {
    "duration": 25,
    "start_time": "2024-06-02T00:53:15.328Z"
   },
   {
    "duration": 138,
    "start_time": "2024-06-02T00:53:15.356Z"
   },
   {
    "duration": 26,
    "start_time": "2024-06-02T00:53:57.686Z"
   },
   {
    "duration": 8,
    "start_time": "2024-06-02T00:54:55.109Z"
   },
   {
    "duration": 21,
    "start_time": "2024-06-02T00:55:06.844Z"
   },
   {
    "duration": 19,
    "start_time": "2024-06-02T01:10:49.241Z"
   },
   {
    "duration": 24,
    "start_time": "2024-06-02T01:11:51.241Z"
   },
   {
    "duration": 35,
    "start_time": "2024-06-02T01:13:47.538Z"
   },
   {
    "duration": 32,
    "start_time": "2024-06-02T01:14:13.904Z"
   },
   {
    "duration": 44,
    "start_time": "2024-06-02T01:23:09.413Z"
   },
   {
    "duration": 33,
    "start_time": "2024-06-02T01:26:02.469Z"
   },
   {
    "duration": 31,
    "start_time": "2024-06-02T01:28:52.047Z"
   },
   {
    "duration": 28,
    "start_time": "2024-06-02T01:37:30.923Z"
   },
   {
    "duration": 33,
    "start_time": "2024-06-02T01:42:25.568Z"
   },
   {
    "duration": 34,
    "start_time": "2024-06-02T01:42:41.384Z"
   },
   {
    "duration": 30,
    "start_time": "2024-06-02T01:54:31.330Z"
   },
   {
    "duration": 29,
    "start_time": "2024-06-02T01:55:08.563Z"
   },
   {
    "duration": 26,
    "start_time": "2024-06-02T01:55:28.719Z"
   },
   {
    "duration": 36,
    "start_time": "2024-06-02T01:55:47.651Z"
   },
   {
    "duration": 25,
    "start_time": "2024-06-02T02:08:31.267Z"
   },
   {
    "duration": 4,
    "start_time": "2024-06-02T02:08:44.575Z"
   },
   {
    "duration": 290,
    "start_time": "2024-06-02T02:08:44.583Z"
   },
   {
    "duration": 15,
    "start_time": "2024-06-02T02:08:44.876Z"
   },
   {
    "duration": 7,
    "start_time": "2024-06-02T02:08:44.894Z"
   },
   {
    "duration": 6,
    "start_time": "2024-06-02T02:08:44.926Z"
   },
   {
    "duration": 15,
    "start_time": "2024-06-02T02:08:44.935Z"
   },
   {
    "duration": 9,
    "start_time": "2024-06-02T02:08:44.953Z"
   },
   {
    "duration": 492,
    "start_time": "2024-06-02T02:08:44.965Z"
   },
   {
    "duration": 0,
    "start_time": "2024-06-02T02:08:45.462Z"
   },
   {
    "duration": 0,
    "start_time": "2024-06-02T02:08:45.463Z"
   },
   {
    "duration": 0,
    "start_time": "2024-06-02T02:08:45.465Z"
   },
   {
    "duration": 0,
    "start_time": "2024-06-02T02:08:45.467Z"
   },
   {
    "duration": 0,
    "start_time": "2024-06-02T02:08:45.470Z"
   },
   {
    "duration": 0,
    "start_time": "2024-06-02T02:08:45.472Z"
   },
   {
    "duration": 0,
    "start_time": "2024-06-02T02:08:45.474Z"
   },
   {
    "duration": 0,
    "start_time": "2024-06-02T02:08:45.476Z"
   },
   {
    "duration": 0,
    "start_time": "2024-06-02T02:08:45.478Z"
   },
   {
    "duration": 0,
    "start_time": "2024-06-02T02:08:45.481Z"
   },
   {
    "duration": 0,
    "start_time": "2024-06-02T02:08:45.483Z"
   },
   {
    "duration": 0,
    "start_time": "2024-06-02T02:08:45.523Z"
   },
   {
    "duration": 0,
    "start_time": "2024-06-02T02:08:45.526Z"
   },
   {
    "duration": 0,
    "start_time": "2024-06-02T02:08:45.527Z"
   },
   {
    "duration": 0,
    "start_time": "2024-06-02T02:08:45.530Z"
   },
   {
    "duration": 0,
    "start_time": "2024-06-02T02:08:45.533Z"
   },
   {
    "duration": 0,
    "start_time": "2024-06-02T02:08:45.534Z"
   },
   {
    "duration": 0,
    "start_time": "2024-06-02T02:08:45.536Z"
   },
   {
    "duration": 0,
    "start_time": "2024-06-02T02:08:45.538Z"
   },
   {
    "duration": 0,
    "start_time": "2024-06-02T02:08:45.540Z"
   },
   {
    "duration": 0,
    "start_time": "2024-06-02T02:08:45.541Z"
   },
   {
    "duration": 0,
    "start_time": "2024-06-02T02:08:45.543Z"
   },
   {
    "duration": 0,
    "start_time": "2024-06-02T02:08:45.545Z"
   },
   {
    "duration": 0,
    "start_time": "2024-06-02T02:08:45.547Z"
   },
   {
    "duration": 0,
    "start_time": "2024-06-02T02:08:45.549Z"
   },
   {
    "duration": 0,
    "start_time": "2024-06-02T02:08:45.551Z"
   },
   {
    "duration": 4,
    "start_time": "2024-06-02T02:08:52.997Z"
   },
   {
    "duration": 282,
    "start_time": "2024-06-02T02:08:53.006Z"
   },
   {
    "duration": 16,
    "start_time": "2024-06-02T02:08:53.290Z"
   },
   {
    "duration": 8,
    "start_time": "2024-06-02T02:08:53.322Z"
   },
   {
    "duration": 6,
    "start_time": "2024-06-02T02:08:53.334Z"
   },
   {
    "duration": 16,
    "start_time": "2024-06-02T02:08:53.343Z"
   },
   {
    "duration": 8,
    "start_time": "2024-06-02T02:08:53.363Z"
   },
   {
    "duration": 195,
    "start_time": "2024-06-02T02:08:53.374Z"
   },
   {
    "duration": 0,
    "start_time": "2024-06-02T02:08:53.574Z"
   },
   {
    "duration": 0,
    "start_time": "2024-06-02T02:08:53.576Z"
   },
   {
    "duration": 0,
    "start_time": "2024-06-02T02:08:53.579Z"
   },
   {
    "duration": 0,
    "start_time": "2024-06-02T02:08:53.580Z"
   },
   {
    "duration": 0,
    "start_time": "2024-06-02T02:08:53.582Z"
   },
   {
    "duration": 0,
    "start_time": "2024-06-02T02:08:53.584Z"
   },
   {
    "duration": 0,
    "start_time": "2024-06-02T02:08:53.586Z"
   },
   {
    "duration": 0,
    "start_time": "2024-06-02T02:08:53.589Z"
   },
   {
    "duration": 0,
    "start_time": "2024-06-02T02:08:53.590Z"
   },
   {
    "duration": 0,
    "start_time": "2024-06-02T02:08:53.623Z"
   },
   {
    "duration": 0,
    "start_time": "2024-06-02T02:08:53.626Z"
   },
   {
    "duration": 0,
    "start_time": "2024-06-02T02:08:53.628Z"
   },
   {
    "duration": 0,
    "start_time": "2024-06-02T02:08:53.629Z"
   },
   {
    "duration": 0,
    "start_time": "2024-06-02T02:08:53.631Z"
   },
   {
    "duration": 0,
    "start_time": "2024-06-02T02:08:53.633Z"
   },
   {
    "duration": 0,
    "start_time": "2024-06-02T02:08:53.634Z"
   },
   {
    "duration": 0,
    "start_time": "2024-06-02T02:08:53.636Z"
   },
   {
    "duration": 0,
    "start_time": "2024-06-02T02:08:53.638Z"
   },
   {
    "duration": 0,
    "start_time": "2024-06-02T02:08:53.640Z"
   },
   {
    "duration": 0,
    "start_time": "2024-06-02T02:08:53.642Z"
   },
   {
    "duration": 0,
    "start_time": "2024-06-02T02:08:53.649Z"
   },
   {
    "duration": 0,
    "start_time": "2024-06-02T02:08:53.652Z"
   },
   {
    "duration": 0,
    "start_time": "2024-06-02T02:08:53.653Z"
   },
   {
    "duration": 0,
    "start_time": "2024-06-02T02:08:53.657Z"
   },
   {
    "duration": 0,
    "start_time": "2024-06-02T02:08:53.660Z"
   },
   {
    "duration": 0,
    "start_time": "2024-06-02T02:08:53.663Z"
   },
   {
    "duration": 24,
    "start_time": "2024-06-02T02:09:08.645Z"
   },
   {
    "duration": 33,
    "start_time": "2024-06-02T02:11:41.426Z"
   },
   {
    "duration": 32,
    "start_time": "2024-06-02T02:12:22.774Z"
   },
   {
    "duration": 41,
    "start_time": "2024-06-02T02:14:23.550Z"
   },
   {
    "duration": 658,
    "start_time": "2024-06-02T02:17:37.350Z"
   },
   {
    "duration": 4,
    "start_time": "2024-06-02T02:17:45.966Z"
   },
   {
    "duration": 280,
    "start_time": "2024-06-02T02:17:45.975Z"
   },
   {
    "duration": 14,
    "start_time": "2024-06-02T02:17:46.258Z"
   },
   {
    "duration": 7,
    "start_time": "2024-06-02T02:17:46.276Z"
   },
   {
    "duration": 7,
    "start_time": "2024-06-02T02:17:46.288Z"
   },
   {
    "duration": 16,
    "start_time": "2024-06-02T02:17:46.324Z"
   },
   {
    "duration": 8,
    "start_time": "2024-06-02T02:17:46.343Z"
   },
   {
    "duration": 178,
    "start_time": "2024-06-02T02:17:46.355Z"
   },
   {
    "duration": 0,
    "start_time": "2024-06-02T02:17:46.538Z"
   },
   {
    "duration": 0,
    "start_time": "2024-06-02T02:17:46.540Z"
   },
   {
    "duration": 0,
    "start_time": "2024-06-02T02:17:46.542Z"
   },
   {
    "duration": 0,
    "start_time": "2024-06-02T02:17:46.544Z"
   },
   {
    "duration": 0,
    "start_time": "2024-06-02T02:17:46.545Z"
   },
   {
    "duration": 0,
    "start_time": "2024-06-02T02:17:46.547Z"
   },
   {
    "duration": 0,
    "start_time": "2024-06-02T02:17:46.550Z"
   },
   {
    "duration": 0,
    "start_time": "2024-06-02T02:17:46.552Z"
   },
   {
    "duration": 0,
    "start_time": "2024-06-02T02:17:46.554Z"
   },
   {
    "duration": 0,
    "start_time": "2024-06-02T02:17:46.556Z"
   },
   {
    "duration": 0,
    "start_time": "2024-06-02T02:17:46.557Z"
   },
   {
    "duration": 0,
    "start_time": "2024-06-02T02:17:46.560Z"
   },
   {
    "duration": 0,
    "start_time": "2024-06-02T02:17:46.562Z"
   },
   {
    "duration": 0,
    "start_time": "2024-06-02T02:17:46.564Z"
   },
   {
    "duration": 0,
    "start_time": "2024-06-02T02:17:46.565Z"
   },
   {
    "duration": 0,
    "start_time": "2024-06-02T02:17:46.567Z"
   },
   {
    "duration": 0,
    "start_time": "2024-06-02T02:17:46.570Z"
   },
   {
    "duration": 0,
    "start_time": "2024-06-02T02:17:46.623Z"
   },
   {
    "duration": 0,
    "start_time": "2024-06-02T02:17:46.625Z"
   },
   {
    "duration": 0,
    "start_time": "2024-06-02T02:17:46.631Z"
   },
   {
    "duration": 0,
    "start_time": "2024-06-02T02:17:46.633Z"
   },
   {
    "duration": 0,
    "start_time": "2024-06-02T02:17:46.634Z"
   },
   {
    "duration": 0,
    "start_time": "2024-06-02T02:17:46.636Z"
   },
   {
    "duration": 0,
    "start_time": "2024-06-02T02:17:46.637Z"
   },
   {
    "duration": 0,
    "start_time": "2024-06-02T02:17:46.645Z"
   },
   {
    "duration": 1,
    "start_time": "2024-06-02T02:17:46.646Z"
   },
   {
    "duration": 54,
    "start_time": "2024-06-02T02:17:57.103Z"
   },
   {
    "duration": 985,
    "start_time": "2024-06-02T02:18:03.802Z"
   },
   {
    "duration": 284,
    "start_time": "2024-06-02T02:18:04.792Z"
   },
   {
    "duration": 17,
    "start_time": "2024-06-02T02:18:05.079Z"
   },
   {
    "duration": 29,
    "start_time": "2024-06-02T02:18:05.100Z"
   },
   {
    "duration": 7,
    "start_time": "2024-06-02T02:18:05.134Z"
   },
   {
    "duration": 13,
    "start_time": "2024-06-02T02:18:05.146Z"
   },
   {
    "duration": 9,
    "start_time": "2024-06-02T02:18:05.163Z"
   },
   {
    "duration": 868,
    "start_time": "2024-06-02T02:18:05.175Z"
   },
   {
    "duration": 0,
    "start_time": "2024-06-02T02:18:06.048Z"
   },
   {
    "duration": 0,
    "start_time": "2024-06-02T02:18:06.051Z"
   },
   {
    "duration": 0,
    "start_time": "2024-06-02T02:18:06.054Z"
   },
   {
    "duration": 0,
    "start_time": "2024-06-02T02:18:06.057Z"
   },
   {
    "duration": 0,
    "start_time": "2024-06-02T02:18:06.059Z"
   },
   {
    "duration": 0,
    "start_time": "2024-06-02T02:18:06.061Z"
   },
   {
    "duration": 0,
    "start_time": "2024-06-02T02:18:06.063Z"
   },
   {
    "duration": 0,
    "start_time": "2024-06-02T02:18:06.065Z"
   },
   {
    "duration": 0,
    "start_time": "2024-06-02T02:18:06.067Z"
   },
   {
    "duration": 0,
    "start_time": "2024-06-02T02:18:06.070Z"
   },
   {
    "duration": 0,
    "start_time": "2024-06-02T02:18:06.072Z"
   },
   {
    "duration": 0,
    "start_time": "2024-06-02T02:18:06.074Z"
   },
   {
    "duration": 0,
    "start_time": "2024-06-02T02:18:06.077Z"
   },
   {
    "duration": 0,
    "start_time": "2024-06-02T02:18:06.123Z"
   },
   {
    "duration": 0,
    "start_time": "2024-06-02T02:18:06.126Z"
   },
   {
    "duration": 0,
    "start_time": "2024-06-02T02:18:06.128Z"
   },
   {
    "duration": 0,
    "start_time": "2024-06-02T02:18:06.129Z"
   },
   {
    "duration": 0,
    "start_time": "2024-06-02T02:18:06.132Z"
   },
   {
    "duration": 0,
    "start_time": "2024-06-02T02:18:06.134Z"
   },
   {
    "duration": 0,
    "start_time": "2024-06-02T02:18:06.136Z"
   },
   {
    "duration": 0,
    "start_time": "2024-06-02T02:18:06.140Z"
   },
   {
    "duration": 0,
    "start_time": "2024-06-02T02:18:06.141Z"
   },
   {
    "duration": 0,
    "start_time": "2024-06-02T02:18:06.144Z"
   },
   {
    "duration": 0,
    "start_time": "2024-06-02T02:18:06.146Z"
   },
   {
    "duration": 0,
    "start_time": "2024-06-02T02:18:06.149Z"
   },
   {
    "duration": 0,
    "start_time": "2024-06-02T02:18:06.151Z"
   },
   {
    "duration": 13,
    "start_time": "2024-06-02T02:18:14.705Z"
   },
   {
    "duration": 682,
    "start_time": "2024-06-02T02:18:19.455Z"
   },
   {
    "duration": 924,
    "start_time": "2024-06-02T02:52:16.674Z"
   },
   {
    "duration": 295,
    "start_time": "2024-06-02T02:52:17.601Z"
   },
   {
    "duration": 31,
    "start_time": "2024-06-02T02:52:17.899Z"
   },
   {
    "duration": 13,
    "start_time": "2024-06-02T02:52:17.936Z"
   },
   {
    "duration": 7,
    "start_time": "2024-06-02T02:52:17.952Z"
   },
   {
    "duration": 15,
    "start_time": "2024-06-02T02:52:17.963Z"
   },
   {
    "duration": 10,
    "start_time": "2024-06-02T02:52:18.022Z"
   },
   {
    "duration": 820,
    "start_time": "2024-06-02T02:52:18.035Z"
   },
   {
    "duration": 0,
    "start_time": "2024-06-02T02:52:18.859Z"
   },
   {
    "duration": 0,
    "start_time": "2024-06-02T02:52:18.861Z"
   },
   {
    "duration": 0,
    "start_time": "2024-06-02T02:52:18.863Z"
   },
   {
    "duration": 0,
    "start_time": "2024-06-02T02:52:18.865Z"
   },
   {
    "duration": 0,
    "start_time": "2024-06-02T02:52:18.867Z"
   },
   {
    "duration": 0,
    "start_time": "2024-06-02T02:52:18.870Z"
   },
   {
    "duration": 0,
    "start_time": "2024-06-02T02:52:18.872Z"
   },
   {
    "duration": 0,
    "start_time": "2024-06-02T02:52:18.877Z"
   },
   {
    "duration": 0,
    "start_time": "2024-06-02T02:52:18.880Z"
   },
   {
    "duration": 0,
    "start_time": "2024-06-02T02:52:18.883Z"
   },
   {
    "duration": 0,
    "start_time": "2024-06-02T02:52:18.923Z"
   },
   {
    "duration": 0,
    "start_time": "2024-06-02T02:52:18.925Z"
   },
   {
    "duration": 0,
    "start_time": "2024-06-02T02:52:18.927Z"
   },
   {
    "duration": 1,
    "start_time": "2024-06-02T02:52:18.929Z"
   },
   {
    "duration": 0,
    "start_time": "2024-06-02T02:52:18.932Z"
   },
   {
    "duration": 0,
    "start_time": "2024-06-02T02:52:18.934Z"
   },
   {
    "duration": 0,
    "start_time": "2024-06-02T02:52:18.936Z"
   },
   {
    "duration": 0,
    "start_time": "2024-06-02T02:52:18.939Z"
   },
   {
    "duration": 0,
    "start_time": "2024-06-02T02:52:18.941Z"
   },
   {
    "duration": 0,
    "start_time": "2024-06-02T02:52:18.943Z"
   },
   {
    "duration": 0,
    "start_time": "2024-06-02T02:52:18.945Z"
   },
   {
    "duration": 0,
    "start_time": "2024-06-02T02:52:18.947Z"
   },
   {
    "duration": 0,
    "start_time": "2024-06-02T02:52:18.948Z"
   },
   {
    "duration": 0,
    "start_time": "2024-06-02T02:52:18.951Z"
   },
   {
    "duration": 0,
    "start_time": "2024-06-02T02:52:18.953Z"
   },
   {
    "duration": 0,
    "start_time": "2024-06-02T02:52:18.956Z"
   },
   {
    "duration": 161,
    "start_time": "2024-06-02T02:54:52.234Z"
   },
   {
    "duration": 138,
    "start_time": "2024-06-02T02:55:00.333Z"
   },
   {
    "duration": 630,
    "start_time": "2024-06-02T02:55:12.105Z"
   },
   {
    "duration": 32,
    "start_time": "2024-06-02T02:55:29.198Z"
   },
   {
    "duration": 264,
    "start_time": "2024-06-02T02:55:34.305Z"
   },
   {
    "duration": 5,
    "start_time": "2024-06-02T02:56:33.439Z"
   },
   {
    "duration": 266,
    "start_time": "2024-06-02T02:56:37.387Z"
   },
   {
    "duration": 14,
    "start_time": "2024-06-02T02:56:41.438Z"
   },
   {
    "duration": 8,
    "start_time": "2024-06-02T02:56:45.412Z"
   },
   {
    "duration": 7,
    "start_time": "2024-06-02T02:56:52.169Z"
   },
   {
    "duration": 22,
    "start_time": "2024-06-02T02:57:12.288Z"
   },
   {
    "duration": 26,
    "start_time": "2024-06-02T02:57:19.551Z"
   },
   {
    "duration": 8,
    "start_time": "2024-06-02T02:57:21.523Z"
   },
   {
    "duration": 163,
    "start_time": "2024-06-02T02:57:29.322Z"
   },
   {
    "duration": 12,
    "start_time": "2024-06-02T02:57:36.887Z"
   },
   {
    "duration": 21,
    "start_time": "2024-06-02T02:57:43.432Z"
   },
   {
    "duration": 7,
    "start_time": "2024-06-02T02:57:51.426Z"
   },
   {
    "duration": 80,
    "start_time": "2024-06-02T02:57:58.840Z"
   },
   {
    "duration": 25,
    "start_time": "2024-06-02T02:58:05.305Z"
   },
   {
    "duration": 9,
    "start_time": "2024-06-02T02:58:07.183Z"
   },
   {
    "duration": 146,
    "start_time": "2024-06-02T02:58:11.532Z"
   },
   {
    "duration": 15,
    "start_time": "2024-06-02T02:58:18.199Z"
   },
   {
    "duration": 31,
    "start_time": "2024-06-02T02:58:23.508Z"
   },
   {
    "duration": 34,
    "start_time": "2024-06-02T02:59:39.971Z"
   },
   {
    "duration": 21,
    "start_time": "2024-06-02T03:00:13.381Z"
   },
   {
    "duration": 28,
    "start_time": "2024-06-02T03:00:26.994Z"
   },
   {
    "duration": 46,
    "start_time": "2024-06-02T03:00:32.675Z"
   },
   {
    "duration": 33,
    "start_time": "2024-06-02T03:01:51.519Z"
   },
   {
    "duration": 33,
    "start_time": "2024-06-02T03:02:09.914Z"
   },
   {
    "duration": 66,
    "start_time": "2024-06-02T03:02:59.357Z"
   },
   {
    "duration": 31,
    "start_time": "2024-06-02T03:04:23.480Z"
   },
   {
    "duration": 36,
    "start_time": "2024-06-02T03:08:42.289Z"
   },
   {
    "duration": 5,
    "start_time": "2024-06-02T03:08:57.129Z"
   },
   {
    "duration": 33,
    "start_time": "2024-06-02T03:09:10.441Z"
   },
   {
    "duration": 32,
    "start_time": "2024-06-02T03:09:40.916Z"
   },
   {
    "duration": 27,
    "start_time": "2024-06-02T03:10:02.242Z"
   },
   {
    "duration": 28,
    "start_time": "2024-06-02T03:10:11.698Z"
   },
   {
    "duration": 57,
    "start_time": "2024-06-02T03:10:26.594Z"
   },
   {
    "duration": 503,
    "start_time": "2024-06-02T03:17:54.126Z"
   },
   {
    "duration": 54,
    "start_time": "2024-06-02T03:18:07.584Z"
   },
   {
    "duration": 41,
    "start_time": "2024-06-02T03:28:21.106Z"
   },
   {
    "duration": 35,
    "start_time": "2024-06-02T03:30:54.743Z"
   },
   {
    "duration": 26,
    "start_time": "2024-06-02T03:31:57.399Z"
   },
   {
    "duration": 3,
    "start_time": "2024-06-02T03:32:08.672Z"
   },
   {
    "duration": 50,
    "start_time": "2024-06-02T03:36:02.380Z"
   },
   {
    "duration": 28,
    "start_time": "2024-06-02T03:36:17.962Z"
   },
   {
    "duration": 39,
    "start_time": "2024-06-02T03:37:30.263Z"
   },
   {
    "duration": 326,
    "start_time": "2024-06-02T17:13:54.201Z"
   },
   {
    "duration": 1008,
    "start_time": "2024-06-02T17:13:59.025Z"
   },
   {
    "duration": 345,
    "start_time": "2024-06-02T17:14:00.037Z"
   },
   {
    "duration": 16,
    "start_time": "2024-06-02T17:14:00.385Z"
   },
   {
    "duration": 27,
    "start_time": "2024-06-02T17:14:00.404Z"
   },
   {
    "duration": 9,
    "start_time": "2024-06-02T17:14:00.435Z"
   },
   {
    "duration": 14,
    "start_time": "2024-06-02T17:14:00.447Z"
   },
   {
    "duration": 8,
    "start_time": "2024-06-02T17:14:00.465Z"
   },
   {
    "duration": 65,
    "start_time": "2024-06-02T17:14:00.476Z"
   },
   {
    "duration": 24,
    "start_time": "2024-06-02T17:14:00.544Z"
   },
   {
    "duration": 7,
    "start_time": "2024-06-02T17:14:00.571Z"
   },
   {
    "duration": 177,
    "start_time": "2024-06-02T17:14:00.581Z"
   },
   {
    "duration": 13,
    "start_time": "2024-06-02T17:14:00.763Z"
   },
   {
    "duration": 20,
    "start_time": "2024-06-02T17:14:00.778Z"
   },
   {
    "duration": 7,
    "start_time": "2024-06-02T17:14:00.832Z"
   },
   {
    "duration": 99,
    "start_time": "2024-06-02T17:14:00.843Z"
   },
   {
    "duration": 23,
    "start_time": "2024-06-02T17:14:00.945Z"
   },
   {
    "duration": 8,
    "start_time": "2024-06-02T17:14:00.970Z"
   },
   {
    "duration": 173,
    "start_time": "2024-06-02T17:14:00.982Z"
   },
   {
    "duration": 13,
    "start_time": "2024-06-02T17:14:01.157Z"
   },
   {
    "duration": 30,
    "start_time": "2024-06-02T17:14:01.174Z"
   },
   {
    "duration": 31,
    "start_time": "2024-06-02T17:14:01.234Z"
   },
   {
    "duration": 21,
    "start_time": "2024-06-02T17:14:01.267Z"
   },
   {
    "duration": 60,
    "start_time": "2024-06-02T17:14:01.291Z"
   },
   {
    "duration": 48,
    "start_time": "2024-06-02T17:14:01.355Z"
   },
   {
    "duration": 115,
    "start_time": "2024-06-02T17:15:57.518Z"
   },
   {
    "duration": 942,
    "start_time": "2024-06-03T02:10:50.442Z"
   },
   {
    "duration": 366,
    "start_time": "2024-06-03T02:10:51.388Z"
   },
   {
    "duration": 21,
    "start_time": "2024-06-03T02:10:51.757Z"
   },
   {
    "duration": 12,
    "start_time": "2024-06-03T02:10:51.783Z"
   },
   {
    "duration": 14,
    "start_time": "2024-06-03T02:10:51.798Z"
   },
   {
    "duration": 15,
    "start_time": "2024-06-03T02:10:51.832Z"
   },
   {
    "duration": 8,
    "start_time": "2024-06-03T02:10:51.851Z"
   },
   {
    "duration": 18,
    "start_time": "2024-06-03T02:10:51.863Z"
   },
   {
    "duration": 61,
    "start_time": "2024-06-03T02:10:51.884Z"
   },
   {
    "duration": 8,
    "start_time": "2024-06-03T02:10:51.951Z"
   },
   {
    "duration": 191,
    "start_time": "2024-06-03T02:10:51.962Z"
   },
   {
    "duration": 12,
    "start_time": "2024-06-03T02:10:52.156Z"
   },
   {
    "duration": 20,
    "start_time": "2024-06-03T02:10:52.171Z"
   },
   {
    "duration": 39,
    "start_time": "2024-06-03T02:10:52.194Z"
   },
   {
    "duration": 99,
    "start_time": "2024-06-03T02:10:52.239Z"
   },
   {
    "duration": 23,
    "start_time": "2024-06-03T02:10:52.342Z"
   },
   {
    "duration": 7,
    "start_time": "2024-06-03T02:10:52.368Z"
   },
   {
    "duration": 179,
    "start_time": "2024-06-03T02:10:52.379Z"
   },
   {
    "duration": 13,
    "start_time": "2024-06-03T02:10:52.562Z"
   },
   {
    "duration": 56,
    "start_time": "2024-06-03T02:10:52.579Z"
   },
   {
    "duration": 32,
    "start_time": "2024-06-03T02:10:52.638Z"
   },
   {
    "duration": 21,
    "start_time": "2024-06-03T02:10:52.673Z"
   },
   {
    "duration": 26,
    "start_time": "2024-06-03T02:10:52.730Z"
   },
   {
    "duration": 109,
    "start_time": "2024-06-03T02:10:52.759Z"
   },
   {
    "duration": 206,
    "start_time": "2024-06-03T02:10:52.872Z"
   },
   {
    "duration": 0,
    "start_time": "2024-06-03T02:10:53.082Z"
   },
   {
    "duration": 0,
    "start_time": "2024-06-03T02:10:53.083Z"
   },
   {
    "duration": 0,
    "start_time": "2024-06-03T02:10:53.086Z"
   },
   {
    "duration": 0,
    "start_time": "2024-06-03T02:10:53.088Z"
   },
   {
    "duration": 0,
    "start_time": "2024-06-03T02:10:53.091Z"
   },
   {
    "duration": 0,
    "start_time": "2024-06-03T02:10:53.093Z"
   },
   {
    "duration": 0,
    "start_time": "2024-06-03T02:10:53.095Z"
   },
   {
    "duration": 0,
    "start_time": "2024-06-03T02:10:53.097Z"
   },
   {
    "duration": 0,
    "start_time": "2024-06-03T02:10:53.099Z"
   },
   {
    "duration": 40,
    "start_time": "2024-06-03T02:15:10.286Z"
   },
   {
    "duration": 39,
    "start_time": "2024-06-03T02:16:18.485Z"
   },
   {
    "duration": 40,
    "start_time": "2024-06-03T02:16:25.811Z"
   },
   {
    "duration": 43,
    "start_time": "2024-06-03T02:16:53.213Z"
   },
   {
    "duration": 40,
    "start_time": "2024-06-03T02:18:41.438Z"
   },
   {
    "duration": 40,
    "start_time": "2024-06-03T02:23:57.268Z"
   },
   {
    "duration": 40,
    "start_time": "2024-06-03T02:24:08.820Z"
   },
   {
    "duration": 39,
    "start_time": "2024-06-03T02:26:08.750Z"
   },
   {
    "duration": 9,
    "start_time": "2024-06-03T02:29:28.904Z"
   },
   {
    "duration": 39,
    "start_time": "2024-06-03T02:29:39.403Z"
   },
   {
    "duration": 3,
    "start_time": "2024-06-03T02:29:59.276Z"
   },
   {
    "duration": 224,
    "start_time": "2024-06-03T02:58:03.575Z"
   },
   {
    "duration": 4,
    "start_time": "2024-06-03T02:58:10.252Z"
   },
   {
    "duration": 305,
    "start_time": "2024-06-03T02:58:10.269Z"
   },
   {
    "duration": 16,
    "start_time": "2024-06-03T02:58:10.577Z"
   },
   {
    "duration": 35,
    "start_time": "2024-06-03T02:58:10.596Z"
   },
   {
    "duration": 6,
    "start_time": "2024-06-03T02:58:10.634Z"
   },
   {
    "duration": 15,
    "start_time": "2024-06-03T02:58:10.645Z"
   },
   {
    "duration": 9,
    "start_time": "2024-06-03T02:58:10.664Z"
   },
   {
    "duration": 58,
    "start_time": "2024-06-03T02:58:10.676Z"
   },
   {
    "duration": 33,
    "start_time": "2024-06-03T02:58:10.738Z"
   },
   {
    "duration": 56,
    "start_time": "2024-06-03T02:58:10.774Z"
   },
   {
    "duration": 152,
    "start_time": "2024-06-03T02:58:10.835Z"
   },
   {
    "duration": 13,
    "start_time": "2024-06-03T02:58:10.990Z"
   },
   {
    "duration": 40,
    "start_time": "2024-06-03T02:58:11.006Z"
   },
   {
    "duration": 7,
    "start_time": "2024-06-03T02:58:11.049Z"
   },
   {
    "duration": 168,
    "start_time": "2024-06-03T02:58:11.064Z"
   },
   {
    "duration": 21,
    "start_time": "2024-06-03T02:58:11.235Z"
   },
   {
    "duration": 8,
    "start_time": "2024-06-03T02:58:11.259Z"
   },
   {
    "duration": 164,
    "start_time": "2024-06-03T02:58:11.271Z"
   },
   {
    "duration": 12,
    "start_time": "2024-06-03T02:58:11.438Z"
   },
   {
    "duration": 30,
    "start_time": "2024-06-03T02:58:11.453Z"
   },
   {
    "duration": 65,
    "start_time": "2024-06-03T02:58:11.487Z"
   },
   {
    "duration": 20,
    "start_time": "2024-06-03T02:58:11.555Z"
   },
   {
    "duration": 55,
    "start_time": "2024-06-03T02:58:11.578Z"
   },
   {
    "duration": 47,
    "start_time": "2024-06-03T02:58:11.637Z"
   },
   {
    "duration": 47,
    "start_time": "2024-06-03T02:58:11.686Z"
   },
   {
    "duration": 24,
    "start_time": "2024-06-03T02:58:36.322Z"
   },
   {
    "duration": 41,
    "start_time": "2024-06-03T02:59:14.077Z"
   },
   {
    "duration": 24,
    "start_time": "2024-06-03T02:59:41.953Z"
   },
   {
    "duration": 31,
    "start_time": "2024-06-03T03:00:28.841Z"
   },
   {
    "duration": 24,
    "start_time": "2024-06-03T03:02:05.995Z"
   },
   {
    "duration": 41,
    "start_time": "2024-06-03T03:03:31.857Z"
   },
   {
    "duration": 41,
    "start_time": "2024-06-03T03:05:37.865Z"
   },
   {
    "duration": 28,
    "start_time": "2024-06-03T03:07:16.146Z"
   },
   {
    "duration": 33,
    "start_time": "2024-06-03T03:08:38.499Z"
   },
   {
    "duration": 9,
    "start_time": "2024-06-03T03:26:06.935Z"
   },
   {
    "duration": 37,
    "start_time": "2024-06-03T03:26:30.440Z"
   },
   {
    "duration": 38,
    "start_time": "2024-06-03T03:30:11.439Z"
   },
   {
    "duration": 49,
    "start_time": "2024-06-03T03:35:26.718Z"
   },
   {
    "duration": 400,
    "start_time": "2024-06-03T04:11:25.202Z"
   },
   {
    "duration": 1202,
    "start_time": "2024-06-03T04:11:31.820Z"
   },
   {
    "duration": 534,
    "start_time": "2024-06-03T04:11:33.025Z"
   },
   {
    "duration": 25,
    "start_time": "2024-06-03T04:11:33.563Z"
   },
   {
    "duration": 10,
    "start_time": "2024-06-03T04:11:33.594Z"
   },
   {
    "duration": 8,
    "start_time": "2024-06-03T04:11:33.608Z"
   },
   {
    "duration": 44,
    "start_time": "2024-06-03T04:11:33.620Z"
   },
   {
    "duration": 22,
    "start_time": "2024-06-03T04:11:33.673Z"
   },
   {
    "duration": 26,
    "start_time": "2024-06-03T04:11:33.699Z"
   },
   {
    "duration": 54,
    "start_time": "2024-06-03T04:11:33.732Z"
   },
   {
    "duration": 12,
    "start_time": "2024-06-03T04:11:33.795Z"
   },
   {
    "duration": 231,
    "start_time": "2024-06-03T04:11:33.811Z"
   },
   {
    "duration": 25,
    "start_time": "2024-06-03T04:11:34.056Z"
   },
   {
    "duration": 21,
    "start_time": "2024-06-03T04:11:34.084Z"
   },
   {
    "duration": 8,
    "start_time": "2024-06-03T04:11:34.108Z"
   },
   {
    "duration": 125,
    "start_time": "2024-06-03T04:11:34.132Z"
   },
   {
    "duration": 41,
    "start_time": "2024-06-03T04:11:34.261Z"
   },
   {
    "duration": 25,
    "start_time": "2024-06-03T04:11:34.305Z"
   },
   {
    "duration": 188,
    "start_time": "2024-06-03T04:11:34.334Z"
   },
   {
    "duration": 22,
    "start_time": "2024-06-03T04:11:34.536Z"
   },
   {
    "duration": 42,
    "start_time": "2024-06-03T04:11:34.564Z"
   },
   {
    "duration": 70,
    "start_time": "2024-06-03T04:11:34.609Z"
   },
   {
    "duration": 28,
    "start_time": "2024-06-03T04:11:34.683Z"
   },
   {
    "duration": 58,
    "start_time": "2024-06-03T04:11:34.714Z"
   },
   {
    "duration": 40,
    "start_time": "2024-06-03T04:11:34.778Z"
   },
   {
    "duration": 44,
    "start_time": "2024-06-03T04:11:34.831Z"
   },
   {
    "duration": 36,
    "start_time": "2024-06-03T04:12:22.984Z"
   },
   {
    "duration": 48,
    "start_time": "2024-06-03T04:13:13.124Z"
   },
   {
    "duration": 42,
    "start_time": "2024-06-03T04:13:48.741Z"
   },
   {
    "duration": 28,
    "start_time": "2024-06-03T04:14:12.874Z"
   },
   {
    "duration": 45,
    "start_time": "2024-06-03T04:14:21.031Z"
   },
   {
    "duration": 34,
    "start_time": "2024-06-03T04:14:41.615Z"
   },
   {
    "duration": 47,
    "start_time": "2024-06-03T04:14:50.946Z"
   },
   {
    "duration": 34,
    "start_time": "2024-06-03T04:15:06.445Z"
   },
   {
    "duration": 150,
    "start_time": "2024-06-03T04:17:13.241Z"
   },
   {
    "duration": 56,
    "start_time": "2024-06-03T04:18:20.341Z"
   },
   {
    "duration": 44,
    "start_time": "2024-06-03T04:18:38.423Z"
   },
   {
    "duration": 50,
    "start_time": "2024-06-03T04:20:34.833Z"
   },
   {
    "duration": 42,
    "start_time": "2024-06-03T04:20:43.363Z"
   },
   {
    "duration": 43,
    "start_time": "2024-06-03T04:26:43.823Z"
   },
   {
    "duration": 34,
    "start_time": "2024-06-03T04:27:07.969Z"
   },
   {
    "duration": 40,
    "start_time": "2024-06-03T04:27:51.340Z"
   },
   {
    "duration": 21,
    "start_time": "2024-06-03T04:28:26.321Z"
   },
   {
    "duration": 39,
    "start_time": "2024-06-03T04:28:47.900Z"
   },
   {
    "duration": 46,
    "start_time": "2024-06-03T04:31:02.848Z"
   },
   {
    "duration": 21,
    "start_time": "2024-06-03T04:34:16.686Z"
   },
   {
    "duration": 60,
    "start_time": "2024-06-03T04:39:59.917Z"
   },
   {
    "duration": 37,
    "start_time": "2024-06-03T04:40:10.586Z"
   },
   {
    "duration": 22,
    "start_time": "2024-06-03T04:43:08.800Z"
   },
   {
    "duration": 26,
    "start_time": "2024-06-03T04:43:28.082Z"
   },
   {
    "duration": 35,
    "start_time": "2024-06-03T04:44:01.732Z"
   },
   {
    "duration": 30,
    "start_time": "2024-06-03T04:44:33.257Z"
   },
   {
    "duration": 44,
    "start_time": "2024-06-03T04:46:07.154Z"
   },
   {
    "duration": 63,
    "start_time": "2024-06-03T04:48:22.134Z"
   },
   {
    "duration": 22,
    "start_time": "2024-06-03T04:52:03.497Z"
   },
   {
    "duration": 26,
    "start_time": "2024-06-03T04:53:07.299Z"
   },
   {
    "duration": 21,
    "start_time": "2024-06-03T05:06:49.633Z"
   },
   {
    "duration": 13,
    "start_time": "2024-06-03T05:07:39.139Z"
   },
   {
    "duration": 27,
    "start_time": "2024-06-03T05:09:56.167Z"
   },
   {
    "duration": 28,
    "start_time": "2024-06-03T05:10:22.149Z"
   },
   {
    "duration": 113,
    "start_time": "2024-06-03T05:12:27.029Z"
   },
   {
    "duration": 70,
    "start_time": "2024-06-03T05:13:21.765Z"
   },
   {
    "duration": 52,
    "start_time": "2024-06-03T05:14:12.691Z"
   },
   {
    "duration": 43,
    "start_time": "2024-06-03T05:14:45.957Z"
   },
   {
    "duration": 11,
    "start_time": "2024-06-03T12:28:24.059Z"
   },
   {
    "duration": 317,
    "start_time": "2024-06-03T12:28:39.206Z"
   },
   {
    "duration": 991,
    "start_time": "2024-06-03T12:28:51.346Z"
   },
   {
    "duration": 378,
    "start_time": "2024-06-03T12:28:52.343Z"
   },
   {
    "duration": 16,
    "start_time": "2024-06-03T12:28:52.723Z"
   },
   {
    "duration": 10,
    "start_time": "2024-06-03T12:28:52.743Z"
   },
   {
    "duration": 7,
    "start_time": "2024-06-03T12:28:52.756Z"
   },
   {
    "duration": 15,
    "start_time": "2024-06-03T12:28:52.767Z"
   },
   {
    "duration": 9,
    "start_time": "2024-06-03T12:28:52.784Z"
   },
   {
    "duration": 20,
    "start_time": "2024-06-03T12:28:52.834Z"
   },
   {
    "duration": 24,
    "start_time": "2024-06-03T12:28:52.857Z"
   },
   {
    "duration": 57,
    "start_time": "2024-06-03T12:28:52.886Z"
   },
   {
    "duration": 7,
    "start_time": "2024-06-03T12:28:52.946Z"
   },
   {
    "duration": 178,
    "start_time": "2024-06-03T12:28:52.956Z"
   },
   {
    "duration": 15,
    "start_time": "2024-06-03T12:28:53.137Z"
   },
   {
    "duration": 23,
    "start_time": "2024-06-03T12:28:53.155Z"
   },
   {
    "duration": 9,
    "start_time": "2024-06-03T12:28:53.181Z"
   },
   {
    "duration": 76,
    "start_time": "2024-06-03T12:28:53.233Z"
   },
   {
    "duration": 25,
    "start_time": "2024-06-03T12:28:53.332Z"
   },
   {
    "duration": 11,
    "start_time": "2024-06-03T12:28:53.362Z"
   },
   {
    "duration": 177,
    "start_time": "2024-06-03T12:28:53.377Z"
   },
   {
    "duration": 13,
    "start_time": "2024-06-03T12:28:53.557Z"
   },
   {
    "duration": 30,
    "start_time": "2024-06-03T12:28:53.573Z"
   },
   {
    "duration": 31,
    "start_time": "2024-06-03T12:28:53.634Z"
   },
   {
    "duration": 20,
    "start_time": "2024-06-03T12:28:53.669Z"
   },
   {
    "duration": 52,
    "start_time": "2024-06-03T12:28:53.692Z"
   },
   {
    "duration": 35,
    "start_time": "2024-06-03T12:28:53.746Z"
   },
   {
    "duration": 50,
    "start_time": "2024-06-03T12:28:53.784Z"
   },
   {
    "duration": 4,
    "start_time": "2024-06-03T12:28:53.837Z"
   },
   {
    "duration": 3,
    "start_time": "2024-06-03T12:28:53.848Z"
   },
   {
    "duration": 3,
    "start_time": "2024-06-03T12:28:53.854Z"
   },
   {
    "duration": 3,
    "start_time": "2024-06-03T12:28:53.860Z"
   },
   {
    "duration": 4,
    "start_time": "2024-06-03T12:28:53.867Z"
   },
   {
    "duration": 4,
    "start_time": "2024-06-03T12:28:53.874Z"
   },
   {
    "duration": 3,
    "start_time": "2024-06-03T12:28:53.932Z"
   },
   {
    "duration": 3,
    "start_time": "2024-06-03T12:28:53.939Z"
   },
   {
    "duration": 3,
    "start_time": "2024-06-03T12:28:53.946Z"
   },
   {
    "duration": 30,
    "start_time": "2024-06-03T12:29:19.910Z"
   },
   {
    "duration": 41,
    "start_time": "2024-06-03T12:29:45.106Z"
   },
   {
    "duration": 31,
    "start_time": "2024-06-03T12:45:38.402Z"
   },
   {
    "duration": 31,
    "start_time": "2024-06-03T12:46:11.665Z"
   },
   {
    "duration": 32,
    "start_time": "2024-06-03T12:46:22.636Z"
   },
   {
    "duration": 721,
    "start_time": "2024-06-03T12:50:04.230Z"
   },
   {
    "duration": 31,
    "start_time": "2024-06-03T12:50:54.929Z"
   },
   {
    "duration": 332,
    "start_time": "2024-06-03T17:31:02.492Z"
   },
   {
    "duration": 956,
    "start_time": "2024-06-03T17:31:08.441Z"
   },
   {
    "duration": 356,
    "start_time": "2024-06-03T17:31:09.405Z"
   },
   {
    "duration": 17,
    "start_time": "2024-06-03T17:31:09.764Z"
   },
   {
    "duration": 10,
    "start_time": "2024-06-03T17:31:09.785Z"
   },
   {
    "duration": 7,
    "start_time": "2024-06-03T17:31:09.806Z"
   },
   {
    "duration": 17,
    "start_time": "2024-06-03T17:31:09.816Z"
   },
   {
    "duration": 9,
    "start_time": "2024-06-03T17:31:09.836Z"
   },
   {
    "duration": 59,
    "start_time": "2024-06-03T17:31:09.849Z"
   },
   {
    "duration": 24,
    "start_time": "2024-06-03T17:31:09.911Z"
   },
   {
    "duration": 25,
    "start_time": "2024-06-03T17:31:09.941Z"
   },
   {
    "duration": 41,
    "start_time": "2024-06-03T17:31:09.969Z"
   },
   {
    "duration": 159,
    "start_time": "2024-06-03T17:31:10.014Z"
   },
   {
    "duration": 33,
    "start_time": "2024-06-03T17:31:10.177Z"
   },
   {
    "duration": 20,
    "start_time": "2024-06-03T17:31:10.213Z"
   },
   {
    "duration": 6,
    "start_time": "2024-06-03T17:31:10.236Z"
   },
   {
    "duration": 108,
    "start_time": "2024-06-03T17:31:10.245Z"
   },
   {
    "duration": 23,
    "start_time": "2024-06-03T17:31:10.355Z"
   },
   {
    "duration": 30,
    "start_time": "2024-06-03T17:31:10.381Z"
   },
   {
    "duration": 158,
    "start_time": "2024-06-03T17:31:10.414Z"
   },
   {
    "duration": 15,
    "start_time": "2024-06-03T17:31:10.575Z"
   },
   {
    "duration": 29,
    "start_time": "2024-06-03T17:31:10.608Z"
   },
   {
    "duration": 32,
    "start_time": "2024-06-03T17:31:10.640Z"
   },
   {
    "duration": 49,
    "start_time": "2024-06-03T17:31:10.675Z"
   },
   {
    "duration": 25,
    "start_time": "2024-06-03T17:31:10.727Z"
   },
   {
    "duration": 72,
    "start_time": "2024-06-03T17:31:10.755Z"
   },
   {
    "duration": 45,
    "start_time": "2024-06-03T17:36:02.251Z"
   },
   {
    "duration": 137,
    "start_time": "2024-06-03T17:36:14.601Z"
   },
   {
    "duration": 44,
    "start_time": "2024-06-03T17:37:50.894Z"
   },
   {
    "duration": 21,
    "start_time": "2024-06-03T17:39:26.812Z"
   },
   {
    "duration": 944,
    "start_time": "2024-06-04T00:45:20.119Z"
   },
   {
    "duration": 362,
    "start_time": "2024-06-04T00:45:21.068Z"
   },
   {
    "duration": 17,
    "start_time": "2024-06-04T00:45:21.432Z"
   },
   {
    "duration": 10,
    "start_time": "2024-06-04T00:45:21.452Z"
   },
   {
    "duration": 8,
    "start_time": "2024-06-04T00:45:21.466Z"
   },
   {
    "duration": 40,
    "start_time": "2024-06-04T00:45:21.477Z"
   },
   {
    "duration": 10,
    "start_time": "2024-06-04T00:45:21.521Z"
   },
   {
    "duration": 25,
    "start_time": "2024-06-04T00:45:21.534Z"
   },
   {
    "duration": 63,
    "start_time": "2024-06-04T00:45:21.564Z"
   },
   {
    "duration": 25,
    "start_time": "2024-06-04T00:45:21.630Z"
   },
   {
    "duration": 8,
    "start_time": "2024-06-04T00:45:21.658Z"
   },
   {
    "duration": 184,
    "start_time": "2024-06-04T00:45:21.669Z"
   },
   {
    "duration": 15,
    "start_time": "2024-06-04T00:45:21.856Z"
   },
   {
    "duration": 47,
    "start_time": "2024-06-04T00:45:21.878Z"
   },
   {
    "duration": 8,
    "start_time": "2024-06-04T00:45:21.928Z"
   },
   {
    "duration": 110,
    "start_time": "2024-06-04T00:45:21.939Z"
   },
   {
    "duration": 23,
    "start_time": "2024-06-04T00:45:22.052Z"
   },
   {
    "duration": 27,
    "start_time": "2024-06-04T00:45:22.078Z"
   },
   {
    "duration": 149,
    "start_time": "2024-06-04T00:45:22.108Z"
   },
   {
    "duration": 12,
    "start_time": "2024-06-04T00:45:22.260Z"
   },
   {
    "duration": 51,
    "start_time": "2024-06-04T00:45:22.276Z"
   },
   {
    "duration": 31,
    "start_time": "2024-06-04T00:45:22.330Z"
   },
   {
    "duration": 48,
    "start_time": "2024-06-04T00:45:22.364Z"
   },
   {
    "duration": 26,
    "start_time": "2024-06-04T00:45:22.415Z"
   },
   {
    "duration": 107,
    "start_time": "2024-06-04T00:45:22.443Z"
   },
   {
    "duration": 24,
    "start_time": "2024-06-04T00:45:22.553Z"
   },
   {
    "duration": 3,
    "start_time": "2024-06-04T00:45:22.580Z"
   },
   {
    "duration": 23,
    "start_time": "2024-06-04T00:45:22.586Z"
   },
   {
    "duration": 4,
    "start_time": "2024-06-04T00:45:22.612Z"
   },
   {
    "duration": 4,
    "start_time": "2024-06-04T00:45:22.619Z"
   },
   {
    "duration": 3,
    "start_time": "2024-06-04T00:45:22.626Z"
   },
   {
    "duration": 13,
    "start_time": "2024-06-04T00:45:22.633Z"
   },
   {
    "duration": 3,
    "start_time": "2024-06-04T00:45:22.649Z"
   },
   {
    "duration": 50,
    "start_time": "2024-06-04T00:45:22.657Z"
   },
   {
    "duration": 3,
    "start_time": "2024-06-04T00:45:22.710Z"
   },
   {
    "duration": 30,
    "start_time": "2024-06-04T00:45:56.558Z"
   },
   {
    "duration": 16,
    "start_time": "2024-06-04T00:49:23.380Z"
   },
   {
    "duration": 19,
    "start_time": "2024-06-04T00:49:51.227Z"
   },
   {
    "duration": 15,
    "start_time": "2024-06-04T00:50:10.345Z"
   },
   {
    "duration": 24,
    "start_time": "2024-06-04T00:53:56.220Z"
   },
   {
    "duration": 24,
    "start_time": "2024-06-04T00:54:12.051Z"
   },
   {
    "duration": 16,
    "start_time": "2024-06-04T00:54:18.867Z"
   },
   {
    "duration": 16,
    "start_time": "2024-06-04T00:55:00.607Z"
   },
   {
    "duration": 18,
    "start_time": "2024-06-04T00:55:08.022Z"
   },
   {
    "duration": 1231,
    "start_time": "2024-06-04T00:56:31.226Z"
   },
   {
    "duration": 23,
    "start_time": "2024-06-04T00:56:47.813Z"
   },
   {
    "duration": 29,
    "start_time": "2024-06-04T00:57:01.869Z"
   },
   {
    "duration": 31,
    "start_time": "2024-06-04T01:01:15.305Z"
   },
   {
    "duration": 23,
    "start_time": "2024-06-04T01:10:41.428Z"
   },
   {
    "duration": 23,
    "start_time": "2024-06-04T01:11:00.247Z"
   },
   {
    "duration": 21,
    "start_time": "2024-06-04T01:14:21.808Z"
   },
   {
    "duration": 28,
    "start_time": "2024-06-04T01:18:21.898Z"
   },
   {
    "duration": 44,
    "start_time": "2024-06-04T01:25:19.754Z"
   },
   {
    "duration": 34,
    "start_time": "2024-06-04T01:25:58.692Z"
   },
   {
    "duration": 49,
    "start_time": "2024-06-04T03:09:11.023Z"
   },
   {
    "duration": 41,
    "start_time": "2024-06-04T03:10:54.773Z"
   },
   {
    "duration": 34,
    "start_time": "2024-06-04T03:11:11.687Z"
   },
   {
    "duration": 38,
    "start_time": "2024-06-04T03:11:30.962Z"
   },
   {
    "duration": 28,
    "start_time": "2024-06-04T03:12:16.938Z"
   },
   {
    "duration": 33,
    "start_time": "2024-06-04T03:17:08.958Z"
   },
   {
    "duration": 28,
    "start_time": "2024-06-04T03:17:26.508Z"
   },
   {
    "duration": 29,
    "start_time": "2024-06-04T03:23:15.313Z"
   },
   {
    "duration": 31,
    "start_time": "2024-06-04T03:26:51.620Z"
   },
   {
    "duration": 32,
    "start_time": "2024-06-04T04:15:54.320Z"
   },
   {
    "duration": 42,
    "start_time": "2024-06-04T04:17:13.016Z"
   },
   {
    "duration": 36,
    "start_time": "2024-06-04T04:17:39.950Z"
   },
   {
    "duration": 41,
    "start_time": "2024-06-04T04:18:40.761Z"
   },
   {
    "duration": 37,
    "start_time": "2024-06-04T04:19:35.942Z"
   },
   {
    "duration": 372,
    "start_time": "2024-06-04T04:38:48.604Z"
   },
   {
    "duration": 14,
    "start_time": "2024-06-04T04:39:18.577Z"
   },
   {
    "duration": 101,
    "start_time": "2024-06-04T04:39:54.256Z"
   },
   {
    "duration": 45,
    "start_time": "2024-06-04T04:40:33.990Z"
   },
   {
    "duration": 6,
    "start_time": "2024-06-04T04:40:55.692Z"
   },
   {
    "duration": 13,
    "start_time": "2024-06-04T04:41:13.457Z"
   },
   {
    "duration": 820,
    "start_time": "2024-06-04T04:43:20.424Z"
   },
   {
    "duration": 157,
    "start_time": "2024-06-04T04:43:41.213Z"
   },
   {
    "duration": 249,
    "start_time": "2024-06-04T04:44:03.975Z"
   },
   {
    "duration": 19,
    "start_time": "2024-06-04T04:44:36.394Z"
   },
   {
    "duration": 29,
    "start_time": "2024-06-04T04:45:06.090Z"
   },
   {
    "duration": 35,
    "start_time": "2024-06-04T04:48:39.816Z"
   },
   {
    "duration": 41,
    "start_time": "2024-06-04T04:49:45.221Z"
   },
   {
    "duration": 41,
    "start_time": "2024-06-04T04:56:23.876Z"
   },
   {
    "duration": 38,
    "start_time": "2024-06-04T04:59:33.414Z"
   },
   {
    "duration": 40,
    "start_time": "2024-06-04T05:01:14.812Z"
   },
   {
    "duration": 43,
    "start_time": "2024-06-04T05:02:12.498Z"
   },
   {
    "duration": 46,
    "start_time": "2024-06-04T05:04:50.498Z"
   },
   {
    "duration": 36,
    "start_time": "2024-06-04T05:04:59.258Z"
   },
   {
    "duration": 35,
    "start_time": "2024-06-04T05:08:56.169Z"
   },
   {
    "duration": 37,
    "start_time": "2024-06-04T05:22:36.151Z"
   },
   {
    "duration": 39,
    "start_time": "2024-06-04T05:22:55.687Z"
   },
   {
    "duration": 34,
    "start_time": "2024-06-04T05:24:17.439Z"
   },
   {
    "duration": 31,
    "start_time": "2024-06-04T05:27:02.599Z"
   },
   {
    "duration": 29,
    "start_time": "2024-06-04T05:27:45.692Z"
   },
   {
    "duration": 32,
    "start_time": "2024-06-04T05:28:16.453Z"
   },
   {
    "duration": 28,
    "start_time": "2024-06-04T05:28:55.745Z"
   },
   {
    "duration": 951,
    "start_time": "2024-06-04T12:24:04.882Z"
   },
   {
    "duration": 435,
    "start_time": "2024-06-04T12:24:05.838Z"
   },
   {
    "duration": 17,
    "start_time": "2024-06-04T12:24:06.275Z"
   },
   {
    "duration": 9,
    "start_time": "2024-06-04T12:24:06.296Z"
   },
   {
    "duration": 7,
    "start_time": "2024-06-04T12:24:06.308Z"
   },
   {
    "duration": 24,
    "start_time": "2024-06-04T12:24:06.318Z"
   },
   {
    "duration": 8,
    "start_time": "2024-06-04T12:24:06.345Z"
   },
   {
    "duration": 29,
    "start_time": "2024-06-04T12:24:06.356Z"
   },
   {
    "duration": 70,
    "start_time": "2024-06-04T12:24:06.388Z"
   },
   {
    "duration": 24,
    "start_time": "2024-06-04T12:24:06.466Z"
   },
   {
    "duration": 7,
    "start_time": "2024-06-04T12:24:06.493Z"
   },
   {
    "duration": 181,
    "start_time": "2024-06-04T12:24:06.503Z"
   },
   {
    "duration": 12,
    "start_time": "2024-06-04T12:24:06.686Z"
   },
   {
    "duration": 45,
    "start_time": "2024-06-04T12:24:06.701Z"
   },
   {
    "duration": 11,
    "start_time": "2024-06-04T12:24:06.749Z"
   },
   {
    "duration": 101,
    "start_time": "2024-06-04T12:24:06.763Z"
   },
   {
    "duration": 22,
    "start_time": "2024-06-04T12:24:06.867Z"
   },
   {
    "duration": 8,
    "start_time": "2024-06-04T12:24:06.892Z"
   },
   {
    "duration": 180,
    "start_time": "2024-06-04T12:24:06.902Z"
   },
   {
    "duration": 16,
    "start_time": "2024-06-04T12:24:07.086Z"
   },
   {
    "duration": 51,
    "start_time": "2024-06-04T12:24:07.105Z"
   },
   {
    "duration": 32,
    "start_time": "2024-06-04T12:24:07.160Z"
   },
   {
    "duration": 53,
    "start_time": "2024-06-04T12:24:07.196Z"
   },
   {
    "duration": 32,
    "start_time": "2024-06-04T12:24:07.252Z"
   },
   {
    "duration": 113,
    "start_time": "2024-06-04T12:24:07.288Z"
   },
   {
    "duration": 45,
    "start_time": "2024-06-04T12:24:07.403Z"
   },
   {
    "duration": 35,
    "start_time": "2024-06-04T12:24:07.451Z"
   },
   {
    "duration": 3,
    "start_time": "2024-06-04T12:24:07.494Z"
   },
   {
    "duration": 31,
    "start_time": "2024-06-04T12:24:07.500Z"
   },
   {
    "duration": 5,
    "start_time": "2024-06-04T12:24:07.533Z"
   },
   {
    "duration": 8,
    "start_time": "2024-06-04T12:24:07.542Z"
   },
   {
    "duration": 3,
    "start_time": "2024-06-04T12:24:07.555Z"
   },
   {
    "duration": 6,
    "start_time": "2024-06-04T12:24:07.560Z"
   },
   {
    "duration": 3,
    "start_time": "2024-06-04T12:24:07.570Z"
   },
   {
    "duration": 4,
    "start_time": "2024-06-04T12:24:07.576Z"
   },
   {
    "duration": 1588,
    "start_time": "2024-06-04T12:28:43.371Z"
   },
   {
    "duration": 4,
    "start_time": "2024-06-04T12:28:56.835Z"
   },
   {
    "duration": 315,
    "start_time": "2024-06-04T12:28:56.844Z"
   },
   {
    "duration": 15,
    "start_time": "2024-06-04T12:28:57.163Z"
   },
   {
    "duration": 9,
    "start_time": "2024-06-04T12:28:57.181Z"
   },
   {
    "duration": 7,
    "start_time": "2024-06-04T12:28:57.196Z"
   },
   {
    "duration": 16,
    "start_time": "2024-06-04T12:28:57.233Z"
   },
   {
    "duration": 10,
    "start_time": "2024-06-04T12:28:57.252Z"
   },
   {
    "duration": 23,
    "start_time": "2024-06-04T12:28:57.264Z"
   },
   {
    "duration": 24,
    "start_time": "2024-06-04T12:28:57.330Z"
   },
   {
    "duration": 28,
    "start_time": "2024-06-04T12:28:57.357Z"
   },
   {
    "duration": 39,
    "start_time": "2024-06-04T12:28:57.392Z"
   },
   {
    "duration": 155,
    "start_time": "2024-06-04T12:28:57.434Z"
   },
   {
    "duration": 13,
    "start_time": "2024-06-04T12:28:57.591Z"
   },
   {
    "duration": 40,
    "start_time": "2024-06-04T12:28:57.607Z"
   },
   {
    "duration": 8,
    "start_time": "2024-06-04T12:28:57.650Z"
   },
   {
    "duration": 111,
    "start_time": "2024-06-04T12:28:57.662Z"
   },
   {
    "duration": 33,
    "start_time": "2024-06-04T12:28:57.776Z"
   },
   {
    "duration": 8,
    "start_time": "2024-06-04T12:28:57.831Z"
   },
   {
    "duration": 170,
    "start_time": "2024-06-04T12:28:57.843Z"
   },
   {
    "duration": 26,
    "start_time": "2024-06-04T12:28:58.017Z"
   },
   {
    "duration": 35,
    "start_time": "2024-06-04T12:28:58.047Z"
   },
   {
    "duration": 64,
    "start_time": "2024-06-04T12:28:58.085Z"
   },
   {
    "duration": 20,
    "start_time": "2024-06-04T12:28:58.155Z"
   },
   {
    "duration": 28,
    "start_time": "2024-06-04T12:28:58.178Z"
   },
   {
    "duration": 48,
    "start_time": "2024-06-04T12:28:58.232Z"
   },
   {
    "duration": 54,
    "start_time": "2024-06-04T12:28:58.283Z"
   },
   {
    "duration": 290,
    "start_time": "2024-06-04T12:28:58.340Z"
   },
   {
    "duration": 278,
    "start_time": "2024-06-04T12:29:34.491Z"
   },
   {
    "duration": 295,
    "start_time": "2024-06-04T12:30:42.171Z"
   },
   {
    "duration": 733,
    "start_time": "2024-06-04T12:31:51.974Z"
   },
   {
    "duration": 38,
    "start_time": "2024-06-04T12:32:28.602Z"
   },
   {
    "duration": 35,
    "start_time": "2024-06-04T12:34:56.875Z"
   },
   {
    "duration": 41,
    "start_time": "2024-06-04T12:36:04.922Z"
   },
   {
    "duration": 39,
    "start_time": "2024-06-04T12:36:21.941Z"
   },
   {
    "duration": 43,
    "start_time": "2024-06-04T12:38:12.345Z"
   },
   {
    "duration": 37,
    "start_time": "2024-06-04T12:38:39.969Z"
   },
   {
    "duration": 43,
    "start_time": "2024-06-04T12:42:20.344Z"
   },
   {
    "duration": 36,
    "start_time": "2024-06-04T12:44:20.742Z"
   },
   {
    "duration": 43,
    "start_time": "2024-06-04T12:44:32.059Z"
   },
   {
    "duration": 36,
    "start_time": "2024-06-04T12:45:02.854Z"
   },
   {
    "duration": 47,
    "start_time": "2024-06-04T12:45:21.039Z"
   },
   {
    "duration": 9,
    "start_time": "2024-06-04T12:45:43.483Z"
   },
   {
    "duration": 34,
    "start_time": "2024-06-04T12:46:08.338Z"
   },
   {
    "duration": 36,
    "start_time": "2024-06-04T12:46:22.083Z"
   },
   {
    "duration": 36,
    "start_time": "2024-06-04T12:47:36.765Z"
   },
   {
    "duration": 34,
    "start_time": "2024-06-04T12:49:43.692Z"
   },
   {
    "duration": 37,
    "start_time": "2024-06-04T12:49:54.378Z"
   },
   {
    "duration": 36,
    "start_time": "2024-06-04T12:50:17.259Z"
   },
   {
    "duration": 40,
    "start_time": "2024-06-04T12:52:16.411Z"
   },
   {
    "duration": 37,
    "start_time": "2024-06-04T12:52:36.147Z"
   },
   {
    "duration": 108,
    "start_time": "2024-06-04T12:53:58.351Z"
   },
   {
    "duration": 36,
    "start_time": "2024-06-04T12:54:23.051Z"
   },
   {
    "duration": 34,
    "start_time": "2024-06-04T12:55:01.587Z"
   },
   {
    "duration": 31,
    "start_time": "2024-06-04T12:58:43.119Z"
   },
   {
    "duration": 35,
    "start_time": "2024-06-04T12:59:05.946Z"
   },
   {
    "duration": 36,
    "start_time": "2024-06-04T13:04:31.169Z"
   },
   {
    "duration": 44,
    "start_time": "2024-06-04T13:06:23.824Z"
   },
   {
    "duration": 39,
    "start_time": "2024-06-04T13:08:54.153Z"
   },
   {
    "duration": 45,
    "start_time": "2024-06-04T13:09:58.086Z"
   },
   {
    "duration": 55,
    "start_time": "2024-06-04T13:12:41.759Z"
   },
   {
    "duration": 35,
    "start_time": "2024-06-04T13:14:13.311Z"
   },
   {
    "duration": 40,
    "start_time": "2024-06-04T13:16:35.814Z"
   },
   {
    "duration": 40,
    "start_time": "2024-06-04T13:17:09.022Z"
   },
   {
    "duration": 65,
    "start_time": "2024-06-04T13:17:52.022Z"
   },
   {
    "duration": 40,
    "start_time": "2024-06-04T13:20:55.716Z"
   },
   {
    "duration": 36,
    "start_time": "2024-06-04T13:21:49.611Z"
   },
   {
    "duration": 46,
    "start_time": "2024-06-04T13:23:40.120Z"
   },
   {
    "duration": 43,
    "start_time": "2024-06-04T13:24:06.131Z"
   },
   {
    "duration": 290,
    "start_time": "2024-06-04T13:27:39.800Z"
   },
   {
    "duration": 92,
    "start_time": "2024-06-04T13:28:33.155Z"
   },
   {
    "duration": 50,
    "start_time": "2024-06-04T13:29:22.823Z"
   },
   {
    "duration": 122,
    "start_time": "2024-06-04T13:31:52.790Z"
   },
   {
    "duration": 57,
    "start_time": "2024-06-04T13:32:39.810Z"
   },
   {
    "duration": 307,
    "start_time": "2024-06-04T13:41:23.954Z"
   },
   {
    "duration": 125,
    "start_time": "2024-06-04T13:43:23.569Z"
   },
   {
    "duration": 119,
    "start_time": "2024-06-04T13:43:29.877Z"
   },
   {
    "duration": 124,
    "start_time": "2024-06-04T13:43:58.976Z"
   },
   {
    "duration": 130,
    "start_time": "2024-06-04T13:44:30.676Z"
   },
   {
    "duration": 49,
    "start_time": "2024-06-04T13:44:41.432Z"
   },
   {
    "duration": 48,
    "start_time": "2024-06-04T13:45:04.530Z"
   },
   {
    "duration": 124,
    "start_time": "2024-06-04T13:48:29.242Z"
   },
   {
    "duration": 45,
    "start_time": "2024-06-04T13:49:44.198Z"
   },
   {
    "duration": 49,
    "start_time": "2024-06-04T13:49:59.565Z"
   },
   {
    "duration": 51,
    "start_time": "2024-06-04T13:51:17.797Z"
   },
   {
    "duration": 54,
    "start_time": "2024-06-04T13:54:03.110Z"
   },
   {
    "duration": 52,
    "start_time": "2024-06-04T13:55:56.112Z"
   },
   {
    "duration": 51,
    "start_time": "2024-06-04T13:56:10.402Z"
   },
   {
    "duration": 942,
    "start_time": "2024-06-04T23:37:39.431Z"
   },
   {
    "duration": 379,
    "start_time": "2024-06-04T23:37:40.375Z"
   },
   {
    "duration": 16,
    "start_time": "2024-06-04T23:37:40.758Z"
   },
   {
    "duration": 10,
    "start_time": "2024-06-04T23:37:40.779Z"
   },
   {
    "duration": 6,
    "start_time": "2024-06-04T23:37:40.792Z"
   },
   {
    "duration": 39,
    "start_time": "2024-06-04T23:37:40.802Z"
   },
   {
    "duration": 7,
    "start_time": "2024-06-04T23:37:40.844Z"
   },
   {
    "duration": 18,
    "start_time": "2024-06-04T23:37:40.855Z"
   },
   {
    "duration": 66,
    "start_time": "2024-06-04T23:37:40.876Z"
   },
   {
    "duration": 25,
    "start_time": "2024-06-04T23:37:40.948Z"
   },
   {
    "duration": 7,
    "start_time": "2024-06-04T23:37:40.976Z"
   },
   {
    "duration": 169,
    "start_time": "2024-06-04T23:37:40.986Z"
   },
   {
    "duration": 12,
    "start_time": "2024-06-04T23:37:41.159Z"
   },
   {
    "duration": 20,
    "start_time": "2024-06-04T23:37:41.174Z"
   },
   {
    "duration": 36,
    "start_time": "2024-06-04T23:37:41.197Z"
   },
   {
    "duration": 102,
    "start_time": "2024-06-04T23:37:41.237Z"
   },
   {
    "duration": 30,
    "start_time": "2024-06-04T23:37:41.342Z"
   },
   {
    "duration": 7,
    "start_time": "2024-06-04T23:37:41.375Z"
   },
   {
    "duration": 181,
    "start_time": "2024-06-04T23:37:41.386Z"
   },
   {
    "duration": 12,
    "start_time": "2024-06-04T23:37:41.571Z"
   },
   {
    "duration": 58,
    "start_time": "2024-06-04T23:37:41.587Z"
   },
   {
    "duration": 36,
    "start_time": "2024-06-04T23:37:41.648Z"
   },
   {
    "duration": 44,
    "start_time": "2024-06-04T23:37:41.688Z"
   },
   {
    "duration": 25,
    "start_time": "2024-06-04T23:37:41.735Z"
   },
   {
    "duration": 102,
    "start_time": "2024-06-04T23:37:41.763Z"
   },
   {
    "duration": 32,
    "start_time": "2024-06-04T23:37:41.870Z"
   },
   {
    "duration": 90,
    "start_time": "2024-06-04T23:37:41.904Z"
   },
   {
    "duration": 3,
    "start_time": "2024-06-04T23:37:42.001Z"
   },
   {
    "duration": 5,
    "start_time": "2024-06-04T23:37:42.007Z"
   },
   {
    "duration": 18,
    "start_time": "2024-06-04T23:37:42.015Z"
   },
   {
    "duration": 4,
    "start_time": "2024-06-04T23:37:42.036Z"
   },
   {
    "duration": 3,
    "start_time": "2024-06-04T23:37:42.044Z"
   },
   {
    "duration": 4,
    "start_time": "2024-06-04T23:37:42.050Z"
   },
   {
    "duration": 4,
    "start_time": "2024-06-04T23:37:42.056Z"
   },
   {
    "duration": 4,
    "start_time": "2024-06-04T23:37:42.063Z"
   },
   {
    "duration": 48,
    "start_time": "2024-06-04T23:38:13.035Z"
   },
   {
    "duration": 50,
    "start_time": "2024-06-04T23:39:28.594Z"
   },
   {
    "duration": 49,
    "start_time": "2024-06-04T23:42:29.936Z"
   },
   {
    "duration": 59,
    "start_time": "2024-06-04T23:42:48.344Z"
   },
   {
    "duration": 64,
    "start_time": "2024-06-04T23:44:30.005Z"
   },
   {
    "duration": 1536,
    "start_time": "2024-06-04T23:46:13.112Z"
   },
   {
    "duration": 313,
    "start_time": "2024-06-04T23:47:03.235Z"
   },
   {
    "duration": 121,
    "start_time": "2024-06-04T23:47:36.225Z"
   },
   {
    "duration": 127,
    "start_time": "2024-06-04T23:48:45.274Z"
   },
   {
    "duration": 60,
    "start_time": "2024-06-04T23:49:17.994Z"
   },
   {
    "duration": 50,
    "start_time": "2024-06-04T23:50:49.287Z"
   },
   {
    "duration": 49,
    "start_time": "2024-06-04T23:51:03.685Z"
   },
   {
    "duration": 66,
    "start_time": "2024-06-04T23:51:25.431Z"
   },
   {
    "duration": 58,
    "start_time": "2024-06-04T23:51:50.853Z"
   },
   {
    "duration": 71,
    "start_time": "2024-06-04T23:53:09.030Z"
   },
   {
    "duration": 64,
    "start_time": "2024-06-04T23:57:40.150Z"
   },
   {
    "duration": 58,
    "start_time": "2024-06-04T23:59:28.517Z"
   },
   {
    "duration": 102,
    "start_time": "2024-06-05T00:02:23.309Z"
   },
   {
    "duration": 59,
    "start_time": "2024-06-05T00:02:43.311Z"
   },
   {
    "duration": 64,
    "start_time": "2024-06-05T00:04:43.179Z"
   },
   {
    "duration": 82,
    "start_time": "2024-06-05T00:05:44.939Z"
   },
   {
    "duration": 70,
    "start_time": "2024-06-05T00:09:52.874Z"
   },
   {
    "duration": 76,
    "start_time": "2024-06-05T00:11:23.225Z"
   },
   {
    "duration": 82,
    "start_time": "2024-06-05T00:13:23.186Z"
   },
   {
    "duration": 339,
    "start_time": "2024-06-05T00:18:22.709Z"
   },
   {
    "duration": 75,
    "start_time": "2024-06-05T00:19:18.062Z"
   },
   {
    "duration": 12,
    "start_time": "2024-06-05T00:19:22.241Z"
   },
   {
    "duration": 13,
    "start_time": "2024-06-05T00:19:59.289Z"
   },
   {
    "duration": 18,
    "start_time": "2024-06-05T00:21:19.476Z"
   },
   {
    "duration": 353,
    "start_time": "2024-06-05T00:23:00.026Z"
   },
   {
    "duration": 84,
    "start_time": "2024-06-05T00:23:51.587Z"
   },
   {
    "duration": 19,
    "start_time": "2024-06-05T00:23:55.166Z"
   },
   {
    "duration": 898,
    "start_time": "2024-06-05T02:14:46.347Z"
   },
   {
    "duration": 385,
    "start_time": "2024-06-05T02:14:47.248Z"
   },
   {
    "duration": 18,
    "start_time": "2024-06-05T02:14:47.636Z"
   },
   {
    "duration": 9,
    "start_time": "2024-06-05T02:14:47.660Z"
   },
   {
    "duration": 8,
    "start_time": "2024-06-05T02:14:47.692Z"
   },
   {
    "duration": 14,
    "start_time": "2024-06-05T02:14:47.703Z"
   },
   {
    "duration": 10,
    "start_time": "2024-06-05T02:14:47.720Z"
   },
   {
    "duration": 66,
    "start_time": "2024-06-05T02:14:47.734Z"
   },
   {
    "duration": 28,
    "start_time": "2024-06-05T02:14:47.806Z"
   },
   {
    "duration": 25,
    "start_time": "2024-06-05T02:14:47.840Z"
   },
   {
    "duration": 10,
    "start_time": "2024-06-05T02:14:47.892Z"
   },
   {
    "duration": 164,
    "start_time": "2024-06-05T02:14:47.905Z"
   },
   {
    "duration": 31,
    "start_time": "2024-06-05T02:14:48.072Z"
   },
   {
    "duration": 22,
    "start_time": "2024-06-05T02:14:48.106Z"
   },
   {
    "duration": 7,
    "start_time": "2024-06-05T02:14:48.131Z"
   },
   {
    "duration": 112,
    "start_time": "2024-06-05T02:14:48.146Z"
   },
   {
    "duration": 38,
    "start_time": "2024-06-05T02:14:48.260Z"
   },
   {
    "duration": 7,
    "start_time": "2024-06-05T02:14:48.301Z"
   },
   {
    "duration": 155,
    "start_time": "2024-06-05T02:14:48.311Z"
   },
   {
    "duration": 26,
    "start_time": "2024-06-05T02:14:48.469Z"
   },
   {
    "duration": 29,
    "start_time": "2024-06-05T02:14:48.499Z"
   },
   {
    "duration": 65,
    "start_time": "2024-06-05T02:14:48.532Z"
   },
   {
    "duration": 21,
    "start_time": "2024-06-05T02:14:48.601Z"
   },
   {
    "duration": 25,
    "start_time": "2024-06-05T02:14:48.625Z"
   },
   {
    "duration": 118,
    "start_time": "2024-06-05T02:14:48.653Z"
   },
   {
    "duration": 46,
    "start_time": "2024-06-05T02:14:48.774Z"
   },
   {
    "duration": 100,
    "start_time": "2024-06-05T02:14:48.824Z"
   },
   {
    "duration": 21,
    "start_time": "2024-06-05T02:14:48.931Z"
   },
   {
    "duration": 3,
    "start_time": "2024-06-05T02:14:48.955Z"
   },
   {
    "duration": 30,
    "start_time": "2024-06-05T02:14:48.961Z"
   },
   {
    "duration": 4,
    "start_time": "2024-06-05T02:14:48.994Z"
   },
   {
    "duration": 4,
    "start_time": "2024-06-05T02:14:49.001Z"
   },
   {
    "duration": 4,
    "start_time": "2024-06-05T02:14:49.008Z"
   },
   {
    "duration": 4,
    "start_time": "2024-06-05T02:14:49.015Z"
   },
   {
    "duration": 4,
    "start_time": "2024-06-05T02:14:49.022Z"
   },
   {
    "duration": 5277,
    "start_time": "2024-06-05T02:18:07.433Z"
   },
   {
    "duration": 263,
    "start_time": "2024-06-05T02:18:17.416Z"
   },
   {
    "duration": 261,
    "start_time": "2024-06-05T02:20:22.925Z"
   },
   {
    "duration": 5,
    "start_time": "2024-06-05T02:20:33.647Z"
   },
   {
    "duration": 280,
    "start_time": "2024-06-05T02:20:44.800Z"
   },
   {
    "duration": 281,
    "start_time": "2024-06-05T02:21:18.439Z"
   },
   {
    "duration": 250,
    "start_time": "2024-06-05T02:22:23.148Z"
   },
   {
    "duration": 220,
    "start_time": "2024-06-05T02:22:58.122Z"
   },
   {
    "duration": 305,
    "start_time": "2024-06-05T02:24:21.102Z"
   },
   {
    "duration": 233,
    "start_time": "2024-06-05T02:24:38.583Z"
   },
   {
    "duration": 392,
    "start_time": "2024-06-05T02:26:05.673Z"
   },
   {
    "duration": 214,
    "start_time": "2024-06-05T02:26:25.863Z"
   },
   {
    "duration": 236,
    "start_time": "2024-06-05T02:26:33.615Z"
   },
   {
    "duration": 273,
    "start_time": "2024-06-05T02:29:55.483Z"
   },
   {
    "duration": 334,
    "start_time": "2024-06-05T02:30:14.860Z"
   },
   {
    "duration": 293,
    "start_time": "2024-06-05T02:31:10.784Z"
   },
   {
    "duration": 283,
    "start_time": "2024-06-05T02:31:34.290Z"
   },
   {
    "duration": 261,
    "start_time": "2024-06-05T02:32:17.829Z"
   },
   {
    "duration": 246,
    "start_time": "2024-06-05T02:32:36.317Z"
   },
   {
    "duration": 218,
    "start_time": "2024-06-05T02:39:18.011Z"
   },
   {
    "duration": 17,
    "start_time": "2024-06-05T02:40:04.959Z"
   },
   {
    "duration": 28,
    "start_time": "2024-06-05T02:40:10.911Z"
   },
   {
    "duration": 26,
    "start_time": "2024-06-05T02:40:22.612Z"
   },
   {
    "duration": 23,
    "start_time": "2024-06-05T02:41:13.503Z"
   },
   {
    "duration": 22,
    "start_time": "2024-06-05T02:41:23.022Z"
   },
   {
    "duration": 15,
    "start_time": "2024-06-05T02:41:40.024Z"
   },
   {
    "duration": 18,
    "start_time": "2024-06-05T02:41:43.783Z"
   },
   {
    "duration": 777,
    "start_time": "2024-06-05T02:42:05.640Z"
   },
   {
    "duration": 27,
    "start_time": "2024-06-05T02:42:37.374Z"
   },
   {
    "duration": 91,
    "start_time": "2024-06-05T02:42:44.112Z"
   },
   {
    "duration": 15,
    "start_time": "2024-06-05T02:43:05.945Z"
   },
   {
    "duration": 30,
    "start_time": "2024-06-05T02:43:24.172Z"
   },
   {
    "duration": 43,
    "start_time": "2024-06-05T02:44:26.799Z"
   },
   {
    "duration": 8,
    "start_time": "2024-06-05T02:45:16.131Z"
   },
   {
    "duration": 41,
    "start_time": "2024-06-05T02:45:22.522Z"
   },
   {
    "duration": 56,
    "start_time": "2024-06-05T02:46:16.531Z"
   },
   {
    "duration": 53,
    "start_time": "2024-06-05T02:46:26.783Z"
   },
   {
    "duration": 53,
    "start_time": "2024-06-05T02:47:52.703Z"
   },
   {
    "duration": 80,
    "start_time": "2024-06-05T02:47:58.594Z"
   },
   {
    "duration": 18,
    "start_time": "2024-06-05T02:48:27.402Z"
   },
   {
    "duration": 37,
    "start_time": "2024-06-05T02:48:40.745Z"
   },
   {
    "duration": 19,
    "start_time": "2024-06-05T02:48:44.989Z"
   },
   {
    "duration": 17,
    "start_time": "2024-06-05T02:48:55.995Z"
   },
   {
    "duration": 34,
    "start_time": "2024-06-05T02:49:32.143Z"
   },
   {
    "duration": 6,
    "start_time": "2024-06-05T02:49:55.406Z"
   },
   {
    "duration": 10,
    "start_time": "2024-06-05T02:50:39.333Z"
   },
   {
    "duration": 13,
    "start_time": "2024-06-05T02:50:49.392Z"
   },
   {
    "duration": 8,
    "start_time": "2024-06-05T02:50:59.238Z"
   },
   {
    "duration": 58,
    "start_time": "2024-06-05T02:54:19.887Z"
   },
   {
    "duration": 66,
    "start_time": "2024-06-05T02:54:49.875Z"
   },
   {
    "duration": 67,
    "start_time": "2024-06-05T02:55:11.044Z"
   },
   {
    "duration": 70,
    "start_time": "2024-06-05T02:55:15.863Z"
   },
   {
    "duration": 325,
    "start_time": "2024-06-05T04:21:12.160Z"
   },
   {
    "duration": 24,
    "start_time": "2024-06-05T04:21:17.194Z"
   },
   {
    "duration": 24,
    "start_time": "2024-06-05T04:21:21.144Z"
   },
   {
    "duration": 27,
    "start_time": "2024-06-05T04:25:05.010Z"
   },
   {
    "duration": 4818,
    "start_time": "2024-06-05T04:25:42.872Z"
   },
   {
    "duration": 378,
    "start_time": "2024-06-05T04:25:47.694Z"
   },
   {
    "duration": 15,
    "start_time": "2024-06-05T04:25:48.075Z"
   },
   {
    "duration": 14,
    "start_time": "2024-06-05T04:25:48.095Z"
   },
   {
    "duration": 7,
    "start_time": "2024-06-05T04:25:48.112Z"
   },
   {
    "duration": 14,
    "start_time": "2024-06-05T04:25:48.123Z"
   },
   {
    "duration": 15,
    "start_time": "2024-06-05T04:25:48.140Z"
   },
   {
    "duration": 63,
    "start_time": "2024-06-05T04:25:48.158Z"
   },
   {
    "duration": 30,
    "start_time": "2024-06-05T04:25:48.226Z"
   },
   {
    "duration": 53,
    "start_time": "2024-06-05T04:25:48.262Z"
   },
   {
    "duration": 8,
    "start_time": "2024-06-05T04:25:48.318Z"
   },
   {
    "duration": 167,
    "start_time": "2024-06-05T04:25:48.329Z"
   },
   {
    "duration": 14,
    "start_time": "2024-06-05T04:25:48.503Z"
   },
   {
    "duration": 21,
    "start_time": "2024-06-05T04:25:48.519Z"
   },
   {
    "duration": 7,
    "start_time": "2024-06-05T04:25:48.544Z"
   },
   {
    "duration": 117,
    "start_time": "2024-06-05T04:25:48.554Z"
   },
   {
    "duration": 47,
    "start_time": "2024-06-05T04:25:48.674Z"
   },
   {
    "duration": 7,
    "start_time": "2024-06-05T04:25:48.724Z"
   },
   {
    "duration": 164,
    "start_time": "2024-06-05T04:25:48.734Z"
   },
   {
    "duration": 13,
    "start_time": "2024-06-05T04:25:48.903Z"
   },
   {
    "duration": 35,
    "start_time": "2024-06-05T04:25:48.920Z"
   },
   {
    "duration": 64,
    "start_time": "2024-06-05T04:25:48.959Z"
   },
   {
    "duration": 21,
    "start_time": "2024-06-05T04:25:49.027Z"
   },
   {
    "duration": 53,
    "start_time": "2024-06-05T04:25:49.051Z"
   },
   {
    "duration": 36,
    "start_time": "2024-06-05T04:25:49.107Z"
   },
   {
    "duration": 63,
    "start_time": "2024-06-05T04:25:49.146Z"
   },
   {
    "duration": 99,
    "start_time": "2024-06-05T04:25:49.213Z"
   },
   {
    "duration": 742,
    "start_time": "2024-06-05T04:25:49.319Z"
   },
   {
    "duration": 0,
    "start_time": "2024-06-05T04:25:50.065Z"
   },
   {
    "duration": 0,
    "start_time": "2024-06-05T04:25:50.070Z"
   },
   {
    "duration": 0,
    "start_time": "2024-06-05T04:25:50.073Z"
   },
   {
    "duration": 0,
    "start_time": "2024-06-05T04:25:50.075Z"
   },
   {
    "duration": 0,
    "start_time": "2024-06-05T04:25:50.078Z"
   },
   {
    "duration": 0,
    "start_time": "2024-06-05T04:25:50.080Z"
   },
   {
    "duration": 0,
    "start_time": "2024-06-05T04:25:50.102Z"
   },
   {
    "duration": 0,
    "start_time": "2024-06-05T04:25:50.104Z"
   },
   {
    "duration": 20,
    "start_time": "2024-06-05T04:26:15.789Z"
   },
   {
    "duration": 17,
    "start_time": "2024-06-05T04:27:04.684Z"
   },
   {
    "duration": 26,
    "start_time": "2024-06-05T04:36:46.016Z"
   },
   {
    "duration": 330,
    "start_time": "2024-06-05T04:37:46.588Z"
   },
   {
    "duration": 104,
    "start_time": "2024-06-05T04:37:54.328Z"
   },
   {
    "duration": 293,
    "start_time": "2024-06-05T04:38:02.274Z"
   },
   {
    "duration": 311,
    "start_time": "2024-06-05T04:39:24.855Z"
   },
   {
    "duration": 310,
    "start_time": "2024-06-05T04:40:03.050Z"
   },
   {
    "duration": 10,
    "start_time": "2024-06-05T04:41:16.311Z"
   },
   {
    "duration": 305,
    "start_time": "2024-06-05T04:41:48.724Z"
   },
   {
    "duration": 7,
    "start_time": "2024-06-05T04:44:41.828Z"
   },
   {
    "duration": 12,
    "start_time": "2024-06-05T04:47:43.852Z"
   },
   {
    "duration": 14,
    "start_time": "2024-06-05T04:48:16.011Z"
   },
   {
    "duration": 7,
    "start_time": "2024-06-05T04:48:32.771Z"
   },
   {
    "duration": 5,
    "start_time": "2024-06-05T04:50:02.705Z"
   },
   {
    "duration": 10,
    "start_time": "2024-06-05T04:50:33.855Z"
   },
   {
    "duration": 14,
    "start_time": "2024-06-05T04:51:38.219Z"
   },
   {
    "duration": 118,
    "start_time": "2024-06-05T04:53:16.491Z"
   },
   {
    "duration": 54,
    "start_time": "2024-06-05T04:54:31.882Z"
   },
   {
    "duration": 51,
    "start_time": "2024-06-05T04:57:42.918Z"
   },
   {
    "duration": 44,
    "start_time": "2024-06-05T04:58:20.433Z"
   },
   {
    "duration": 220,
    "start_time": "2024-06-05T04:58:58.445Z"
   },
   {
    "duration": 56,
    "start_time": "2024-06-05T04:59:53.663Z"
   },
   {
    "duration": 45,
    "start_time": "2024-06-05T05:00:18.009Z"
   },
   {
    "duration": 901,
    "start_time": "2024-06-05T05:02:44.576Z"
   },
   {
    "duration": 147,
    "start_time": "2024-06-05T05:03:05.587Z"
   },
   {
    "duration": 154,
    "start_time": "2024-06-05T05:14:14.322Z"
   },
   {
    "duration": 5682,
    "start_time": "2024-06-05T12:23:15.832Z"
   },
   {
    "duration": 381,
    "start_time": "2024-06-05T12:23:21.518Z"
   },
   {
    "duration": 16,
    "start_time": "2024-06-05T12:23:21.902Z"
   },
   {
    "duration": 10,
    "start_time": "2024-06-05T12:23:21.923Z"
   },
   {
    "duration": 8,
    "start_time": "2024-06-05T12:23:21.935Z"
   },
   {
    "duration": 68,
    "start_time": "2024-06-05T12:23:21.946Z"
   },
   {
    "duration": 9,
    "start_time": "2024-06-05T12:23:22.017Z"
   },
   {
    "duration": 21,
    "start_time": "2024-06-05T12:23:22.029Z"
   },
   {
    "duration": 51,
    "start_time": "2024-06-05T12:23:22.053Z"
   },
   {
    "duration": 26,
    "start_time": "2024-06-05T12:23:22.110Z"
   },
   {
    "duration": 9,
    "start_time": "2024-06-05T12:23:22.138Z"
   },
   {
    "duration": 173,
    "start_time": "2024-06-05T12:23:22.150Z"
   },
   {
    "duration": 12,
    "start_time": "2024-06-05T12:23:22.327Z"
   },
   {
    "duration": 19,
    "start_time": "2024-06-05T12:23:22.342Z"
   },
   {
    "duration": 41,
    "start_time": "2024-06-05T12:23:22.364Z"
   },
   {
    "duration": 92,
    "start_time": "2024-06-05T12:23:22.409Z"
   },
   {
    "duration": 21,
    "start_time": "2024-06-05T12:23:22.505Z"
   },
   {
    "duration": 7,
    "start_time": "2024-06-05T12:23:22.530Z"
   },
   {
    "duration": 164,
    "start_time": "2024-06-05T12:23:22.540Z"
   },
   {
    "duration": 13,
    "start_time": "2024-06-05T12:23:22.707Z"
   },
   {
    "duration": 30,
    "start_time": "2024-06-05T12:23:22.723Z"
   },
   {
    "duration": 67,
    "start_time": "2024-06-05T12:23:22.756Z"
   },
   {
    "duration": 20,
    "start_time": "2024-06-05T12:23:22.826Z"
   },
   {
    "duration": 24,
    "start_time": "2024-06-05T12:23:22.850Z"
   },
   {
    "duration": 44,
    "start_time": "2024-06-05T12:23:22.901Z"
   },
   {
    "duration": 58,
    "start_time": "2024-06-05T12:23:22.948Z"
   },
   {
    "duration": 94,
    "start_time": "2024-06-05T12:23:23.010Z"
   },
   {
    "duration": 3,
    "start_time": "2024-06-05T12:23:23.111Z"
   },
   {
    "duration": 102,
    "start_time": "2024-06-05T12:23:23.117Z"
   },
   {
    "duration": 337,
    "start_time": "2024-06-05T12:23:23.222Z"
   },
   {
    "duration": 10,
    "start_time": "2024-06-05T12:23:23.562Z"
   },
   {
    "duration": 183,
    "start_time": "2024-06-05T12:23:23.575Z"
   },
   {
    "duration": 3,
    "start_time": "2024-06-05T12:23:23.761Z"
   },
   {
    "duration": 4,
    "start_time": "2024-06-05T12:23:23.768Z"
   },
   {
    "duration": 28,
    "start_time": "2024-06-05T12:23:23.775Z"
   },
   {
    "duration": 4,
    "start_time": "2024-06-05T12:23:23.806Z"
   },
   {
    "duration": 244,
    "start_time": "2024-06-05T12:23:38.160Z"
   },
   {
    "duration": 25,
    "start_time": "2024-06-05T12:25:34.502Z"
   },
   {
    "duration": 2102,
    "start_time": "2024-06-05T12:25:46.373Z"
   },
   {
    "duration": 46,
    "start_time": "2024-06-05T12:27:22.243Z"
   },
   {
    "duration": 28,
    "start_time": "2024-06-05T12:32:10.985Z"
   },
   {
    "duration": 47,
    "start_time": "2024-06-05T12:32:41.563Z"
   },
   {
    "duration": 10,
    "start_time": "2024-06-05T12:34:06.100Z"
   },
   {
    "duration": 6,
    "start_time": "2024-06-05T12:34:16.220Z"
   },
   {
    "duration": 44,
    "start_time": "2024-06-05T12:34:39.885Z"
   },
   {
    "duration": 47,
    "start_time": "2024-06-05T12:34:48.300Z"
   },
   {
    "duration": 45,
    "start_time": "2024-06-05T12:37:46.431Z"
   },
   {
    "duration": 44,
    "start_time": "2024-06-05T12:37:53.499Z"
   },
   {
    "duration": 24,
    "start_time": "2024-06-05T12:39:33.533Z"
   },
   {
    "duration": 145,
    "start_time": "2024-06-05T12:39:47.503Z"
   },
   {
    "duration": 105,
    "start_time": "2024-06-05T12:39:59.496Z"
   },
   {
    "duration": 53,
    "start_time": "2024-06-05T12:40:26.659Z"
   },
   {
    "duration": 27,
    "start_time": "2024-06-05T12:41:42.886Z"
   },
   {
    "duration": 47,
    "start_time": "2024-06-05T12:41:58.789Z"
   },
   {
    "duration": 46,
    "start_time": "2024-06-05T12:42:54.843Z"
   },
   {
    "duration": 310,
    "start_time": "2024-06-05T12:45:25.968Z"
   },
   {
    "duration": 612,
    "start_time": "2024-06-05T12:46:14.832Z"
   },
   {
    "duration": 6,
    "start_time": "2024-06-05T12:46:31.694Z"
   },
   {
    "duration": 33,
    "start_time": "2024-06-05T12:47:19.049Z"
   },
   {
    "duration": 15,
    "start_time": "2024-06-05T12:48:00.333Z"
   },
   {
    "duration": 17,
    "start_time": "2024-06-05T12:48:04.148Z"
   },
   {
    "duration": 19,
    "start_time": "2024-06-05T12:48:14.975Z"
   },
   {
    "duration": 329,
    "start_time": "2024-06-05T12:48:51.524Z"
   },
   {
    "duration": 336,
    "start_time": "2024-06-05T12:49:54.198Z"
   },
   {
    "duration": 356,
    "start_time": "2024-06-05T12:54:38.086Z"
   },
   {
    "duration": 356,
    "start_time": "2024-06-05T12:55:19.484Z"
   },
   {
    "duration": 369,
    "start_time": "2024-06-05T12:56:05.086Z"
   },
   {
    "duration": 368,
    "start_time": "2024-06-05T12:56:36.358Z"
   },
   {
    "duration": 356,
    "start_time": "2024-06-05T12:57:00.208Z"
   },
   {
    "duration": 16,
    "start_time": "2024-06-05T12:57:19.493Z"
   },
   {
    "duration": 72,
    "start_time": "2024-06-05T13:10:27.773Z"
   },
   {
    "duration": 7,
    "start_time": "2024-06-05T13:12:52.425Z"
   },
   {
    "duration": 23,
    "start_time": "2024-06-05T13:13:04.847Z"
   },
   {
    "duration": 8,
    "start_time": "2024-06-05T13:13:51.021Z"
   },
   {
    "duration": 14,
    "start_time": "2024-06-05T13:14:29.357Z"
   },
   {
    "duration": 66,
    "start_time": "2024-06-05T13:16:13.987Z"
   },
   {
    "duration": 14,
    "start_time": "2024-06-05T13:23:30.641Z"
   },
   {
    "duration": 29,
    "start_time": "2024-06-05T13:23:59.755Z"
   },
   {
    "duration": 53,
    "start_time": "2024-06-05T13:34:36.370Z"
   },
   {
    "duration": 32,
    "start_time": "2024-06-05T13:35:23.914Z"
   },
   {
    "duration": 545,
    "start_time": "2024-06-05T13:35:28.042Z"
   },
   {
    "duration": 27,
    "start_time": "2024-06-05T13:35:38.631Z"
   },
   {
    "duration": 69,
    "start_time": "2024-06-05T13:39:23.844Z"
   },
   {
    "duration": 25,
    "start_time": "2024-06-05T13:43:44.419Z"
   },
   {
    "duration": 69,
    "start_time": "2024-06-05T13:44:54.587Z"
   },
   {
    "duration": 70,
    "start_time": "2024-06-05T13:48:21.595Z"
   },
   {
    "duration": 79,
    "start_time": "2024-06-05T13:49:33.329Z"
   },
   {
    "duration": 73,
    "start_time": "2024-06-05T13:50:05.454Z"
   },
   {
    "duration": 76,
    "start_time": "2024-06-05T13:50:13.557Z"
   },
   {
    "duration": 86,
    "start_time": "2024-06-05T13:51:06.036Z"
   },
   {
    "duration": 69,
    "start_time": "2024-06-05T13:53:33.887Z"
   },
   {
    "duration": 75,
    "start_time": "2024-06-05T13:54:20.359Z"
   },
   {
    "duration": 495,
    "start_time": "2024-06-05T14:00:04.229Z"
   },
   {
    "duration": 123,
    "start_time": "2024-06-05T14:00:44.877Z"
   },
   {
    "duration": 361,
    "start_time": "2024-06-05T19:37:55.796Z"
   },
   {
    "duration": 5016,
    "start_time": "2024-06-05T19:38:05.102Z"
   },
   {
    "duration": 360,
    "start_time": "2024-06-05T19:38:10.123Z"
   },
   {
    "duration": 16,
    "start_time": "2024-06-05T19:38:10.486Z"
   },
   {
    "duration": 10,
    "start_time": "2024-06-05T19:38:10.506Z"
   },
   {
    "duration": 7,
    "start_time": "2024-06-05T19:38:10.520Z"
   },
   {
    "duration": 14,
    "start_time": "2024-06-05T19:38:10.531Z"
   },
   {
    "duration": 9,
    "start_time": "2024-06-05T19:38:10.548Z"
   },
   {
    "duration": 25,
    "start_time": "2024-06-05T19:38:10.603Z"
   },
   {
    "duration": 25,
    "start_time": "2024-06-05T19:38:10.631Z"
   },
   {
    "duration": 62,
    "start_time": "2024-06-05T19:38:10.659Z"
   },
   {
    "duration": 7,
    "start_time": "2024-06-05T19:38:10.724Z"
   },
   {
    "duration": 174,
    "start_time": "2024-06-05T19:38:10.735Z"
   },
   {
    "duration": 14,
    "start_time": "2024-06-05T19:38:10.912Z"
   },
   {
    "duration": 19,
    "start_time": "2024-06-05T19:38:10.932Z"
   },
   {
    "duration": 7,
    "start_time": "2024-06-05T19:38:10.955Z"
   },
   {
    "duration": 140,
    "start_time": "2024-06-05T19:38:10.965Z"
   },
   {
    "duration": 22,
    "start_time": "2024-06-05T19:38:11.108Z"
   },
   {
    "duration": 7,
    "start_time": "2024-06-05T19:38:11.133Z"
   },
   {
    "duration": 170,
    "start_time": "2024-06-05T19:38:11.144Z"
   },
   {
    "duration": 14,
    "start_time": "2024-06-05T19:38:11.317Z"
   },
   {
    "duration": 34,
    "start_time": "2024-06-05T19:38:11.335Z"
   },
   {
    "duration": 30,
    "start_time": "2024-06-05T19:38:11.402Z"
   },
   {
    "duration": 20,
    "start_time": "2024-06-05T19:38:11.434Z"
   },
   {
    "duration": 52,
    "start_time": "2024-06-05T19:38:11.457Z"
   },
   {
    "duration": 34,
    "start_time": "2024-06-05T19:38:11.513Z"
   },
   {
    "duration": 59,
    "start_time": "2024-06-05T19:38:11.551Z"
   },
   {
    "duration": 89,
    "start_time": "2024-06-05T19:38:11.613Z"
   },
   {
    "duration": 70,
    "start_time": "2024-06-05T19:38:33.791Z"
   },
   {
    "duration": 70,
    "start_time": "2024-06-05T19:38:47.524Z"
   },
   {
    "duration": 122,
    "start_time": "2024-06-05T19:44:43.489Z"
   },
   {
    "duration": 24,
    "start_time": "2024-06-05T19:44:56.740Z"
   },
   {
    "duration": 327,
    "start_time": "2024-06-05T19:45:12.735Z"
   },
   {
    "duration": 31,
    "start_time": "2024-06-05T19:45:16.693Z"
   },
   {
    "duration": 23,
    "start_time": "2024-06-05T19:45:35.356Z"
   },
   {
    "duration": 5,
    "start_time": "2024-06-05T19:45:42.556Z"
   },
   {
    "duration": 318,
    "start_time": "2024-06-05T19:45:42.565Z"
   },
   {
    "duration": 19,
    "start_time": "2024-06-05T19:45:42.886Z"
   },
   {
    "duration": 8,
    "start_time": "2024-06-05T19:45:42.908Z"
   },
   {
    "duration": 7,
    "start_time": "2024-06-05T19:45:42.920Z"
   },
   {
    "duration": 15,
    "start_time": "2024-06-05T19:45:42.931Z"
   },
   {
    "duration": 53,
    "start_time": "2024-06-05T19:45:42.948Z"
   },
   {
    "duration": 20,
    "start_time": "2024-06-05T19:45:43.004Z"
   },
   {
    "duration": 24,
    "start_time": "2024-06-05T19:45:43.028Z"
   },
   {
    "duration": 61,
    "start_time": "2024-06-05T19:45:43.055Z"
   },
   {
    "duration": 7,
    "start_time": "2024-06-05T19:45:43.124Z"
   },
   {
    "duration": 175,
    "start_time": "2024-06-05T19:45:43.134Z"
   },
   {
    "duration": 14,
    "start_time": "2024-06-05T19:45:43.312Z"
   },
   {
    "duration": 19,
    "start_time": "2024-06-05T19:45:43.329Z"
   },
   {
    "duration": 7,
    "start_time": "2024-06-05T19:45:43.351Z"
   },
   {
    "duration": 77,
    "start_time": "2024-06-05T19:45:43.402Z"
   },
   {
    "duration": 40,
    "start_time": "2024-06-05T19:45:43.482Z"
   },
   {
    "duration": 7,
    "start_time": "2024-06-05T19:45:43.526Z"
   },
   {
    "duration": 167,
    "start_time": "2024-06-05T19:45:43.536Z"
   },
   {
    "duration": 11,
    "start_time": "2024-06-05T19:45:43.706Z"
   },
   {
    "duration": 30,
    "start_time": "2024-06-05T19:45:43.720Z"
   },
   {
    "duration": 63,
    "start_time": "2024-06-05T19:45:43.753Z"
   },
   {
    "duration": 20,
    "start_time": "2024-06-05T19:45:43.818Z"
   },
   {
    "duration": 25,
    "start_time": "2024-06-05T19:45:43.841Z"
   },
   {
    "duration": 65,
    "start_time": "2024-06-05T19:45:43.869Z"
   },
   {
    "duration": 63,
    "start_time": "2024-06-05T19:45:43.938Z"
   },
   {
    "duration": 68,
    "start_time": "2024-06-05T19:45:44.004Z"
   },
   {
    "duration": 43,
    "start_time": "2024-06-05T19:45:44.075Z"
   },
   {
    "duration": 0,
    "start_time": "2024-06-05T19:45:44.122Z"
   },
   {
    "duration": 0,
    "start_time": "2024-06-05T19:45:44.123Z"
   },
   {
    "duration": 0,
    "start_time": "2024-06-05T19:45:44.126Z"
   },
   {
    "duration": 0,
    "start_time": "2024-06-05T19:45:44.128Z"
   },
   {
    "duration": 24,
    "start_time": "2024-06-05T19:46:01.710Z"
   },
   {
    "duration": 368,
    "start_time": "2024-06-05T23:19:39.286Z"
   },
   {
    "duration": 5312,
    "start_time": "2024-06-05T23:19:48.068Z"
   },
   {
    "duration": 455,
    "start_time": "2024-06-05T23:19:53.383Z"
   },
   {
    "duration": 18,
    "start_time": "2024-06-05T23:19:53.841Z"
   },
   {
    "duration": 12,
    "start_time": "2024-06-05T23:19:53.864Z"
   },
   {
    "duration": 8,
    "start_time": "2024-06-05T23:19:53.879Z"
   },
   {
    "duration": 43,
    "start_time": "2024-06-05T23:19:53.892Z"
   },
   {
    "duration": 9,
    "start_time": "2024-06-05T23:19:53.938Z"
   },
   {
    "duration": 22,
    "start_time": "2024-06-05T23:19:53.951Z"
   },
   {
    "duration": 28,
    "start_time": "2024-06-05T23:19:54.024Z"
   },
   {
    "duration": 27,
    "start_time": "2024-06-05T23:19:54.058Z"
   },
   {
    "duration": 36,
    "start_time": "2024-06-05T23:19:54.089Z"
   },
   {
    "duration": 173,
    "start_time": "2024-06-05T23:19:54.129Z"
   },
   {
    "duration": 27,
    "start_time": "2024-06-05T23:19:54.306Z"
   },
   {
    "duration": 22,
    "start_time": "2024-06-05T23:19:54.337Z"
   },
   {
    "duration": 9,
    "start_time": "2024-06-05T23:19:54.363Z"
   },
   {
    "duration": 124,
    "start_time": "2024-06-05T23:19:54.376Z"
   },
   {
    "duration": 24,
    "start_time": "2024-06-05T23:19:54.525Z"
   },
   {
    "duration": 8,
    "start_time": "2024-06-05T23:19:54.553Z"
   },
   {
    "duration": 206,
    "start_time": "2024-06-05T23:19:54.564Z"
   },
   {
    "duration": 15,
    "start_time": "2024-06-05T23:19:54.774Z"
   },
   {
    "duration": 50,
    "start_time": "2024-06-05T23:19:54.793Z"
   },
   {
    "duration": 34,
    "start_time": "2024-06-05T23:19:54.847Z"
   },
   {
    "duration": 50,
    "start_time": "2024-06-05T23:19:54.884Z"
   },
   {
    "duration": 26,
    "start_time": "2024-06-05T23:19:54.938Z"
   },
   {
    "duration": 70,
    "start_time": "2024-06-05T23:19:54.970Z"
   },
   {
    "duration": 36,
    "start_time": "2024-06-05T23:19:55.043Z"
   },
   {
    "duration": 100,
    "start_time": "2024-06-05T23:19:55.083Z"
   },
   {
    "duration": 434,
    "start_time": "2024-06-05T23:19:55.190Z"
   },
   {
    "duration": 0,
    "start_time": "2024-06-05T23:19:55.627Z"
   },
   {
    "duration": 0,
    "start_time": "2024-06-05T23:19:55.631Z"
   },
   {
    "duration": 0,
    "start_time": "2024-06-05T23:19:55.634Z"
   },
   {
    "duration": 0,
    "start_time": "2024-06-05T23:19:55.637Z"
   },
   {
    "duration": 0,
    "start_time": "2024-06-05T23:19:55.640Z"
   },
   {
    "duration": 0,
    "start_time": "2024-06-05T23:19:55.642Z"
   },
   {
    "duration": 0,
    "start_time": "2024-06-05T23:19:55.645Z"
   },
   {
    "duration": 0,
    "start_time": "2024-06-05T23:19:55.648Z"
   },
   {
    "duration": 0,
    "start_time": "2024-06-05T23:19:55.651Z"
   },
   {
    "duration": 77,
    "start_time": "2024-06-05T23:20:22.486Z"
   },
   {
    "duration": 930,
    "start_time": "2024-06-05T23:46:17.422Z"
   },
   {
    "duration": 118,
    "start_time": "2024-06-05T23:48:52.721Z"
   },
   {
    "duration": 206,
    "start_time": "2024-06-05T23:50:17.909Z"
   },
   {
    "duration": 157,
    "start_time": "2024-06-06T00:03:20.456Z"
   },
   {
    "duration": 146,
    "start_time": "2024-06-06T00:05:42.853Z"
   },
   {
    "duration": 160,
    "start_time": "2024-06-06T00:06:50.009Z"
   },
   {
    "duration": 152,
    "start_time": "2024-06-06T00:08:05.306Z"
   },
   {
    "duration": 159,
    "start_time": "2024-06-06T00:09:53.890Z"
   },
   {
    "duration": 159,
    "start_time": "2024-06-06T00:12:16.391Z"
   },
   {
    "duration": 186,
    "start_time": "2024-06-06T00:13:06.088Z"
   },
   {
    "duration": 88,
    "start_time": "2024-06-06T00:17:15.190Z"
   },
   {
    "duration": 74,
    "start_time": "2024-06-06T00:17:51.637Z"
   },
   {
    "duration": 83,
    "start_time": "2024-06-06T00:23:27.153Z"
   },
   {
    "duration": 97,
    "start_time": "2024-06-06T00:23:49.631Z"
   },
   {
    "duration": 78,
    "start_time": "2024-06-06T00:25:01.429Z"
   },
   {
    "duration": 79,
    "start_time": "2024-06-06T00:29:15.392Z"
   },
   {
    "duration": 77,
    "start_time": "2024-06-06T00:29:53.022Z"
   },
   {
    "duration": 75,
    "start_time": "2024-06-06T00:30:21.437Z"
   },
   {
    "duration": 16,
    "start_time": "2024-06-06T00:39:40.661Z"
   },
   {
    "duration": 81,
    "start_time": "2024-06-06T00:40:30.679Z"
   },
   {
    "duration": 75,
    "start_time": "2024-06-06T00:41:18.389Z"
   },
   {
    "duration": 52,
    "start_time": "2024-06-06T00:44:47.506Z"
   },
   {
    "duration": 76,
    "start_time": "2024-06-06T00:50:30.279Z"
   },
   {
    "duration": 69,
    "start_time": "2024-06-06T00:50:35.709Z"
   },
   {
    "duration": 17,
    "start_time": "2024-06-06T00:53:09.661Z"
   },
   {
    "duration": 30,
    "start_time": "2024-06-06T00:53:16.182Z"
   },
   {
    "duration": 26,
    "start_time": "2024-06-06T00:53:50.984Z"
   },
   {
    "duration": 41,
    "start_time": "2024-06-06T00:54:01.848Z"
   },
   {
    "duration": 29,
    "start_time": "2024-06-06T00:54:52.006Z"
   },
   {
    "duration": 34,
    "start_time": "2024-06-06T00:55:56.146Z"
   },
   {
    "duration": 26,
    "start_time": "2024-06-06T00:57:19.993Z"
   },
   {
    "duration": 26,
    "start_time": "2024-06-06T00:57:35.413Z"
   },
   {
    "duration": 25,
    "start_time": "2024-06-06T00:57:52.327Z"
   },
   {
    "duration": 6,
    "start_time": "2024-06-06T00:58:47.030Z"
   },
   {
    "duration": 40,
    "start_time": "2024-06-06T00:58:54.066Z"
   },
   {
    "duration": 40,
    "start_time": "2024-06-06T01:00:02.829Z"
   },
   {
    "duration": 39,
    "start_time": "2024-06-06T01:01:06.283Z"
   },
   {
    "duration": 51,
    "start_time": "2024-06-06T01:02:10.374Z"
   },
   {
    "duration": 49,
    "start_time": "2024-06-06T01:02:37.229Z"
   },
   {
    "duration": 35,
    "start_time": "2024-06-06T01:02:51.109Z"
   },
   {
    "duration": 30,
    "start_time": "2024-06-06T01:31:37.912Z"
   },
   {
    "duration": 38,
    "start_time": "2024-06-06T01:37:51.795Z"
   },
   {
    "duration": 39,
    "start_time": "2024-06-06T01:38:01.153Z"
   },
   {
    "duration": 23,
    "start_time": "2024-06-06T01:39:18.115Z"
   },
   {
    "duration": 21,
    "start_time": "2024-06-06T01:39:45.412Z"
   },
   {
    "duration": 23,
    "start_time": "2024-06-06T01:39:56.111Z"
   },
   {
    "duration": 48,
    "start_time": "2024-06-06T01:40:16.034Z"
   },
   {
    "duration": 22,
    "start_time": "2024-06-06T01:41:02.273Z"
   },
   {
    "duration": 37,
    "start_time": "2024-06-06T01:41:26.489Z"
   },
   {
    "duration": 25,
    "start_time": "2024-06-06T01:43:14.328Z"
   },
   {
    "duration": 25,
    "start_time": "2024-06-06T01:43:28.945Z"
   },
   {
    "duration": 27,
    "start_time": "2024-06-06T01:43:36.245Z"
   },
   {
    "duration": 241,
    "start_time": "2024-06-06T01:45:37.557Z"
   },
   {
    "duration": 392,
    "start_time": "2024-06-06T01:49:51.205Z"
   },
   {
    "duration": 25,
    "start_time": "2024-06-06T01:50:31.499Z"
   },
   {
    "duration": 16,
    "start_time": "2024-06-06T01:50:41.891Z"
   },
   {
    "duration": 17,
    "start_time": "2024-06-06T01:50:47.554Z"
   },
   {
    "duration": 6,
    "start_time": "2024-06-06T01:50:50.695Z"
   },
   {
    "duration": 320,
    "start_time": "2024-06-06T01:50:50.706Z"
   },
   {
    "duration": 17,
    "start_time": "2024-06-06T01:50:51.029Z"
   },
   {
    "duration": 9,
    "start_time": "2024-06-06T01:50:51.052Z"
   },
   {
    "duration": 9,
    "start_time": "2024-06-06T01:50:51.064Z"
   },
   {
    "duration": 58,
    "start_time": "2024-06-06T01:50:51.077Z"
   },
   {
    "duration": 12,
    "start_time": "2024-06-06T01:50:51.140Z"
   },
   {
    "duration": 27,
    "start_time": "2024-06-06T01:50:51.155Z"
   },
   {
    "duration": 57,
    "start_time": "2024-06-06T01:50:51.186Z"
   },
   {
    "duration": 30,
    "start_time": "2024-06-06T01:50:51.249Z"
   },
   {
    "duration": 40,
    "start_time": "2024-06-06T01:50:51.282Z"
   },
   {
    "duration": 153,
    "start_time": "2024-06-06T01:50:51.325Z"
   },
   {
    "duration": 14,
    "start_time": "2024-06-06T01:50:51.481Z"
   },
   {
    "duration": 40,
    "start_time": "2024-06-06T01:50:51.498Z"
   },
   {
    "duration": 7,
    "start_time": "2024-06-06T01:50:51.541Z"
   },
   {
    "duration": 109,
    "start_time": "2024-06-06T01:50:51.552Z"
   },
   {
    "duration": 23,
    "start_time": "2024-06-06T01:50:51.665Z"
   },
   {
    "duration": 32,
    "start_time": "2024-06-06T01:50:51.691Z"
   },
   {
    "duration": 151,
    "start_time": "2024-06-06T01:50:51.727Z"
   },
   {
    "duration": 13,
    "start_time": "2024-06-06T01:50:51.883Z"
   },
   {
    "duration": 47,
    "start_time": "2024-06-06T01:50:51.900Z"
   },
   {
    "duration": 32,
    "start_time": "2024-06-06T01:50:51.951Z"
   },
   {
    "duration": 46,
    "start_time": "2024-06-06T01:50:51.986Z"
   },
   {
    "duration": 24,
    "start_time": "2024-06-06T01:50:52.036Z"
   },
   {
    "duration": 68,
    "start_time": "2024-06-06T01:50:52.065Z"
   },
   {
    "duration": 32,
    "start_time": "2024-06-06T01:50:52.136Z"
   },
   {
    "duration": 116,
    "start_time": "2024-06-06T01:50:52.172Z"
   },
   {
    "duration": 35,
    "start_time": "2024-06-06T01:50:52.300Z"
   },
   {
    "duration": 86,
    "start_time": "2024-06-06T01:50:52.338Z"
   },
   {
    "duration": 332,
    "start_time": "2024-06-06T01:50:52.430Z"
   },
   {
    "duration": 24,
    "start_time": "2024-06-06T01:50:52.765Z"
   },
   {
    "duration": 0,
    "start_time": "2024-06-06T01:50:52.792Z"
   },
   {
    "duration": 0,
    "start_time": "2024-06-06T01:50:52.795Z"
   },
   {
    "duration": 0,
    "start_time": "2024-06-06T01:50:52.797Z"
   },
   {
    "duration": 25,
    "start_time": "2024-06-06T01:51:23.874Z"
   },
   {
    "duration": 12,
    "start_time": "2024-06-06T01:52:32.210Z"
   },
   {
    "duration": 9,
    "start_time": "2024-06-06T01:52:42.984Z"
   },
   {
    "duration": 35,
    "start_time": "2024-06-06T01:52:57.128Z"
   },
   {
    "duration": 153,
    "start_time": "2024-06-06T01:53:09.173Z"
   },
   {
    "duration": 162,
    "start_time": "2024-06-06T01:53:41.335Z"
   },
   {
    "duration": 506,
    "start_time": "2024-06-06T01:53:58.875Z"
   },
   {
    "duration": 180,
    "start_time": "2024-06-06T01:54:10.914Z"
   },
   {
    "duration": 158,
    "start_time": "2024-06-06T01:54:25.789Z"
   },
   {
    "duration": 277,
    "start_time": "2024-06-06T01:57:23.651Z"
   },
   {
    "duration": 156,
    "start_time": "2024-06-06T01:58:47.824Z"
   },
   {
    "duration": 349,
    "start_time": "2024-06-06T01:59:15.625Z"
   },
   {
    "duration": 17,
    "start_time": "2024-06-06T01:59:24.050Z"
   },
   {
    "duration": 377,
    "start_time": "2024-06-06T02:01:01.024Z"
   },
   {
    "duration": 1356,
    "start_time": "2024-06-06T04:12:52.042Z"
   },
   {
    "duration": 290,
    "start_time": "2024-06-06T04:12:53.401Z"
   },
   {
    "duration": 17,
    "start_time": "2024-06-06T04:12:53.693Z"
   },
   {
    "duration": 10,
    "start_time": "2024-06-06T04:12:53.724Z"
   },
   {
    "duration": 9,
    "start_time": "2024-06-06T04:12:53.737Z"
   },
   {
    "duration": 17,
    "start_time": "2024-06-06T04:12:53.750Z"
   },
   {
    "duration": 53,
    "start_time": "2024-06-06T04:12:53.771Z"
   },
   {
    "duration": 22,
    "start_time": "2024-06-06T04:12:53.827Z"
   },
   {
    "duration": 25,
    "start_time": "2024-06-06T04:12:53.852Z"
   },
   {
    "duration": 65,
    "start_time": "2024-06-06T04:12:53.884Z"
   },
   {
    "duration": 11,
    "start_time": "2024-06-06T04:12:53.951Z"
   },
   {
    "duration": 189,
    "start_time": "2024-06-06T04:12:53.965Z"
   },
   {
    "duration": 14,
    "start_time": "2024-06-06T04:12:54.157Z"
   },
   {
    "duration": 50,
    "start_time": "2024-06-06T04:12:54.174Z"
   },
   {
    "duration": 10,
    "start_time": "2024-06-06T04:12:54.229Z"
   },
   {
    "duration": 116,
    "start_time": "2024-06-06T04:12:54.243Z"
   },
   {
    "duration": 23,
    "start_time": "2024-06-06T04:12:54.362Z"
   },
   {
    "duration": 35,
    "start_time": "2024-06-06T04:12:54.388Z"
   },
   {
    "duration": 158,
    "start_time": "2024-06-06T04:12:54.426Z"
   },
   {
    "duration": 14,
    "start_time": "2024-06-06T04:12:54.588Z"
   },
   {
    "duration": 33,
    "start_time": "2024-06-06T04:12:54.624Z"
   },
   {
    "duration": 34,
    "start_time": "2024-06-06T04:12:54.660Z"
   },
   {
    "duration": 45,
    "start_time": "2024-06-06T04:12:54.697Z"
   },
   {
    "duration": 26,
    "start_time": "2024-06-06T04:12:54.745Z"
   },
   {
    "duration": 71,
    "start_time": "2024-06-06T04:12:54.774Z"
   },
   {
    "duration": 32,
    "start_time": "2024-06-06T04:12:54.848Z"
   },
   {
    "duration": 103,
    "start_time": "2024-06-06T04:12:54.884Z"
   },
   {
    "duration": 37,
    "start_time": "2024-06-06T04:12:54.994Z"
   },
   {
    "duration": 98,
    "start_time": "2024-06-06T04:12:55.034Z"
   },
   {
    "duration": 411,
    "start_time": "2024-06-06T04:12:55.135Z"
   },
   {
    "duration": 11,
    "start_time": "2024-06-06T04:12:55.549Z"
   },
   {
    "duration": 184,
    "start_time": "2024-06-06T04:12:55.563Z"
   },
   {
    "duration": 330,
    "start_time": "2024-06-06T04:12:55.751Z"
   },
   {
    "duration": 39,
    "start_time": "2024-06-06T04:12:56.084Z"
   },
   {
    "duration": 348,
    "start_time": "2024-06-06T04:12:56.126Z"
   },
   {
    "duration": 4,
    "start_time": "2024-06-06T04:12:56.478Z"
   },
   {
    "duration": 5,
    "start_time": "2024-06-06T04:12:56.485Z"
   },
   {
    "duration": 1315,
    "start_time": "2024-06-06T04:55:26.786Z"
   },
   {
    "duration": 321,
    "start_time": "2024-06-06T04:55:28.106Z"
   },
   {
    "duration": 17,
    "start_time": "2024-06-06T04:55:28.431Z"
   },
   {
    "duration": 10,
    "start_time": "2024-06-06T04:55:28.453Z"
   },
   {
    "duration": 8,
    "start_time": "2024-06-06T04:55:28.467Z"
   },
   {
    "duration": 15,
    "start_time": "2024-06-06T04:55:28.522Z"
   },
   {
    "duration": 9,
    "start_time": "2024-06-06T04:55:28.541Z"
   },
   {
    "duration": 22,
    "start_time": "2024-06-06T04:55:28.553Z"
   },
   {
    "duration": 65,
    "start_time": "2024-06-06T04:55:28.578Z"
   },
   {
    "duration": 25,
    "start_time": "2024-06-06T04:55:28.649Z"
   },
   {
    "duration": 8,
    "start_time": "2024-06-06T04:55:28.677Z"
   },
   {
    "duration": 169,
    "start_time": "2024-06-06T04:55:28.723Z"
   },
   {
    "duration": 35,
    "start_time": "2024-06-06T04:55:28.895Z"
   },
   {
    "duration": 21,
    "start_time": "2024-06-06T04:55:28.934Z"
   },
   {
    "duration": 7,
    "start_time": "2024-06-06T04:55:28.959Z"
   },
   {
    "duration": 126,
    "start_time": "2024-06-06T04:55:28.970Z"
   },
   {
    "duration": 48,
    "start_time": "2024-06-06T04:55:29.099Z"
   },
   {
    "duration": 8,
    "start_time": "2024-06-06T04:55:29.150Z"
   },
   {
    "duration": 182,
    "start_time": "2024-06-06T04:55:29.162Z"
   },
   {
    "duration": 13,
    "start_time": "2024-06-06T04:55:29.347Z"
   },
   {
    "duration": 31,
    "start_time": "2024-06-06T04:55:29.364Z"
   },
   {
    "duration": 42,
    "start_time": "2024-06-06T04:55:29.423Z"
   },
   {
    "duration": 58,
    "start_time": "2024-06-06T04:55:29.469Z"
   },
   {
    "duration": 27,
    "start_time": "2024-06-06T04:55:29.531Z"
   },
   {
    "duration": 68,
    "start_time": "2024-06-06T04:55:29.562Z"
   },
   {
    "duration": 42,
    "start_time": "2024-06-06T04:55:29.633Z"
   },
   {
    "duration": 114,
    "start_time": "2024-06-06T04:55:29.680Z"
   },
   {
    "duration": 48,
    "start_time": "2024-06-06T04:55:29.802Z"
   },
   {
    "duration": 105,
    "start_time": "2024-06-06T04:55:29.854Z"
   },
   {
    "duration": 474,
    "start_time": "2024-06-06T04:55:29.963Z"
   },
   {
    "duration": 11,
    "start_time": "2024-06-06T04:55:30.441Z"
   },
   {
    "duration": 204,
    "start_time": "2024-06-06T04:55:30.457Z"
   },
   {
    "duration": 374,
    "start_time": "2024-06-06T04:55:30.666Z"
   },
   {
    "duration": 20,
    "start_time": "2024-06-06T04:55:31.043Z"
   },
   {
    "duration": 401,
    "start_time": "2024-06-06T04:55:31.067Z"
   },
   {
    "duration": 4,
    "start_time": "2024-06-06T04:55:31.471Z"
   },
   {
    "duration": 4,
    "start_time": "2024-06-06T04:55:31.480Z"
   },
   {
    "duration": 21,
    "start_time": "2024-06-06T04:59:30.995Z"
   },
   {
    "duration": 333,
    "start_time": "2024-06-06T05:00:17.568Z"
   },
   {
    "duration": 331,
    "start_time": "2024-06-06T05:01:49.213Z"
   },
   {
    "duration": 208,
    "start_time": "2024-06-06T05:02:42.082Z"
   },
   {
    "duration": 314,
    "start_time": "2024-06-06T05:03:05.111Z"
   },
   {
    "duration": 317,
    "start_time": "2024-06-06T05:03:13.034Z"
   },
   {
    "duration": 19,
    "start_time": "2024-06-06T05:03:35.235Z"
   },
   {
    "duration": 225,
    "start_time": "2024-06-06T05:04:40.670Z"
   },
   {
    "duration": 559,
    "start_time": "2024-06-06T05:05:12.776Z"
   },
   {
    "duration": 214,
    "start_time": "2024-06-06T05:05:23.055Z"
   },
   {
    "duration": 898,
    "start_time": "2024-06-06T05:07:15.416Z"
   },
   {
    "duration": 323,
    "start_time": "2024-06-06T05:08:26.600Z"
   },
   {
    "duration": 294,
    "start_time": "2024-06-06T05:10:28.208Z"
   },
   {
    "duration": 313,
    "start_time": "2024-06-06T05:10:58.598Z"
   },
   {
    "duration": 296,
    "start_time": "2024-06-06T05:11:19.901Z"
   },
   {
    "duration": 298,
    "start_time": "2024-06-06T05:11:26.035Z"
   },
   {
    "duration": 514,
    "start_time": "2024-06-06T05:16:27.620Z"
   },
   {
    "duration": 156,
    "start_time": "2024-06-06T05:16:48.289Z"
   },
   {
    "duration": 113,
    "start_time": "2024-06-06T05:18:57.666Z"
   },
   {
    "duration": 38,
    "start_time": "2024-06-06T05:20:23.062Z"
   },
   {
    "duration": 113,
    "start_time": "2024-06-06T05:21:10.214Z"
   },
   {
    "duration": 9,
    "start_time": "2024-06-06T05:21:50.746Z"
   },
   {
    "duration": 19,
    "start_time": "2024-06-06T05:22:48.991Z"
   },
   {
    "duration": 23,
    "start_time": "2024-06-06T05:23:08.072Z"
   },
   {
    "duration": 7,
    "start_time": "2024-06-06T05:24:50.512Z"
   },
   {
    "duration": 49,
    "start_time": "2024-06-06T05:24:55.562Z"
   },
   {
    "duration": 33,
    "start_time": "2024-06-06T05:25:46.072Z"
   },
   {
    "duration": 56,
    "start_time": "2024-06-06T05:25:57.264Z"
   },
   {
    "duration": 219,
    "start_time": "2024-06-06T05:27:58.669Z"
   },
   {
    "duration": 274,
    "start_time": "2024-06-06T05:29:05.871Z"
   },
   {
    "duration": 289,
    "start_time": "2024-06-06T05:29:58.940Z"
   },
   {
    "duration": 328,
    "start_time": "2024-06-06T05:31:06.598Z"
   },
   {
    "duration": 269,
    "start_time": "2024-06-06T05:31:54.777Z"
   },
   {
    "duration": 263,
    "start_time": "2024-06-06T05:32:45.316Z"
   },
   {
    "duration": 294,
    "start_time": "2024-06-06T05:40:37.032Z"
   },
   {
    "duration": 273,
    "start_time": "2024-06-06T05:43:12.420Z"
   },
   {
    "duration": 7,
    "start_time": "2024-06-06T05:43:53.362Z"
   },
   {
    "duration": 277,
    "start_time": "2024-06-06T05:44:06.098Z"
   },
   {
    "duration": 437,
    "start_time": "2024-06-06T05:46:21.771Z"
   },
   {
    "duration": 353,
    "start_time": "2024-06-06T05:47:15.946Z"
   },
   {
    "duration": 344,
    "start_time": "2024-06-06T05:47:41.396Z"
   },
   {
    "duration": 334,
    "start_time": "2024-06-06T05:47:45.355Z"
   },
   {
    "duration": 326,
    "start_time": "2024-06-06T05:49:48.270Z"
   },
   {
    "duration": 1441,
    "start_time": "2024-06-06T05:50:48.924Z"
   },
   {
    "duration": 333,
    "start_time": "2024-06-06T05:50:56.380Z"
   },
   {
    "duration": 317,
    "start_time": "2024-06-06T05:51:04.159Z"
   },
   {
    "duration": 348,
    "start_time": "2024-06-06T05:52:13.263Z"
   },
   {
    "duration": 351,
    "start_time": "2024-06-06T05:52:23.710Z"
   },
   {
    "duration": 334,
    "start_time": "2024-06-06T05:53:47.113Z"
   },
   {
    "duration": 20,
    "start_time": "2024-06-06T05:54:13.921Z"
   },
   {
    "duration": 33,
    "start_time": "2024-06-06T06:00:33.394Z"
   },
   {
    "duration": 34,
    "start_time": "2024-06-06T06:00:51.215Z"
   },
   {
    "duration": 3,
    "start_time": "2024-06-06T06:01:45.070Z"
   },
   {
    "duration": 338,
    "start_time": "2024-06-06T12:20:41.222Z"
   },
   {
    "duration": 5036,
    "start_time": "2024-06-06T12:20:48.615Z"
   },
   {
    "duration": 422,
    "start_time": "2024-06-06T12:20:53.655Z"
   },
   {
    "duration": 16,
    "start_time": "2024-06-06T12:20:54.080Z"
   },
   {
    "duration": 11,
    "start_time": "2024-06-06T12:20:54.101Z"
   },
   {
    "duration": 7,
    "start_time": "2024-06-06T12:20:54.115Z"
   },
   {
    "duration": 13,
    "start_time": "2024-06-06T12:20:54.133Z"
   },
   {
    "duration": 11,
    "start_time": "2024-06-06T12:20:54.149Z"
   },
   {
    "duration": 22,
    "start_time": "2024-06-06T12:20:54.174Z"
   },
   {
    "duration": 52,
    "start_time": "2024-06-06T12:20:54.200Z"
   },
   {
    "duration": 26,
    "start_time": "2024-06-06T12:20:54.258Z"
   },
   {
    "duration": 7,
    "start_time": "2024-06-06T12:20:54.287Z"
   },
   {
    "duration": 169,
    "start_time": "2024-06-06T12:20:54.298Z"
   },
   {
    "duration": 14,
    "start_time": "2024-06-06T12:20:54.469Z"
   },
   {
    "duration": 69,
    "start_time": "2024-06-06T12:20:54.486Z"
   },
   {
    "duration": 9,
    "start_time": "2024-06-06T12:20:54.559Z"
   },
   {
    "duration": 88,
    "start_time": "2024-06-06T12:20:54.571Z"
   },
   {
    "duration": 21,
    "start_time": "2024-06-06T12:20:54.666Z"
   },
   {
    "duration": 7,
    "start_time": "2024-06-06T12:20:54.690Z"
   },
   {
    "duration": 150,
    "start_time": "2024-06-06T12:20:54.700Z"
   },
   {
    "duration": 614,
    "start_time": "2024-06-06T12:20:54.853Z"
   },
   {
    "duration": 138,
    "start_time": "2024-06-06T12:21:49.694Z"
   },
   {
    "duration": 50,
    "start_time": "2024-06-06T12:21:56.414Z"
   },
   {
    "duration": 227,
    "start_time": "2024-06-06T12:22:04.091Z"
   },
   {
    "duration": 276,
    "start_time": "2024-06-06T12:22:41.504Z"
   },
   {
    "duration": 562,
    "start_time": "2024-06-06T12:22:53.092Z"
   },
   {
    "duration": 349,
    "start_time": "2024-06-06T12:23:28.368Z"
   },
   {
    "duration": 664,
    "start_time": "2024-06-06T12:24:15.218Z"
   },
   {
    "duration": 7,
    "start_time": "2024-06-06T12:50:33.793Z"
   },
   {
    "duration": 5347,
    "start_time": "2024-06-06T21:25:07.234Z"
   },
   {
    "duration": 402,
    "start_time": "2024-06-06T21:25:12.592Z"
   },
   {
    "duration": 21,
    "start_time": "2024-06-06T21:25:12.998Z"
   },
   {
    "duration": 16,
    "start_time": "2024-06-06T21:25:13.024Z"
   },
   {
    "duration": 11,
    "start_time": "2024-06-06T21:25:13.043Z"
   },
   {
    "duration": 18,
    "start_time": "2024-06-06T21:25:13.067Z"
   },
   {
    "duration": 10,
    "start_time": "2024-06-06T21:25:13.089Z"
   },
   {
    "duration": 57,
    "start_time": "2024-06-06T21:25:13.103Z"
   },
   {
    "duration": 38,
    "start_time": "2024-06-06T21:25:13.164Z"
   },
   {
    "duration": 36,
    "start_time": "2024-06-06T21:25:13.210Z"
   },
   {
    "duration": 6,
    "start_time": "2024-06-06T21:25:13.251Z"
   },
   {
    "duration": 202,
    "start_time": "2024-06-06T21:25:13.261Z"
   },
   {
    "duration": 14,
    "start_time": "2024-06-06T21:25:13.468Z"
   },
   {
    "duration": 21,
    "start_time": "2024-06-06T21:25:13.485Z"
   },
   {
    "duration": 30,
    "start_time": "2024-06-06T21:25:13.510Z"
   },
   {
    "duration": 123,
    "start_time": "2024-06-06T21:25:13.543Z"
   },
   {
    "duration": 26,
    "start_time": "2024-06-06T21:25:13.675Z"
   },
   {
    "duration": 8,
    "start_time": "2024-06-06T21:25:13.704Z"
   },
   {
    "duration": 192,
    "start_time": "2024-06-06T21:25:13.715Z"
   },
   {
    "duration": 767,
    "start_time": "2024-06-06T21:25:13.912Z"
   },
   {
    "duration": 35,
    "start_time": "2024-06-06T21:25:14.687Z"
   },
   {
    "duration": 49,
    "start_time": "2024-06-06T21:25:14.726Z"
   },
   {
    "duration": 21,
    "start_time": "2024-06-06T21:25:14.785Z"
   },
   {
    "duration": 35,
    "start_time": "2024-06-06T21:25:14.810Z"
   },
   {
    "duration": 40,
    "start_time": "2024-06-06T21:25:14.848Z"
   },
   {
    "duration": 57,
    "start_time": "2024-06-06T21:25:14.892Z"
   },
   {
    "duration": 111,
    "start_time": "2024-06-06T21:25:14.952Z"
   },
   {
    "duration": 428,
    "start_time": "2024-06-06T21:25:15.076Z"
   },
   {
    "duration": 564,
    "start_time": "2024-06-06T21:25:15.509Z"
   },
   {
    "duration": 344,
    "start_time": "2024-06-06T21:25:16.075Z"
   },
   {
    "duration": 29,
    "start_time": "2024-06-06T21:25:16.422Z"
   },
   {
    "duration": 88,
    "start_time": "2024-06-06T21:25:16.455Z"
   },
   {
    "duration": 332,
    "start_time": "2024-06-06T21:25:16.546Z"
   },
   {
    "duration": 9,
    "start_time": "2024-06-06T21:25:16.881Z"
   },
   {
    "duration": 179,
    "start_time": "2024-06-06T21:25:16.893Z"
   },
   {
    "duration": 347,
    "start_time": "2024-06-06T21:25:17.075Z"
   },
   {
    "duration": 27,
    "start_time": "2024-06-06T21:25:17.425Z"
   },
   {
    "duration": 335,
    "start_time": "2024-06-06T21:25:17.455Z"
   },
   {
    "duration": 302,
    "start_time": "2024-06-06T21:25:17.793Z"
   },
   {
    "duration": 4,
    "start_time": "2024-06-06T21:25:18.099Z"
   },
   {
    "duration": 4,
    "start_time": "2024-06-06T21:25:18.107Z"
   },
   {
    "duration": 5,
    "start_time": "2024-06-06T21:25:18.140Z"
   },
   {
    "duration": 161,
    "start_time": "2024-06-06T21:32:56.486Z"
   },
   {
    "duration": 1508,
    "start_time": "2024-06-06T21:33:11.217Z"
   },
   {
    "duration": 159,
    "start_time": "2024-06-06T21:33:19.148Z"
   },
   {
    "duration": 297,
    "start_time": "2024-06-06T21:35:58.829Z"
   },
   {
    "duration": 26,
    "start_time": "2024-06-06T21:42:54.677Z"
   },
   {
    "duration": 291,
    "start_time": "2024-06-06T21:43:06.134Z"
   },
   {
    "duration": 366,
    "start_time": "2024-06-06T21:43:22.354Z"
   },
   {
    "duration": 238,
    "start_time": "2024-06-06T21:45:42.627Z"
   },
   {
    "duration": 243,
    "start_time": "2024-06-06T21:45:52.351Z"
   },
   {
    "duration": 192,
    "start_time": "2024-06-06T21:46:12.758Z"
   },
   {
    "duration": 212,
    "start_time": "2024-06-06T21:47:25.804Z"
   },
   {
    "duration": 194,
    "start_time": "2024-06-06T21:47:42.777Z"
   },
   {
    "duration": 153,
    "start_time": "2024-06-06T21:48:11.045Z"
   },
   {
    "duration": 232,
    "start_time": "2024-06-06T21:48:29.962Z"
   },
   {
    "duration": 155,
    "start_time": "2024-06-06T21:49:02.287Z"
   },
   {
    "duration": 149,
    "start_time": "2024-06-06T21:49:51.013Z"
   },
   {
    "duration": 8,
    "start_time": "2024-06-06T21:52:30.458Z"
   },
   {
    "duration": 228,
    "start_time": "2024-06-06T21:52:42.474Z"
   },
   {
    "duration": 165,
    "start_time": "2024-06-06T21:55:08.423Z"
   },
   {
    "duration": 18,
    "start_time": "2024-06-06T22:06:30.100Z"
   },
   {
    "duration": 459,
    "start_time": "2024-06-06T22:06:43.056Z"
   },
   {
    "duration": 11,
    "start_time": "2024-06-06T22:27:15.201Z"
   },
   {
    "duration": 36,
    "start_time": "2024-06-06T22:30:48.531Z"
   },
   {
    "duration": 33,
    "start_time": "2024-06-06T22:32:40.249Z"
   },
   {
    "duration": 37,
    "start_time": "2024-06-06T22:38:33.338Z"
   },
   {
    "duration": 33,
    "start_time": "2024-06-06T22:39:12.692Z"
   },
   {
    "duration": 38,
    "start_time": "2024-06-06T22:43:27.115Z"
   },
   {
    "duration": 20,
    "start_time": "2024-06-06T23:27:20.571Z"
   },
   {
    "duration": 19,
    "start_time": "2024-06-06T23:29:06.591Z"
   },
   {
    "duration": 23,
    "start_time": "2024-06-06T23:31:27.731Z"
   },
   {
    "duration": 11,
    "start_time": "2024-06-06T23:31:43.903Z"
   },
   {
    "duration": 11,
    "start_time": "2024-06-06T23:32:07.321Z"
   },
   {
    "duration": 10,
    "start_time": "2024-06-06T23:32:28.914Z"
   },
   {
    "duration": 11,
    "start_time": "2024-06-06T23:35:06.713Z"
   },
   {
    "duration": 25,
    "start_time": "2024-06-06T23:39:54.442Z"
   },
   {
    "duration": 734,
    "start_time": "2024-06-06T23:41:24.379Z"
   },
   {
    "duration": 14,
    "start_time": "2024-06-06T23:41:57.454Z"
   },
   {
    "duration": 14,
    "start_time": "2024-06-06T23:51:52.933Z"
   },
   {
    "duration": 372,
    "start_time": "2024-06-06T23:52:03.474Z"
   },
   {
    "duration": 106,
    "start_time": "2024-06-06T23:52:22.881Z"
   },
   {
    "duration": 14,
    "start_time": "2024-06-06T23:53:27.538Z"
   },
   {
    "duration": 17,
    "start_time": "2024-06-06T23:53:37.738Z"
   },
   {
    "duration": 14,
    "start_time": "2024-06-06T23:53:45.121Z"
   },
   {
    "duration": 16,
    "start_time": "2024-06-06T23:54:50.386Z"
   },
   {
    "duration": 19,
    "start_time": "2024-06-06T23:55:46.025Z"
   },
   {
    "duration": 20,
    "start_time": "2024-06-06T23:55:58.361Z"
   },
   {
    "duration": 152,
    "start_time": "2024-06-07T00:03:08.936Z"
   },
   {
    "duration": 37,
    "start_time": "2024-06-07T00:05:15.454Z"
   },
   {
    "duration": 22,
    "start_time": "2024-06-07T00:05:45.826Z"
   },
   {
    "duration": 18,
    "start_time": "2024-06-07T00:05:59.942Z"
   },
   {
    "duration": 34,
    "start_time": "2024-06-07T00:06:33.602Z"
   },
   {
    "duration": 30,
    "start_time": "2024-06-07T00:06:56.481Z"
   },
   {
    "duration": 1103,
    "start_time": "2024-06-07T00:10:25.764Z"
   },
   {
    "duration": 35,
    "start_time": "2024-06-07T00:10:45.321Z"
   },
   {
    "duration": 25,
    "start_time": "2024-06-07T00:11:12.057Z"
   },
   {
    "duration": 43,
    "start_time": "2024-06-07T00:11:30.324Z"
   },
   {
    "duration": 23,
    "start_time": "2024-06-07T00:11:45.467Z"
   },
   {
    "duration": 31,
    "start_time": "2024-06-07T00:14:21.910Z"
   },
   {
    "duration": 26,
    "start_time": "2024-06-07T00:15:45.453Z"
   },
   {
    "duration": 25,
    "start_time": "2024-06-07T00:17:39.956Z"
   },
   {
    "duration": 30,
    "start_time": "2024-06-07T00:18:35.996Z"
   },
   {
    "duration": 24,
    "start_time": "2024-06-07T00:19:40.771Z"
   },
   {
    "duration": 25,
    "start_time": "2024-06-07T00:20:12.156Z"
   },
   {
    "duration": 24,
    "start_time": "2024-06-07T00:20:47.523Z"
   },
   {
    "duration": 25,
    "start_time": "2024-06-07T00:21:19.589Z"
   },
   {
    "duration": 32,
    "start_time": "2024-06-07T00:21:39.489Z"
   },
   {
    "duration": 30,
    "start_time": "2024-06-07T00:21:52.617Z"
   },
   {
    "duration": 36,
    "start_time": "2024-06-07T00:22:03.026Z"
   },
   {
    "duration": 25,
    "start_time": "2024-06-07T00:22:10.722Z"
   },
   {
    "duration": 23,
    "start_time": "2024-06-07T00:22:16.240Z"
   },
   {
    "duration": 4993,
    "start_time": "2024-06-07T04:10:39.785Z"
   },
   {
    "duration": 370,
    "start_time": "2024-06-07T04:10:44.783Z"
   },
   {
    "duration": 16,
    "start_time": "2024-06-07T04:10:45.157Z"
   },
   {
    "duration": 22,
    "start_time": "2024-06-07T04:10:45.176Z"
   },
   {
    "duration": 8,
    "start_time": "2024-06-07T04:10:45.202Z"
   },
   {
    "duration": 16,
    "start_time": "2024-06-07T04:10:45.213Z"
   },
   {
    "duration": 10,
    "start_time": "2024-06-07T04:10:45.232Z"
   },
   {
    "duration": 20,
    "start_time": "2024-06-07T04:10:45.291Z"
   },
   {
    "duration": 23,
    "start_time": "2024-06-07T04:10:45.314Z"
   },
   {
    "duration": 65,
    "start_time": "2024-06-07T04:10:45.340Z"
   },
   {
    "duration": 7,
    "start_time": "2024-06-07T04:10:45.409Z"
   },
   {
    "duration": 170,
    "start_time": "2024-06-07T04:10:45.420Z"
   },
   {
    "duration": 12,
    "start_time": "2024-06-07T04:10:45.593Z"
   },
   {
    "duration": 18,
    "start_time": "2024-06-07T04:10:45.613Z"
   },
   {
    "duration": 7,
    "start_time": "2024-06-07T04:10:45.634Z"
   },
   {
    "duration": 119,
    "start_time": "2024-06-07T04:10:45.644Z"
   },
   {
    "duration": 39,
    "start_time": "2024-06-07T04:10:45.766Z"
   },
   {
    "duration": 7,
    "start_time": "2024-06-07T04:10:45.808Z"
   },
   {
    "duration": 172,
    "start_time": "2024-06-07T04:10:45.819Z"
   },
   {
    "duration": 15,
    "start_time": "2024-06-07T04:10:45.994Z"
   },
   {
    "duration": 31,
    "start_time": "2024-06-07T04:10:46.013Z"
   },
   {
    "duration": 66,
    "start_time": "2024-06-07T04:10:46.048Z"
   },
   {
    "duration": 22,
    "start_time": "2024-06-07T04:10:46.117Z"
   },
   {
    "duration": 58,
    "start_time": "2024-06-07T04:10:46.142Z"
   },
   {
    "duration": 39,
    "start_time": "2024-06-07T04:10:46.204Z"
   },
   {
    "duration": 57,
    "start_time": "2024-06-07T04:10:46.247Z"
   },
   {
    "duration": 94,
    "start_time": "2024-06-07T04:10:46.308Z"
   },
   {
    "duration": 354,
    "start_time": "2024-06-07T04:10:46.405Z"
   },
   {
    "duration": 352,
    "start_time": "2024-06-07T04:10:46.764Z"
   },
   {
    "duration": 346,
    "start_time": "2024-06-07T04:10:47.121Z"
   },
   {
    "duration": 32,
    "start_time": "2024-06-07T04:10:47.471Z"
   },
   {
    "duration": 425,
    "start_time": "2024-06-07T04:10:47.506Z"
   },
   {
    "duration": 11,
    "start_time": "2024-06-07T04:10:47.936Z"
   },
   {
    "duration": 179,
    "start_time": "2024-06-07T04:10:47.951Z"
   },
   {
    "duration": 338,
    "start_time": "2024-06-07T04:10:48.134Z"
   },
   {
    "duration": 23,
    "start_time": "2024-06-07T04:10:48.476Z"
   },
   {
    "duration": 360,
    "start_time": "2024-06-07T04:10:48.502Z"
   },
   {
    "duration": 4,
    "start_time": "2024-06-07T04:10:48.865Z"
   },
   {
    "duration": 19,
    "start_time": "2024-06-07T04:10:48.872Z"
   },
   {
    "duration": 15,
    "start_time": "2024-06-07T04:11:57.610Z"
   },
   {
    "duration": 29,
    "start_time": "2024-06-07T04:14:56.841Z"
   },
   {
    "duration": 29,
    "start_time": "2024-06-07T04:15:08.388Z"
   },
   {
    "duration": 426,
    "start_time": "2024-06-07T04:17:27.569Z"
   },
   {
    "duration": 1461,
    "start_time": "2024-06-07T04:18:14.785Z"
   },
   {
    "duration": 310,
    "start_time": "2024-06-07T04:18:30.590Z"
   },
   {
    "duration": 272,
    "start_time": "2024-06-07T04:23:47.549Z"
   },
   {
    "duration": 1354,
    "start_time": "2024-06-07T04:24:37.674Z"
   },
   {
    "duration": 109,
    "start_time": "2024-06-07T04:26:51.849Z"
   },
   {
    "duration": 8,
    "start_time": "2024-06-07T04:27:15.840Z"
   },
   {
    "duration": 34,
    "start_time": "2024-06-07T04:27:22.550Z"
   },
   {
    "duration": 259,
    "start_time": "2024-06-07T04:27:30.767Z"
   },
   {
    "duration": 241,
    "start_time": "2024-06-07T04:28:05.419Z"
   },
   {
    "duration": 238,
    "start_time": "2024-06-07T04:34:06.560Z"
   },
   {
    "duration": 252,
    "start_time": "2024-06-07T04:34:21.674Z"
   },
   {
    "duration": 261,
    "start_time": "2024-06-07T04:34:55.532Z"
   },
   {
    "duration": 258,
    "start_time": "2024-06-07T04:35:49.523Z"
   },
   {
    "duration": 255,
    "start_time": "2024-06-07T04:36:37.127Z"
   },
   {
    "duration": 248,
    "start_time": "2024-06-07T04:37:50.494Z"
   },
   {
    "duration": 237,
    "start_time": "2024-06-07T04:37:59.060Z"
   },
   {
    "duration": 39,
    "start_time": "2024-06-07T05:08:25.033Z"
   },
   {
    "duration": 3,
    "start_time": "2024-06-07T05:12:04.147Z"
   },
   {
    "duration": 11,
    "start_time": "2024-06-07T05:21:43.688Z"
   },
   {
    "duration": 6,
    "start_time": "2024-06-07T05:24:28.146Z"
   },
   {
    "duration": 15,
    "start_time": "2024-06-07T05:25:29.633Z"
   },
   {
    "duration": 261,
    "start_time": "2024-06-07T05:30:48.442Z"
   },
   {
    "duration": 92,
    "start_time": "2024-06-07T05:31:02.447Z"
   },
   {
    "duration": 253,
    "start_time": "2024-06-07T05:31:57.400Z"
   },
   {
    "duration": 84,
    "start_time": "2024-06-07T05:32:13.094Z"
   },
   {
    "duration": 84,
    "start_time": "2024-06-07T05:33:58.675Z"
   },
   {
    "duration": 87,
    "start_time": "2024-06-07T05:35:04.242Z"
   },
   {
    "duration": 85,
    "start_time": "2024-06-07T05:36:11.163Z"
   },
   {
    "duration": 88,
    "start_time": "2024-06-07T05:39:09.000Z"
   },
   {
    "duration": 29,
    "start_time": "2024-06-07T05:48:47.582Z"
   },
   {
    "duration": 40,
    "start_time": "2024-06-07T05:49:45.464Z"
   },
   {
    "duration": 93,
    "start_time": "2024-06-07T05:51:51.544Z"
   },
   {
    "duration": 23,
    "start_time": "2024-06-07T05:52:16.134Z"
   },
   {
    "duration": 30,
    "start_time": "2024-06-07T05:52:32.260Z"
   },
   {
    "duration": 84,
    "start_time": "2024-06-07T05:52:44.222Z"
   },
   {
    "duration": 6045,
    "start_time": "2024-06-07T12:22:10.802Z"
   },
   {
    "duration": 366,
    "start_time": "2024-06-07T12:22:16.851Z"
   },
   {
    "duration": 16,
    "start_time": "2024-06-07T12:22:17.219Z"
   },
   {
    "duration": 10,
    "start_time": "2024-06-07T12:22:17.241Z"
   },
   {
    "duration": 8,
    "start_time": "2024-06-07T12:22:17.254Z"
   },
   {
    "duration": 50,
    "start_time": "2024-06-07T12:22:17.266Z"
   },
   {
    "duration": 9,
    "start_time": "2024-06-07T12:22:17.320Z"
   },
   {
    "duration": 20,
    "start_time": "2024-06-07T12:22:17.333Z"
   },
   {
    "duration": 61,
    "start_time": "2024-06-07T12:22:17.358Z"
   },
   {
    "duration": 25,
    "start_time": "2024-06-07T12:22:17.427Z"
   },
   {
    "duration": 7,
    "start_time": "2024-06-07T12:22:17.455Z"
   },
   {
    "duration": 194,
    "start_time": "2024-06-07T12:22:17.465Z"
   },
   {
    "duration": 13,
    "start_time": "2024-06-07T12:22:17.662Z"
   },
   {
    "duration": 44,
    "start_time": "2024-06-07T12:22:17.678Z"
   },
   {
    "duration": 6,
    "start_time": "2024-06-07T12:22:17.725Z"
   },
   {
    "duration": 105,
    "start_time": "2024-06-07T12:22:17.735Z"
   },
   {
    "duration": 22,
    "start_time": "2024-06-07T12:22:17.844Z"
   },
   {
    "duration": 7,
    "start_time": "2024-06-07T12:22:17.869Z"
   },
   {
    "duration": 139,
    "start_time": "2024-06-07T12:22:17.911Z"
   },
   {
    "duration": 13,
    "start_time": "2024-06-07T12:22:18.054Z"
   },
   {
    "duration": 60,
    "start_time": "2024-06-07T12:22:18.070Z"
   },
   {
    "duration": 33,
    "start_time": "2024-06-07T12:22:18.134Z"
   },
   {
    "duration": 46,
    "start_time": "2024-06-07T12:22:18.170Z"
   },
   {
    "duration": 27,
    "start_time": "2024-06-07T12:22:18.220Z"
   },
   {
    "duration": 73,
    "start_time": "2024-06-07T12:22:18.251Z"
   },
   {
    "duration": 24,
    "start_time": "2024-06-07T12:22:18.327Z"
   },
   {
    "duration": 101,
    "start_time": "2024-06-07T12:22:18.357Z"
   },
   {
    "duration": 365,
    "start_time": "2024-06-07T12:22:18.466Z"
   },
   {
    "duration": 354,
    "start_time": "2024-06-07T12:22:18.834Z"
   },
   {
    "duration": 422,
    "start_time": "2024-06-07T12:22:19.191Z"
   },
   {
    "duration": 20,
    "start_time": "2024-06-07T12:22:19.616Z"
   },
   {
    "duration": 363,
    "start_time": "2024-06-07T12:22:19.639Z"
   },
   {
    "duration": 16,
    "start_time": "2024-06-07T12:22:20.005Z"
   },
   {
    "duration": 173,
    "start_time": "2024-06-07T12:22:20.024Z"
   },
   {
    "duration": 329,
    "start_time": "2024-06-07T12:22:20.199Z"
   },
   {
    "duration": 16,
    "start_time": "2024-06-07T12:22:20.531Z"
   },
   {
    "duration": 365,
    "start_time": "2024-06-07T12:22:20.550Z"
   },
   {
    "duration": 265,
    "start_time": "2024-06-07T12:22:20.918Z"
   },
   {
    "duration": 276,
    "start_time": "2024-06-07T12:22:21.187Z"
   },
   {
    "duration": 262,
    "start_time": "2024-06-07T12:22:21.467Z"
   },
   {
    "duration": 1355,
    "start_time": "2024-06-07T12:22:21.732Z"
   },
   {
    "duration": 0,
    "start_time": "2024-06-07T12:22:23.090Z"
   },
   {
    "duration": 16,
    "start_time": "2024-06-07T12:23:36.123Z"
   },
   {
    "duration": 16,
    "start_time": "2024-06-07T12:26:25.794Z"
   },
   {
    "duration": 37,
    "start_time": "2024-06-07T12:26:51.607Z"
   },
   {
    "duration": 69,
    "start_time": "2024-06-07T12:27:50.440Z"
   },
   {
    "duration": 35,
    "start_time": "2024-06-07T12:27:55.468Z"
   },
   {
    "duration": 38,
    "start_time": "2024-06-07T12:31:04.116Z"
   },
   {
    "duration": 35,
    "start_time": "2024-06-07T12:31:40.582Z"
   },
   {
    "duration": 37,
    "start_time": "2024-06-07T12:31:50.249Z"
   },
   {
    "duration": 38,
    "start_time": "2024-06-07T12:34:21.466Z"
   },
   {
    "duration": 35,
    "start_time": "2024-06-07T12:34:41.377Z"
   },
   {
    "duration": 37,
    "start_time": "2024-06-07T12:34:56.932Z"
   },
   {
    "duration": 14,
    "start_time": "2024-06-07T12:35:11.778Z"
   },
   {
    "duration": 18,
    "start_time": "2024-06-07T12:35:26.152Z"
   },
   {
    "duration": 21,
    "start_time": "2024-06-07T12:43:10.131Z"
   },
   {
    "duration": 17,
    "start_time": "2024-06-07T12:43:42.206Z"
   },
   {
    "duration": 18,
    "start_time": "2024-06-07T12:44:22.687Z"
   },
   {
    "duration": 25,
    "start_time": "2024-06-07T12:44:53.009Z"
   },
   {
    "duration": 17,
    "start_time": "2024-06-07T12:45:18.889Z"
   },
   {
    "duration": 19,
    "start_time": "2024-06-07T12:47:25.606Z"
   },
   {
    "duration": 20,
    "start_time": "2024-06-07T12:48:03.722Z"
   },
   {
    "duration": 21,
    "start_time": "2024-06-07T12:48:23.045Z"
   },
   {
    "duration": 19,
    "start_time": "2024-06-07T12:48:34.492Z"
   },
   {
    "duration": 21,
    "start_time": "2024-06-07T12:48:50.997Z"
   },
   {
    "duration": 4,
    "start_time": "2024-06-07T12:49:10.048Z"
   },
   {
    "duration": 11,
    "start_time": "2024-06-07T12:49:28.765Z"
   },
   {
    "duration": 93,
    "start_time": "2024-06-07T12:50:11.665Z"
   },
   {
    "duration": 11,
    "start_time": "2024-06-07T12:51:27.378Z"
   },
   {
    "duration": 13,
    "start_time": "2024-06-07T12:51:33.498Z"
   },
   {
    "duration": 6,
    "start_time": "2024-06-07T12:52:07.907Z"
   },
   {
    "duration": 10,
    "start_time": "2024-06-07T12:52:17.505Z"
   },
   {
    "duration": 11,
    "start_time": "2024-06-07T12:52:41.216Z"
   },
   {
    "duration": 19,
    "start_time": "2024-06-07T12:54:23.421Z"
   },
   {
    "duration": 26,
    "start_time": "2024-06-07T12:58:54.941Z"
   },
   {
    "duration": 100,
    "start_time": "2024-06-07T12:59:43.971Z"
   },
   {
    "duration": 27,
    "start_time": "2024-06-07T13:00:31.147Z"
   },
   {
    "duration": 33,
    "start_time": "2024-06-07T13:01:03.213Z"
   },
   {
    "duration": 19,
    "start_time": "2024-06-07T13:01:15.926Z"
   },
   {
    "duration": 25,
    "start_time": "2024-06-07T13:02:10.330Z"
   },
   {
    "duration": 20,
    "start_time": "2024-06-07T13:02:53.564Z"
   },
   {
    "duration": 20,
    "start_time": "2024-06-07T13:03:15.623Z"
   },
   {
    "duration": 20,
    "start_time": "2024-06-07T13:08:16.468Z"
   },
   {
    "duration": 21,
    "start_time": "2024-06-07T13:11:51.442Z"
   },
   {
    "duration": 20,
    "start_time": "2024-06-07T13:13:26.859Z"
   },
   {
    "duration": 5,
    "start_time": "2024-06-07T13:23:18.802Z"
   },
   {
    "duration": 23,
    "start_time": "2024-06-07T13:23:35.414Z"
   },
   {
    "duration": 5,
    "start_time": "2024-06-07T13:23:46.522Z"
   },
   {
    "duration": 7,
    "start_time": "2024-06-07T13:25:15.914Z"
   },
   {
    "duration": 8,
    "start_time": "2024-06-07T13:25:20.048Z"
   },
   {
    "duration": 8,
    "start_time": "2024-06-07T13:25:59.482Z"
   },
   {
    "duration": 6,
    "start_time": "2024-06-07T13:26:12.140Z"
   },
   {
    "duration": 21,
    "start_time": "2024-06-07T13:41:18.906Z"
   },
   {
    "duration": 11,
    "start_time": "2024-06-07T13:42:13.820Z"
   },
   {
    "duration": 21,
    "start_time": "2024-06-07T13:42:27.166Z"
   },
   {
    "duration": 24,
    "start_time": "2024-06-07T13:43:41.805Z"
   },
   {
    "duration": 283,
    "start_time": "2024-06-07T13:50:33.702Z"
   },
   {
    "duration": 348,
    "start_time": "2024-06-07T13:50:52.607Z"
   },
   {
    "duration": 278,
    "start_time": "2024-06-07T13:53:49.317Z"
   },
   {
    "duration": 282,
    "start_time": "2024-06-07T13:57:44.173Z"
   },
   {
    "duration": 334,
    "start_time": "2024-06-07T17:47:51.818Z"
   },
   {
    "duration": 5196,
    "start_time": "2024-06-07T17:48:01.436Z"
   },
   {
    "duration": 393,
    "start_time": "2024-06-07T17:48:06.636Z"
   },
   {
    "duration": 16,
    "start_time": "2024-06-07T17:48:07.032Z"
   },
   {
    "duration": 11,
    "start_time": "2024-06-07T17:48:07.051Z"
   },
   {
    "duration": 8,
    "start_time": "2024-06-07T17:48:07.067Z"
   },
   {
    "duration": 51,
    "start_time": "2024-06-07T17:48:07.080Z"
   },
   {
    "duration": 8,
    "start_time": "2024-06-07T17:48:07.135Z"
   },
   {
    "duration": 22,
    "start_time": "2024-06-07T17:48:07.147Z"
   },
   {
    "duration": 67,
    "start_time": "2024-06-07T17:48:07.173Z"
   },
   {
    "duration": 25,
    "start_time": "2024-06-07T17:48:07.243Z"
   },
   {
    "duration": 8,
    "start_time": "2024-06-07T17:48:07.270Z"
   },
   {
    "duration": 206,
    "start_time": "2024-06-07T17:48:07.282Z"
   },
   {
    "duration": 34,
    "start_time": "2024-06-07T17:48:07.492Z"
   },
   {
    "duration": 19,
    "start_time": "2024-06-07T17:48:07.536Z"
   },
   {
    "duration": 7,
    "start_time": "2024-06-07T17:48:07.559Z"
   },
   {
    "duration": 118,
    "start_time": "2024-06-07T17:48:07.569Z"
   },
   {
    "duration": 41,
    "start_time": "2024-06-07T17:48:07.691Z"
   },
   {
    "duration": 7,
    "start_time": "2024-06-07T17:48:07.736Z"
   },
   {
    "duration": 164,
    "start_time": "2024-06-07T17:48:07.746Z"
   },
   {
    "duration": 13,
    "start_time": "2024-06-07T17:48:07.922Z"
   },
   {
    "duration": 32,
    "start_time": "2024-06-07T17:48:07.938Z"
   },
   {
    "duration": 67,
    "start_time": "2024-06-07T17:48:07.973Z"
   },
   {
    "duration": 22,
    "start_time": "2024-06-07T17:48:08.044Z"
   },
   {
    "duration": 24,
    "start_time": "2024-06-07T17:48:08.069Z"
   },
   {
    "duration": 36,
    "start_time": "2024-06-07T17:48:08.123Z"
   },
   {
    "duration": 25,
    "start_time": "2024-06-07T17:48:08.163Z"
   },
   {
    "duration": 102,
    "start_time": "2024-06-07T17:48:08.191Z"
   },
   {
    "duration": 28,
    "start_time": "2024-06-07T17:48:08.296Z"
   },
   {
    "duration": 27,
    "start_time": "2024-06-07T17:48:08.327Z"
   },
   {
    "duration": 388,
    "start_time": "2024-06-07T17:48:08.357Z"
   },
   {
    "duration": 342,
    "start_time": "2024-06-07T17:48:08.748Z"
   },
   {
    "duration": 353,
    "start_time": "2024-06-07T17:48:09.095Z"
   },
   {
    "duration": 409,
    "start_time": "2024-06-07T17:48:09.452Z"
   },
   {
    "duration": 11,
    "start_time": "2024-06-07T17:48:09.868Z"
   },
   {
    "duration": 204,
    "start_time": "2024-06-07T17:48:09.882Z"
   },
   {
    "duration": 345,
    "start_time": "2024-06-07T17:48:10.089Z"
   },
   {
    "duration": 17,
    "start_time": "2024-06-07T17:48:10.437Z"
   },
   {
    "duration": 457,
    "start_time": "2024-06-07T17:48:10.456Z"
   },
   {
    "duration": 267,
    "start_time": "2024-06-07T17:48:10.924Z"
   },
   {
    "duration": 44,
    "start_time": "2024-06-07T17:48:11.195Z"
   },
   {
    "duration": 651,
    "start_time": "2024-06-07T17:49:19.481Z"
   },
   {
    "duration": 29,
    "start_time": "2024-06-07T17:50:15.809Z"
   },
   {
    "duration": 38,
    "start_time": "2024-06-07T17:50:33.779Z"
   },
   {
    "duration": 30,
    "start_time": "2024-06-07T17:51:08.202Z"
   },
   {
    "duration": 32,
    "start_time": "2024-06-07T17:52:37.460Z"
   },
   {
    "duration": 323,
    "start_time": "2024-06-07T17:55:53.745Z"
   },
   {
    "duration": 353,
    "start_time": "2024-06-07T17:56:42.006Z"
   },
   {
    "duration": 475,
    "start_time": "2024-06-07T17:58:30.527Z"
   },
   {
    "duration": 323,
    "start_time": "2024-06-07T17:59:10.105Z"
   },
   {
    "duration": 337,
    "start_time": "2024-06-07T17:59:39.289Z"
   },
   {
    "duration": 351,
    "start_time": "2024-06-07T17:59:52.059Z"
   },
   {
    "duration": 39,
    "start_time": "2024-06-07T18:39:47.292Z"
   },
   {
    "duration": 43,
    "start_time": "2024-06-07T18:42:51.193Z"
   },
   {
    "duration": 32,
    "start_time": "2024-06-07T18:42:56.548Z"
   },
   {
    "duration": 4,
    "start_time": "2024-06-07T18:44:00.380Z"
   },
   {
    "duration": 18,
    "start_time": "2024-06-07T18:44:07.534Z"
   },
   {
    "duration": 39,
    "start_time": "2024-06-07T18:45:35.810Z"
   },
   {
    "duration": 24,
    "start_time": "2024-06-07T18:46:02.762Z"
   },
   {
    "duration": 27,
    "start_time": "2024-06-07T18:46:47.123Z"
   },
   {
    "duration": 32,
    "start_time": "2024-06-07T18:47:06.347Z"
   },
   {
    "duration": 36,
    "start_time": "2024-06-07T18:47:27.375Z"
   },
   {
    "duration": 5746,
    "start_time": "2024-06-07T21:40:47.585Z"
   },
   {
    "duration": 481,
    "start_time": "2024-06-07T21:40:53.336Z"
   },
   {
    "duration": 25,
    "start_time": "2024-06-07T21:40:53.826Z"
   },
   {
    "duration": 14,
    "start_time": "2024-06-07T21:40:53.858Z"
   },
   {
    "duration": 28,
    "start_time": "2024-06-07T21:40:53.876Z"
   },
   {
    "duration": 22,
    "start_time": "2024-06-07T21:40:53.909Z"
   },
   {
    "duration": 17,
    "start_time": "2024-06-07T21:40:53.936Z"
   },
   {
    "duration": 69,
    "start_time": "2024-06-07T21:40:53.958Z"
   },
   {
    "duration": 70,
    "start_time": "2024-06-07T21:40:54.031Z"
   },
   {
    "duration": 34,
    "start_time": "2024-06-07T21:40:54.110Z"
   },
   {
    "duration": 10,
    "start_time": "2024-06-07T21:40:54.147Z"
   },
   {
    "duration": 228,
    "start_time": "2024-06-07T21:40:54.161Z"
   },
   {
    "duration": 18,
    "start_time": "2024-06-07T21:40:54.404Z"
   },
   {
    "duration": 25,
    "start_time": "2024-06-07T21:40:54.427Z"
   },
   {
    "duration": 52,
    "start_time": "2024-06-07T21:40:54.455Z"
   },
   {
    "duration": 109,
    "start_time": "2024-06-07T21:40:54.512Z"
   },
   {
    "duration": 24,
    "start_time": "2024-06-07T21:40:54.625Z"
   },
   {
    "duration": 11,
    "start_time": "2024-06-07T21:40:54.653Z"
   },
   {
    "duration": 186,
    "start_time": "2024-06-07T21:40:54.703Z"
   },
   {
    "duration": 27,
    "start_time": "2024-06-07T21:40:54.903Z"
   },
   {
    "duration": 38,
    "start_time": "2024-06-07T21:40:54.933Z"
   },
   {
    "duration": 36,
    "start_time": "2024-06-07T21:40:55.003Z"
   },
   {
    "duration": 61,
    "start_time": "2024-06-07T21:40:55.043Z"
   },
   {
    "duration": 30,
    "start_time": "2024-06-07T21:40:55.107Z"
   },
   {
    "duration": 85,
    "start_time": "2024-06-07T21:40:55.141Z"
   },
   {
    "duration": 29,
    "start_time": "2024-06-07T21:40:55.229Z"
   },
   {
    "duration": 146,
    "start_time": "2024-06-07T21:40:55.263Z"
   },
   {
    "duration": 21,
    "start_time": "2024-06-07T21:40:55.422Z"
   },
   {
    "duration": 69,
    "start_time": "2024-06-07T21:40:55.447Z"
   },
   {
    "duration": 531,
    "start_time": "2024-06-07T21:40:55.520Z"
   },
   {
    "duration": 471,
    "start_time": "2024-06-07T21:40:56.055Z"
   },
   {
    "duration": 448,
    "start_time": "2024-06-07T21:40:56.535Z"
   },
   {
    "duration": 403,
    "start_time": "2024-06-07T21:40:56.987Z"
   },
   {
    "duration": 22,
    "start_time": "2024-06-07T21:40:57.394Z"
   },
   {
    "duration": 217,
    "start_time": "2024-06-07T21:40:57.423Z"
   },
   {
    "duration": 538,
    "start_time": "2024-06-07T21:40:57.644Z"
   },
   {
    "duration": 28,
    "start_time": "2024-06-07T21:40:58.186Z"
   },
   {
    "duration": 403,
    "start_time": "2024-06-07T21:40:58.219Z"
   },
   {
    "duration": 374,
    "start_time": "2024-06-07T21:40:58.627Z"
   },
   {
    "duration": 396,
    "start_time": "2024-06-07T21:40:59.006Z"
   },
   {
    "duration": 313,
    "start_time": "2024-06-07T21:40:59.407Z"
   },
   {
    "duration": 329,
    "start_time": "2024-06-07T21:40:59.724Z"
   },
   {
    "duration": 58,
    "start_time": "2024-06-07T21:41:00.057Z"
   },
   {
    "duration": 7,
    "start_time": "2024-06-07T21:41:00.119Z"
   },
   {
    "duration": 36,
    "start_time": "2024-06-07T21:43:09.339Z"
   },
   {
    "duration": 25,
    "start_time": "2024-06-07T21:43:24.845Z"
   },
   {
    "duration": 21,
    "start_time": "2024-06-07T21:44:19.915Z"
   },
   {
    "duration": 15,
    "start_time": "2024-06-07T21:49:48.288Z"
   },
   {
    "duration": 13,
    "start_time": "2024-06-07T21:50:23.065Z"
   },
   {
    "duration": 20,
    "start_time": "2024-06-07T21:53:05.902Z"
   },
   {
    "duration": 19,
    "start_time": "2024-06-07T21:55:03.389Z"
   },
   {
    "duration": 19,
    "start_time": "2024-06-07T21:55:14.009Z"
   },
   {
    "duration": 18,
    "start_time": "2024-06-07T21:55:51.662Z"
   },
   {
    "duration": 15,
    "start_time": "2024-06-07T21:57:27.102Z"
   },
   {
    "duration": 417,
    "start_time": "2024-06-07T22:02:35.412Z"
   },
   {
    "duration": 18,
    "start_time": "2024-06-07T22:06:19.868Z"
   },
   {
    "duration": 21,
    "start_time": "2024-06-07T22:07:11.893Z"
   },
   {
    "duration": 21,
    "start_time": "2024-06-07T22:07:24.378Z"
   },
   {
    "duration": 18,
    "start_time": "2024-06-07T22:08:17.916Z"
   },
   {
    "duration": 25,
    "start_time": "2024-06-07T22:09:47.329Z"
   },
   {
    "duration": 24,
    "start_time": "2024-06-07T22:10:13.781Z"
   },
   {
    "duration": 21,
    "start_time": "2024-06-07T22:10:18.774Z"
   },
   {
    "duration": 21,
    "start_time": "2024-06-07T22:10:46.017Z"
   },
   {
    "duration": 21,
    "start_time": "2024-06-07T22:11:17.653Z"
   },
   {
    "duration": 21,
    "start_time": "2024-06-07T22:15:48.466Z"
   },
   {
    "duration": 22,
    "start_time": "2024-06-07T22:16:02.699Z"
   },
   {
    "duration": 440,
    "start_time": "2024-06-07T22:21:45.667Z"
   },
   {
    "duration": 43,
    "start_time": "2024-06-07T22:24:09.146Z"
   },
   {
    "duration": 42,
    "start_time": "2024-06-07T22:25:52.946Z"
   },
   {
    "duration": 12,
    "start_time": "2024-06-07T22:28:40.822Z"
   },
   {
    "duration": 21,
    "start_time": "2024-06-07T22:28:43.010Z"
   },
   {
    "duration": 308,
    "start_time": "2024-06-07T22:29:29.674Z"
   },
   {
    "duration": 326,
    "start_time": "2024-06-07T22:32:42.579Z"
   },
   {
    "duration": 300,
    "start_time": "2024-06-07T22:32:54.777Z"
   },
   {
    "duration": 251,
    "start_time": "2024-06-07T22:34:04.946Z"
   },
   {
    "duration": 341,
    "start_time": "2024-06-08T04:48:24.857Z"
   },
   {
    "duration": 5051,
    "start_time": "2024-06-08T04:48:35.972Z"
   },
   {
    "duration": 377,
    "start_time": "2024-06-08T04:48:41.028Z"
   },
   {
    "duration": 18,
    "start_time": "2024-06-08T04:48:41.409Z"
   },
   {
    "duration": 11,
    "start_time": "2024-06-08T04:48:41.433Z"
   },
   {
    "duration": 8,
    "start_time": "2024-06-08T04:48:41.447Z"
   },
   {
    "duration": 14,
    "start_time": "2024-06-08T04:48:41.459Z"
   },
   {
    "duration": 49,
    "start_time": "2024-06-08T04:48:41.477Z"
   },
   {
    "duration": 21,
    "start_time": "2024-06-08T04:48:41.529Z"
   },
   {
    "duration": 25,
    "start_time": "2024-06-08T04:48:41.553Z"
   },
   {
    "duration": 27,
    "start_time": "2024-06-08T04:48:41.625Z"
   },
   {
    "duration": 8,
    "start_time": "2024-06-08T04:48:41.655Z"
   },
   {
    "duration": 181,
    "start_time": "2024-06-08T04:48:41.667Z"
   },
   {
    "duration": 13,
    "start_time": "2024-06-08T04:48:41.851Z"
   },
   {
    "duration": 21,
    "start_time": "2024-06-08T04:48:41.867Z"
   },
   {
    "duration": 7,
    "start_time": "2024-06-08T04:48:41.922Z"
   },
   {
    "duration": 103,
    "start_time": "2024-06-08T04:48:41.932Z"
   },
   {
    "duration": 24,
    "start_time": "2024-06-08T04:48:42.039Z"
   },
   {
    "duration": 8,
    "start_time": "2024-06-08T04:48:42.067Z"
   },
   {
    "duration": 189,
    "start_time": "2024-06-08T04:48:42.079Z"
   },
   {
    "duration": 17,
    "start_time": "2024-06-08T04:48:42.270Z"
   },
   {
    "duration": 58,
    "start_time": "2024-06-08T04:48:42.291Z"
   },
   {
    "duration": 31,
    "start_time": "2024-06-08T04:48:42.352Z"
   },
   {
    "duration": 45,
    "start_time": "2024-06-08T04:48:42.386Z"
   },
   {
    "duration": 27,
    "start_time": "2024-06-08T04:48:42.434Z"
   },
   {
    "duration": 70,
    "start_time": "2024-06-08T04:48:42.465Z"
   },
   {
    "duration": 24,
    "start_time": "2024-06-08T04:48:42.538Z"
   },
   {
    "duration": 105,
    "start_time": "2024-06-08T04:48:42.565Z"
   },
   {
    "duration": 12,
    "start_time": "2024-06-08T04:48:42.677Z"
   },
   {
    "duration": 42,
    "start_time": "2024-06-08T04:48:42.692Z"
   },
   {
    "duration": 354,
    "start_time": "2024-06-08T04:48:42.737Z"
   },
   {
    "duration": 430,
    "start_time": "2024-06-08T04:48:43.094Z"
   },
   {
    "duration": 340,
    "start_time": "2024-06-08T04:48:43.526Z"
   },
   {
    "duration": 328,
    "start_time": "2024-06-08T04:48:43.869Z"
   },
   {
    "duration": 24,
    "start_time": "2024-06-08T04:48:44.200Z"
   },
   {
    "duration": 193,
    "start_time": "2024-06-08T04:48:44.227Z"
   },
   {
    "duration": 332,
    "start_time": "2024-06-08T04:48:44.424Z"
   },
   {
    "duration": 19,
    "start_time": "2024-06-08T04:48:44.759Z"
   },
   {
    "duration": 351,
    "start_time": "2024-06-08T04:48:44.781Z"
   },
   {
    "duration": 330,
    "start_time": "2024-06-08T04:48:45.135Z"
   },
   {
    "duration": 265,
    "start_time": "2024-06-08T04:48:45.469Z"
   },
   {
    "duration": 280,
    "start_time": "2024-06-08T04:48:45.738Z"
   },
   {
    "duration": 258,
    "start_time": "2024-06-08T04:48:46.023Z"
   },
   {
    "duration": 23,
    "start_time": "2024-06-08T04:48:46.284Z"
   },
   {
    "duration": 4,
    "start_time": "2024-06-08T04:48:46.324Z"
   },
   {
    "duration": 318,
    "start_time": "2024-06-08T04:49:21.364Z"
   },
   {
    "duration": 396,
    "start_time": "2024-06-08T04:50:22.959Z"
   },
   {
    "duration": 259,
    "start_time": "2024-06-08T04:51:56.763Z"
   },
   {
    "duration": 246,
    "start_time": "2024-06-08T04:52:22.842Z"
   },
   {
    "duration": 309,
    "start_time": "2024-06-08T04:52:52.382Z"
   },
   {
    "duration": 300,
    "start_time": "2024-06-08T04:53:20.587Z"
   },
   {
    "duration": 250,
    "start_time": "2024-06-08T04:54:41.234Z"
   },
   {
    "duration": 256,
    "start_time": "2024-06-08T04:55:47.697Z"
   },
   {
    "duration": 251,
    "start_time": "2024-06-08T04:55:50.723Z"
   },
   {
    "duration": 23,
    "start_time": "2024-06-08T05:01:36.850Z"
   },
   {
    "duration": 22,
    "start_time": "2024-06-08T05:02:15.634Z"
   },
   {
    "duration": 22,
    "start_time": "2024-06-08T05:02:37.214Z"
   },
   {
    "duration": 1212,
    "start_time": "2024-06-08T05:05:20.396Z"
   },
   {
    "duration": 62,
    "start_time": "2024-06-08T05:06:51.805Z"
   },
   {
    "duration": 18,
    "start_time": "2024-06-08T05:07:56.519Z"
   },
   {
    "duration": 23,
    "start_time": "2024-06-08T05:08:31.768Z"
   },
   {
    "duration": 10,
    "start_time": "2024-06-08T05:08:59.716Z"
   },
   {
    "duration": 30,
    "start_time": "2024-06-08T05:09:05.169Z"
   },
   {
    "duration": 21,
    "start_time": "2024-06-08T05:09:33.803Z"
   },
   {
    "duration": 20,
    "start_time": "2024-06-08T05:11:08.607Z"
   },
   {
    "duration": 21,
    "start_time": "2024-06-08T05:11:26.208Z"
   },
   {
    "duration": 22,
    "start_time": "2024-06-08T05:12:48.747Z"
   },
   {
    "duration": 20,
    "start_time": "2024-06-08T05:13:46.067Z"
   },
   {
    "duration": 30,
    "start_time": "2024-06-08T05:14:19.914Z"
   },
   {
    "duration": 23,
    "start_time": "2024-06-08T05:14:40.456Z"
   },
   {
    "duration": 703,
    "start_time": "2024-06-08T05:15:18.252Z"
   },
   {
    "duration": 73,
    "start_time": "2024-06-08T05:15:43.502Z"
   },
   {
    "duration": 22,
    "start_time": "2024-06-08T05:16:57.580Z"
   },
   {
    "duration": 19,
    "start_time": "2024-06-08T05:17:13.835Z"
   },
   {
    "duration": 23,
    "start_time": "2024-06-08T05:18:03.950Z"
   },
   {
    "duration": 590,
    "start_time": "2024-06-08T05:19:55.354Z"
   },
   {
    "duration": 35,
    "start_time": "2024-06-08T05:20:27.504Z"
   },
   {
    "duration": 8,
    "start_time": "2024-06-08T05:24:00.145Z"
   },
   {
    "duration": 25,
    "start_time": "2024-06-08T05:24:22.141Z"
   },
   {
    "duration": 5049,
    "start_time": "2024-06-08T17:01:56.188Z"
   },
   {
    "duration": 394,
    "start_time": "2024-06-08T17:02:01.241Z"
   },
   {
    "duration": 17,
    "start_time": "2024-06-08T17:02:01.638Z"
   },
   {
    "duration": 11,
    "start_time": "2024-06-08T17:02:01.659Z"
   },
   {
    "duration": 9,
    "start_time": "2024-06-08T17:02:01.673Z"
   },
   {
    "duration": 48,
    "start_time": "2024-06-08T17:02:01.685Z"
   },
   {
    "duration": 11,
    "start_time": "2024-06-08T17:02:01.736Z"
   },
   {
    "duration": 22,
    "start_time": "2024-06-08T17:02:01.750Z"
   },
   {
    "duration": 58,
    "start_time": "2024-06-08T17:02:01.775Z"
   },
   {
    "duration": 26,
    "start_time": "2024-06-08T17:02:01.839Z"
   },
   {
    "duration": 10,
    "start_time": "2024-06-08T17:02:01.869Z"
   },
   {
    "duration": 201,
    "start_time": "2024-06-08T17:02:01.883Z"
   },
   {
    "duration": 13,
    "start_time": "2024-06-08T17:02:02.088Z"
   },
   {
    "duration": 21,
    "start_time": "2024-06-08T17:02:02.124Z"
   },
   {
    "duration": 7,
    "start_time": "2024-06-08T17:02:02.148Z"
   },
   {
    "duration": 116,
    "start_time": "2024-06-08T17:02:02.158Z"
   },
   {
    "duration": 24,
    "start_time": "2024-06-08T17:02:02.277Z"
   },
   {
    "duration": 8,
    "start_time": "2024-06-08T17:02:02.324Z"
   },
   {
    "duration": 161,
    "start_time": "2024-06-08T17:02:02.335Z"
   },
   {
    "duration": 24,
    "start_time": "2024-06-08T17:02:02.499Z"
   },
   {
    "duration": 29,
    "start_time": "2024-06-08T17:02:02.527Z"
   },
   {
    "duration": 31,
    "start_time": "2024-06-08T17:02:02.559Z"
   },
   {
    "duration": 21,
    "start_time": "2024-06-08T17:02:02.624Z"
   },
   {
    "duration": 26,
    "start_time": "2024-06-08T17:02:02.647Z"
   },
   {
    "duration": 73,
    "start_time": "2024-06-08T17:02:02.676Z"
   },
   {
    "duration": 25,
    "start_time": "2024-06-08T17:02:02.753Z"
   },
   {
    "duration": 99,
    "start_time": "2024-06-08T17:02:02.781Z"
   },
   {
    "duration": 12,
    "start_time": "2024-06-08T17:02:02.888Z"
   },
   {
    "duration": 38,
    "start_time": "2024-06-08T17:02:02.903Z"
   },
   {
    "duration": 373,
    "start_time": "2024-06-08T17:02:02.944Z"
   },
   {
    "duration": 339,
    "start_time": "2024-06-08T17:02:03.324Z"
   },
   {
    "duration": 424,
    "start_time": "2024-06-08T17:02:03.665Z"
   },
   {
    "duration": 363,
    "start_time": "2024-06-08T17:02:04.092Z"
   },
   {
    "duration": 10,
    "start_time": "2024-06-08T17:02:04.459Z"
   },
   {
    "duration": 185,
    "start_time": "2024-06-08T17:02:04.474Z"
   },
   {
    "duration": 336,
    "start_time": "2024-06-08T17:02:04.662Z"
   },
   {
    "duration": 29,
    "start_time": "2024-06-08T17:02:05.001Z"
   },
   {
    "duration": 366,
    "start_time": "2024-06-08T17:02:05.033Z"
   },
   {
    "duration": 314,
    "start_time": "2024-06-08T17:02:05.402Z"
   },
   {
    "duration": 258,
    "start_time": "2024-06-08T17:02:05.724Z"
   },
   {
    "duration": 281,
    "start_time": "2024-06-08T17:02:05.985Z"
   },
   {
    "duration": 280,
    "start_time": "2024-06-08T17:02:06.270Z"
   },
   {
    "duration": 24,
    "start_time": "2024-06-08T17:02:06.554Z"
   },
   {
    "duration": 46,
    "start_time": "2024-06-08T17:02:06.581Z"
   },
   {
    "duration": 3,
    "start_time": "2024-06-08T17:02:06.630Z"
   },
   {
    "duration": 21,
    "start_time": "2024-06-08T18:13:23.783Z"
   },
   {
    "duration": 20,
    "start_time": "2024-06-08T18:13:34.154Z"
   },
   {
    "duration": 20,
    "start_time": "2024-06-08T18:15:28.391Z"
   },
   {
    "duration": 505,
    "start_time": "2024-06-08T18:16:38.054Z"
   },
   {
    "duration": 43,
    "start_time": "2024-06-08T18:16:52.263Z"
   },
   {
    "duration": 6,
    "start_time": "2024-06-08T18:16:56.132Z"
   },
   {
    "duration": 356,
    "start_time": "2024-06-08T18:16:56.142Z"
   },
   {
    "duration": 17,
    "start_time": "2024-06-08T18:16:56.501Z"
   },
   {
    "duration": 9,
    "start_time": "2024-06-08T18:16:56.526Z"
   },
   {
    "duration": 9,
    "start_time": "2024-06-08T18:16:56.539Z"
   },
   {
    "duration": 18,
    "start_time": "2024-06-08T18:16:56.552Z"
   },
   {
    "duration": 54,
    "start_time": "2024-06-08T18:16:56.573Z"
   },
   {
    "duration": 22,
    "start_time": "2024-06-08T18:16:56.631Z"
   },
   {
    "duration": 25,
    "start_time": "2024-06-08T18:16:56.657Z"
   },
   {
    "duration": 28,
    "start_time": "2024-06-08T18:16:56.728Z"
   },
   {
    "duration": 10,
    "start_time": "2024-06-08T18:16:56.759Z"
   },
   {
    "duration": 195,
    "start_time": "2024-06-08T18:16:56.772Z"
   },
   {
    "duration": 15,
    "start_time": "2024-06-08T18:16:56.971Z"
   },
   {
    "duration": 50,
    "start_time": "2024-06-08T18:16:56.990Z"
   },
   {
    "duration": 8,
    "start_time": "2024-06-08T18:16:57.043Z"
   },
   {
    "duration": 106,
    "start_time": "2024-06-08T18:16:57.055Z"
   },
   {
    "duration": 24,
    "start_time": "2024-06-08T18:16:57.165Z"
   },
   {
    "duration": 34,
    "start_time": "2024-06-08T18:16:57.192Z"
   },
   {
    "duration": 173,
    "start_time": "2024-06-08T18:16:57.230Z"
   },
   {
    "duration": 24,
    "start_time": "2024-06-08T18:16:57.406Z"
   },
   {
    "duration": 33,
    "start_time": "2024-06-08T18:16:57.434Z"
   },
   {
    "duration": 74,
    "start_time": "2024-06-08T18:16:57.470Z"
   },
   {
    "duration": 21,
    "start_time": "2024-06-08T18:16:57.548Z"
   },
   {
    "duration": 54,
    "start_time": "2024-06-08T18:16:57.572Z"
   },
   {
    "duration": 40,
    "start_time": "2024-06-08T18:16:57.629Z"
   },
   {
    "duration": 57,
    "start_time": "2024-06-08T18:16:57.671Z"
   },
   {
    "duration": 92,
    "start_time": "2024-06-08T18:16:57.731Z"
   },
   {
    "duration": 11,
    "start_time": "2024-06-08T18:16:57.831Z"
   },
   {
    "duration": 24,
    "start_time": "2024-06-08T18:16:57.846Z"
   },
   {
    "duration": 356,
    "start_time": "2024-06-08T18:16:57.874Z"
   },
   {
    "duration": 366,
    "start_time": "2024-06-08T18:16:58.233Z"
   },
   {
    "duration": 366,
    "start_time": "2024-06-08T18:16:58.604Z"
   },
   {
    "duration": 345,
    "start_time": "2024-06-08T18:16:58.973Z"
   },
   {
    "duration": 11,
    "start_time": "2024-06-08T18:16:59.324Z"
   },
   {
    "duration": 194,
    "start_time": "2024-06-08T18:16:59.338Z"
   },
   {
    "duration": 402,
    "start_time": "2024-06-08T18:16:59.536Z"
   },
   {
    "duration": 21,
    "start_time": "2024-06-08T18:16:59.942Z"
   },
   {
    "duration": 398,
    "start_time": "2024-06-08T18:16:59.965Z"
   },
   {
    "duration": 443,
    "start_time": "2024-06-08T18:17:00.367Z"
   },
   {
    "duration": 290,
    "start_time": "2024-06-08T18:17:00.813Z"
   },
   {
    "duration": 284,
    "start_time": "2024-06-08T18:17:01.110Z"
   },
   {
    "duration": 275,
    "start_time": "2024-06-08T18:17:01.397Z"
   },
   {
    "duration": 26,
    "start_time": "2024-06-08T18:17:01.675Z"
   },
   {
    "duration": 44,
    "start_time": "2024-06-08T18:17:01.723Z"
   },
   {
    "duration": 33,
    "start_time": "2024-06-08T18:17:17.523Z"
   },
   {
    "duration": 18,
    "start_time": "2024-06-08T18:18:10.533Z"
   },
   {
    "duration": 35,
    "start_time": "2024-06-08T18:26:31.863Z"
   },
   {
    "duration": 52,
    "start_time": "2024-06-08T18:29:28.477Z"
   },
   {
    "duration": 23,
    "start_time": "2024-06-08T18:30:24.285Z"
   },
   {
    "duration": 320,
    "start_time": "2024-06-08T19:15:06.016Z"
   },
   {
    "duration": 5009,
    "start_time": "2024-06-08T19:15:15.317Z"
   },
   {
    "duration": 369,
    "start_time": "2024-06-08T19:15:20.329Z"
   },
   {
    "duration": 17,
    "start_time": "2024-06-08T19:15:20.701Z"
   },
   {
    "duration": 12,
    "start_time": "2024-06-08T19:15:20.726Z"
   },
   {
    "duration": 8,
    "start_time": "2024-06-08T19:15:20.742Z"
   },
   {
    "duration": 51,
    "start_time": "2024-06-08T19:15:20.752Z"
   },
   {
    "duration": 9,
    "start_time": "2024-06-08T19:15:20.806Z"
   },
   {
    "duration": 20,
    "start_time": "2024-06-08T19:15:20.818Z"
   },
   {
    "duration": 60,
    "start_time": "2024-06-08T19:15:20.841Z"
   },
   {
    "duration": 26,
    "start_time": "2024-06-08T19:15:20.907Z"
   },
   {
    "duration": 9,
    "start_time": "2024-06-08T19:15:20.935Z"
   },
   {
    "duration": 195,
    "start_time": "2024-06-08T19:15:20.947Z"
   },
   {
    "duration": 14,
    "start_time": "2024-06-08T19:15:21.146Z"
   },
   {
    "duration": 46,
    "start_time": "2024-06-08T19:15:21.163Z"
   },
   {
    "duration": 6,
    "start_time": "2024-06-08T19:15:21.213Z"
   },
   {
    "duration": 99,
    "start_time": "2024-06-08T19:15:21.222Z"
   },
   {
    "duration": 22,
    "start_time": "2024-06-08T19:15:21.324Z"
   },
   {
    "duration": 7,
    "start_time": "2024-06-08T19:15:21.349Z"
   },
   {
    "duration": 174,
    "start_time": "2024-06-08T19:15:21.360Z"
   },
   {
    "duration": 13,
    "start_time": "2024-06-08T19:15:21.537Z"
   },
   {
    "duration": 53,
    "start_time": "2024-06-08T19:15:21.554Z"
   },
   {
    "duration": 31,
    "start_time": "2024-06-08T19:15:21.610Z"
   },
   {
    "duration": 21,
    "start_time": "2024-06-08T19:15:21.644Z"
   },
   {
    "duration": 53,
    "start_time": "2024-06-08T19:15:21.668Z"
   },
   {
    "duration": 37,
    "start_time": "2024-06-08T19:15:21.724Z"
   },
   {
    "duration": 53,
    "start_time": "2024-06-08T19:15:21.764Z"
   },
   {
    "duration": 88,
    "start_time": "2024-06-08T19:15:21.820Z"
   },
   {
    "duration": 11,
    "start_time": "2024-06-08T19:15:21.916Z"
   },
   {
    "duration": 23,
    "start_time": "2024-06-08T19:15:21.929Z"
   },
   {
    "duration": 379,
    "start_time": "2024-06-08T19:15:21.955Z"
   },
   {
    "duration": 340,
    "start_time": "2024-06-08T19:15:22.338Z"
   },
   {
    "duration": 395,
    "start_time": "2024-06-08T19:15:22.681Z"
   },
   {
    "duration": 340,
    "start_time": "2024-06-08T19:15:23.080Z"
   },
   {
    "duration": 11,
    "start_time": "2024-06-08T19:15:23.423Z"
   },
   {
    "duration": 178,
    "start_time": "2024-06-08T19:15:23.437Z"
   },
   {
    "duration": 326,
    "start_time": "2024-06-08T19:15:23.618Z"
   },
   {
    "duration": 18,
    "start_time": "2024-06-08T19:15:23.948Z"
   },
   {
    "duration": 370,
    "start_time": "2024-06-08T19:15:23.969Z"
   },
   {
    "duration": 246,
    "start_time": "2024-06-08T19:15:24.342Z"
   },
   {
    "duration": 246,
    "start_time": "2024-06-08T19:15:24.600Z"
   },
   {
    "duration": 266,
    "start_time": "2024-06-08T19:15:24.849Z"
   },
   {
    "duration": 253,
    "start_time": "2024-06-08T19:15:25.118Z"
   },
   {
    "duration": 1253,
    "start_time": "2024-06-08T19:15:25.375Z"
   },
   {
    "duration": 0,
    "start_time": "2024-06-08T19:15:26.632Z"
   },
   {
    "duration": 0,
    "start_time": "2024-06-08T19:15:26.635Z"
   },
   {
    "duration": 0,
    "start_time": "2024-06-08T19:15:26.638Z"
   },
   {
    "duration": 424,
    "start_time": "2024-06-08T19:15:56.189Z"
   },
   {
    "duration": 317,
    "start_time": "2024-06-08T19:16:17.415Z"
   },
   {
    "duration": 26,
    "start_time": "2024-06-08T19:17:21.352Z"
   },
   {
    "duration": 21,
    "start_time": "2024-06-08T19:18:29.181Z"
   },
   {
    "duration": 38,
    "start_time": "2024-06-08T19:18:43.530Z"
   },
   {
    "duration": 25,
    "start_time": "2024-06-08T19:23:53.861Z"
   },
   {
    "duration": 18,
    "start_time": "2024-06-08T19:24:23.912Z"
   },
   {
    "duration": 20,
    "start_time": "2024-06-08T19:24:39.568Z"
   },
   {
    "duration": 20,
    "start_time": "2024-06-08T19:24:43.964Z"
   },
   {
    "duration": 24,
    "start_time": "2024-06-08T19:24:48.831Z"
   },
   {
    "duration": 28,
    "start_time": "2024-06-08T19:24:59.744Z"
   },
   {
    "duration": 10,
    "start_time": "2024-06-08T19:25:51.507Z"
   },
   {
    "duration": 18,
    "start_time": "2024-06-08T19:26:06.876Z"
   },
   {
    "duration": 17,
    "start_time": "2024-06-08T19:26:23.308Z"
   },
   {
    "duration": 22,
    "start_time": "2024-06-08T19:26:34.559Z"
   },
   {
    "duration": 215,
    "start_time": "2024-06-08T19:27:37.780Z"
   },
   {
    "duration": 310,
    "start_time": "2024-06-08T19:27:47.437Z"
   },
   {
    "duration": 19,
    "start_time": "2024-06-08T19:30:17.054Z"
   },
   {
    "duration": 7,
    "start_time": "2024-06-08T19:31:12.309Z"
   },
   {
    "duration": 14,
    "start_time": "2024-06-08T19:31:19.181Z"
   },
   {
    "duration": 17,
    "start_time": "2024-06-08T19:31:33.625Z"
   },
   {
    "duration": 21,
    "start_time": "2024-06-08T19:33:29.135Z"
   },
   {
    "duration": 24,
    "start_time": "2024-06-08T19:34:14.103Z"
   },
   {
    "duration": 3,
    "start_time": "2024-06-08T19:34:29.169Z"
   },
   {
    "duration": 6,
    "start_time": "2024-06-08T19:34:49.137Z"
   },
   {
    "duration": 26,
    "start_time": "2024-06-08T19:35:48.051Z"
   },
   {
    "duration": 5,
    "start_time": "2024-06-08T19:35:53.023Z"
   },
   {
    "duration": 6,
    "start_time": "2024-06-08T19:36:06.456Z"
   },
   {
    "duration": 6,
    "start_time": "2024-06-08T19:36:58.081Z"
   },
   {
    "duration": 12,
    "start_time": "2024-06-08T19:40:45.739Z"
   },
   {
    "duration": 14,
    "start_time": "2024-06-08T19:42:30.223Z"
   },
   {
    "duration": 24,
    "start_time": "2024-06-08T19:47:07.906Z"
   },
   {
    "duration": 24,
    "start_time": "2024-06-08T19:47:14.702Z"
   },
   {
    "duration": 12,
    "start_time": "2024-06-08T19:47:45.613Z"
   },
   {
    "duration": 58,
    "start_time": "2024-06-08T19:47:57.342Z"
   },
   {
    "duration": 24,
    "start_time": "2024-06-08T19:48:11.952Z"
   },
   {
    "duration": 35,
    "start_time": "2024-06-08T19:50:12.255Z"
   },
   {
    "duration": 26,
    "start_time": "2024-06-08T19:50:50.143Z"
   },
   {
    "duration": 1171,
    "start_time": "2024-06-08T19:57:12.333Z"
   },
   {
    "duration": 358,
    "start_time": "2024-06-08T19:58:05.190Z"
   },
   {
    "duration": 272,
    "start_time": "2024-06-08T19:58:56.689Z"
   },
   {
    "duration": 308,
    "start_time": "2024-06-08T19:59:33.222Z"
   },
   {
    "duration": 47,
    "start_time": "2024-06-08T19:59:42.714Z"
   },
   {
    "duration": 37,
    "start_time": "2024-06-08T20:00:26.040Z"
   },
   {
    "duration": 32,
    "start_time": "2024-06-08T20:01:43.250Z"
   },
   {
    "duration": 48,
    "start_time": "2024-06-08T20:03:37.007Z"
   },
   {
    "duration": 284,
    "start_time": "2024-06-08T20:03:51.263Z"
   },
   {
    "duration": 284,
    "start_time": "2024-06-08T20:05:26.286Z"
   },
   {
    "duration": 24,
    "start_time": "2024-06-08T20:05:33.049Z"
   },
   {
    "duration": 4960,
    "start_time": "2024-06-08T21:51:15.237Z"
   },
   {
    "duration": 375,
    "start_time": "2024-06-08T21:51:20.202Z"
   },
   {
    "duration": 17,
    "start_time": "2024-06-08T21:51:20.579Z"
   },
   {
    "duration": 10,
    "start_time": "2024-06-08T21:51:20.600Z"
   },
   {
    "duration": 7,
    "start_time": "2024-06-08T21:51:20.633Z"
   },
   {
    "duration": 14,
    "start_time": "2024-06-08T21:51:20.644Z"
   },
   {
    "duration": 9,
    "start_time": "2024-06-08T21:51:20.661Z"
   },
   {
    "duration": 67,
    "start_time": "2024-06-08T21:51:20.674Z"
   },
   {
    "duration": 23,
    "start_time": "2024-06-08T21:51:20.745Z"
   },
   {
    "duration": 25,
    "start_time": "2024-06-08T21:51:20.771Z"
   },
   {
    "duration": 36,
    "start_time": "2024-06-08T21:51:20.799Z"
   },
   {
    "duration": 160,
    "start_time": "2024-06-08T21:51:20.839Z"
   },
   {
    "duration": 32,
    "start_time": "2024-06-08T21:51:21.002Z"
   },
   {
    "duration": 20,
    "start_time": "2024-06-08T21:51:21.041Z"
   },
   {
    "duration": 7,
    "start_time": "2024-06-08T21:51:21.064Z"
   },
   {
    "duration": 114,
    "start_time": "2024-06-08T21:51:21.074Z"
   },
   {
    "duration": 42,
    "start_time": "2024-06-08T21:51:21.191Z"
   },
   {
    "duration": 8,
    "start_time": "2024-06-08T21:51:21.235Z"
   },
   {
    "duration": 163,
    "start_time": "2024-06-08T21:51:21.247Z"
   },
   {
    "duration": 32,
    "start_time": "2024-06-08T21:51:21.413Z"
   },
   {
    "duration": 30,
    "start_time": "2024-06-08T21:51:21.450Z"
   },
   {
    "duration": 55,
    "start_time": "2024-06-08T21:51:21.483Z"
   },
   {
    "duration": 25,
    "start_time": "2024-06-08T21:51:21.544Z"
   },
   {
    "duration": 28,
    "start_time": "2024-06-08T21:51:21.573Z"
   },
   {
    "duration": 42,
    "start_time": "2024-06-08T21:51:21.633Z"
   },
   {
    "duration": 26,
    "start_time": "2024-06-08T21:51:21.678Z"
   },
   {
    "duration": 74,
    "start_time": "2024-06-08T21:51:21.735Z"
   },
   {
    "duration": 33,
    "start_time": "2024-06-08T21:51:21.813Z"
   },
   {
    "duration": 21,
    "start_time": "2024-06-08T21:51:21.850Z"
   },
   {
    "duration": 363,
    "start_time": "2024-06-08T21:51:21.874Z"
   },
   {
    "duration": 355,
    "start_time": "2024-06-08T21:51:22.241Z"
   },
   {
    "duration": 406,
    "start_time": "2024-06-08T21:51:22.600Z"
   },
   {
    "duration": 347,
    "start_time": "2024-06-08T21:51:23.009Z"
   },
   {
    "duration": 12,
    "start_time": "2024-06-08T21:51:23.359Z"
   },
   {
    "duration": 189,
    "start_time": "2024-06-08T21:51:23.373Z"
   },
   {
    "duration": 346,
    "start_time": "2024-06-08T21:51:23.565Z"
   },
   {
    "duration": 25,
    "start_time": "2024-06-08T21:51:23.914Z"
   },
   {
    "duration": 344,
    "start_time": "2024-06-08T21:51:23.942Z"
   },
   {
    "duration": 316,
    "start_time": "2024-06-08T21:51:24.289Z"
   },
   {
    "duration": 255,
    "start_time": "2024-06-08T21:51:24.608Z"
   },
   {
    "duration": 278,
    "start_time": "2024-06-08T21:51:24.871Z"
   },
   {
    "duration": 250,
    "start_time": "2024-06-08T21:51:25.152Z"
   },
   {
    "duration": 12,
    "start_time": "2024-06-08T21:51:25.405Z"
   },
   {
    "duration": 18,
    "start_time": "2024-06-08T21:51:25.419Z"
   },
   {
    "duration": 20,
    "start_time": "2024-06-08T21:51:25.441Z"
   },
   {
    "duration": 25,
    "start_time": "2024-06-08T21:51:25.464Z"
   },
   {
    "duration": 503,
    "start_time": "2024-06-08T21:52:20.698Z"
   },
   {
    "duration": 25,
    "start_time": "2024-06-08T21:52:56.178Z"
   },
   {
    "duration": 1135,
    "start_time": "2024-06-08T21:53:44.698Z"
   },
   {
    "duration": 21,
    "start_time": "2024-06-08T21:54:08.660Z"
   },
   {
    "duration": 26,
    "start_time": "2024-06-08T21:54:45.614Z"
   },
   {
    "duration": 37,
    "start_time": "2024-06-08T21:55:04.902Z"
   },
   {
    "duration": 29,
    "start_time": "2024-06-08T21:55:25.015Z"
   },
   {
    "duration": 22,
    "start_time": "2024-06-08T21:56:57.988Z"
   },
   {
    "duration": 28,
    "start_time": "2024-06-08T21:57:46.608Z"
   },
   {
    "duration": 27,
    "start_time": "2024-06-08T21:58:50.997Z"
   },
   {
    "duration": 32,
    "start_time": "2024-06-08T21:59:33.934Z"
   },
   {
    "duration": 31,
    "start_time": "2024-06-08T22:00:09.699Z"
   },
   {
    "duration": 30,
    "start_time": "2024-06-08T22:00:41.088Z"
   },
   {
    "duration": 23,
    "start_time": "2024-06-08T22:05:24.433Z"
   },
   {
    "duration": 23,
    "start_time": "2024-06-08T22:06:08.512Z"
   },
   {
    "duration": 11,
    "start_time": "2024-06-08T22:08:46.630Z"
   },
   {
    "duration": 18,
    "start_time": "2024-06-08T22:30:02.150Z"
   },
   {
    "duration": 19,
    "start_time": "2024-06-08T22:33:59.069Z"
   },
   {
    "duration": 12,
    "start_time": "2024-06-08T22:37:10.212Z"
   },
   {
    "duration": 14,
    "start_time": "2024-06-08T22:37:36.713Z"
   },
   {
    "duration": 14,
    "start_time": "2024-06-08T22:59:30.664Z"
   },
   {
    "duration": 52,
    "start_time": "2024-06-08T23:08:09.198Z"
   },
   {
    "duration": 29,
    "start_time": "2024-06-08T23:08:17.941Z"
   },
   {
    "duration": 9,
    "start_time": "2024-06-08T23:09:02.223Z"
   },
   {
    "duration": 9,
    "start_time": "2024-06-08T23:09:36.810Z"
   },
   {
    "duration": 33,
    "start_time": "2024-06-08T23:10:14.976Z"
   },
   {
    "duration": 11,
    "start_time": "2024-06-08T23:13:08.691Z"
   },
   {
    "duration": 351,
    "start_time": "2024-06-08T23:13:41.003Z"
   },
   {
    "duration": 84,
    "start_time": "2024-06-08T23:14:05.416Z"
   },
   {
    "duration": 87,
    "start_time": "2024-06-08T23:14:45.284Z"
   },
   {
    "duration": 89,
    "start_time": "2024-06-08T23:15:17.780Z"
   },
   {
    "duration": 15,
    "start_time": "2024-06-08T23:15:29.088Z"
   },
   {
    "duration": 18,
    "start_time": "2024-06-08T23:15:52.632Z"
   },
   {
    "duration": 342,
    "start_time": "2024-06-08T23:41:30.120Z"
   },
   {
    "duration": 21,
    "start_time": "2024-06-08T23:42:44.193Z"
   },
   {
    "duration": 326,
    "start_time": "2024-06-08T23:42:58.348Z"
   },
   {
    "duration": 301,
    "start_time": "2024-06-08T23:43:58.741Z"
   },
   {
    "duration": 16,
    "start_time": "2024-06-08T23:44:15.859Z"
   },
   {
    "duration": 335,
    "start_time": "2024-06-10T01:45:16.444Z"
   },
   {
    "duration": 5169,
    "start_time": "2024-06-10T01:45:24.043Z"
   },
   {
    "duration": 401,
    "start_time": "2024-06-10T01:45:29.218Z"
   },
   {
    "duration": 18,
    "start_time": "2024-06-10T01:45:29.622Z"
   },
   {
    "duration": 10,
    "start_time": "2024-06-10T01:45:29.644Z"
   },
   {
    "duration": 8,
    "start_time": "2024-06-10T01:45:29.660Z"
   },
   {
    "duration": 18,
    "start_time": "2024-06-10T01:45:29.672Z"
   },
   {
    "duration": 17,
    "start_time": "2024-06-10T01:45:29.733Z"
   },
   {
    "duration": 11,
    "start_time": "2024-06-10T01:45:29.753Z"
   },
   {
    "duration": 24,
    "start_time": "2024-06-10T01:45:29.768Z"
   },
   {
    "duration": 34,
    "start_time": "2024-06-10T01:45:29.838Z"
   },
   {
    "duration": 26,
    "start_time": "2024-06-10T01:45:29.875Z"
   },
   {
    "duration": 8,
    "start_time": "2024-06-10T01:45:29.932Z"
   },
   {
    "duration": 202,
    "start_time": "2024-06-10T01:45:29.944Z"
   },
   {
    "duration": 15,
    "start_time": "2024-06-10T01:45:30.149Z"
   },
   {
    "duration": 21,
    "start_time": "2024-06-10T01:45:30.167Z"
   },
   {
    "duration": 44,
    "start_time": "2024-06-10T01:45:30.192Z"
   },
   {
    "duration": 101,
    "start_time": "2024-06-10T01:45:30.240Z"
   },
   {
    "duration": 29,
    "start_time": "2024-06-10T01:45:30.344Z"
   },
   {
    "duration": 8,
    "start_time": "2024-06-10T01:45:30.376Z"
   },
   {
    "duration": 170,
    "start_time": "2024-06-10T01:45:30.388Z"
   },
   {
    "duration": 16,
    "start_time": "2024-06-10T01:45:30.563Z"
   },
   {
    "duration": 59,
    "start_time": "2024-06-10T01:45:30.582Z"
   },
   {
    "duration": 38,
    "start_time": "2024-06-10T01:45:30.645Z"
   },
   {
    "duration": 47,
    "start_time": "2024-06-10T01:45:30.686Z"
   },
   {
    "duration": 31,
    "start_time": "2024-06-10T01:45:30.741Z"
   },
   {
    "duration": 60,
    "start_time": "2024-06-10T01:45:30.775Z"
   },
   {
    "duration": 27,
    "start_time": "2024-06-10T01:45:30.838Z"
   },
   {
    "duration": 115,
    "start_time": "2024-06-10T01:45:30.872Z"
   },
   {
    "duration": 13,
    "start_time": "2024-06-10T01:45:30.991Z"
   },
   {
    "duration": 43,
    "start_time": "2024-06-10T01:45:31.008Z"
   },
   {
    "duration": 391,
    "start_time": "2024-06-10T01:45:31.054Z"
   },
   {
    "duration": 363,
    "start_time": "2024-06-10T01:45:31.448Z"
   },
   {
    "duration": 511,
    "start_time": "2024-06-10T01:45:31.816Z"
   },
   {
    "duration": 449,
    "start_time": "2024-06-10T01:45:32.334Z"
   },
   {
    "duration": 12,
    "start_time": "2024-06-10T01:45:32.786Z"
   },
   {
    "duration": 219,
    "start_time": "2024-06-10T01:45:32.801Z"
   },
   {
    "duration": 415,
    "start_time": "2024-06-10T01:45:33.024Z"
   },
   {
    "duration": 19,
    "start_time": "2024-06-10T01:45:33.443Z"
   },
   {
    "duration": 362,
    "start_time": "2024-06-10T01:45:33.465Z"
   },
   {
    "duration": 323,
    "start_time": "2024-06-10T01:45:33.836Z"
   },
   {
    "duration": 289,
    "start_time": "2024-06-10T01:45:34.163Z"
   },
   {
    "duration": 277,
    "start_time": "2024-06-10T01:45:34.456Z"
   },
   {
    "duration": 262,
    "start_time": "2024-06-10T01:45:34.736Z"
   },
   {
    "duration": 39,
    "start_time": "2024-06-10T01:45:35.001Z"
   },
   {
    "duration": 13,
    "start_time": "2024-06-10T01:45:35.043Z"
   },
   {
    "duration": 37,
    "start_time": "2024-06-10T01:45:35.059Z"
   },
   {
    "duration": 24,
    "start_time": "2024-06-10T01:45:57.155Z"
   },
   {
    "duration": 26,
    "start_time": "2024-06-10T01:46:21.631Z"
   },
   {
    "duration": 725,
    "start_time": "2024-06-10T01:58:57.110Z"
   },
   {
    "duration": 14,
    "start_time": "2024-06-10T01:59:25.885Z"
   },
   {
    "duration": 44,
    "start_time": "2024-06-10T02:00:12.730Z"
   },
   {
    "duration": 12,
    "start_time": "2024-06-10T02:02:13.492Z"
   },
   {
    "duration": 6,
    "start_time": "2024-06-10T02:03:08.039Z"
   },
   {
    "duration": 13,
    "start_time": "2024-06-10T02:04:51.556Z"
   },
   {
    "duration": 55,
    "start_time": "2024-06-10T02:11:03.860Z"
   },
   {
    "duration": 31,
    "start_time": "2024-06-10T02:12:12.919Z"
   },
   {
    "duration": 71,
    "start_time": "2024-06-10T02:14:49.009Z"
   },
   {
    "duration": 11,
    "start_time": "2024-06-10T02:14:54.861Z"
   },
   {
    "duration": 73,
    "start_time": "2024-06-10T02:15:12.149Z"
   },
   {
    "duration": 11,
    "start_time": "2024-06-10T02:15:16.431Z"
   },
   {
    "duration": 73,
    "start_time": "2024-06-10T02:15:37.420Z"
   },
   {
    "duration": 110,
    "start_time": "2024-06-10T02:15:57.102Z"
   },
   {
    "duration": 85,
    "start_time": "2024-06-10T02:16:03.969Z"
   },
   {
    "duration": 71,
    "start_time": "2024-06-10T02:16:24.091Z"
   },
   {
    "duration": 12,
    "start_time": "2024-06-10T02:18:06.893Z"
   },
   {
    "duration": 22,
    "start_time": "2024-06-10T02:18:09.353Z"
   },
   {
    "duration": 24,
    "start_time": "2024-06-10T02:18:15.723Z"
   },
   {
    "duration": 339,
    "start_time": "2024-06-10T02:18:40.588Z"
   },
   {
    "duration": 25,
    "start_time": "2024-06-10T02:20:03.061Z"
   },
   {
    "duration": 12,
    "start_time": "2024-06-10T02:20:08.913Z"
   },
   {
    "duration": 15,
    "start_time": "2024-06-10T02:23:46.084Z"
   },
   {
    "duration": 361,
    "start_time": "2024-06-29T21:58:28.376Z"
   },
   {
    "duration": 5285,
    "start_time": "2024-06-29T21:58:48.774Z"
   },
   {
    "duration": 485,
    "start_time": "2024-06-29T21:58:54.063Z"
   },
   {
    "duration": 20,
    "start_time": "2024-06-29T21:58:54.552Z"
   },
   {
    "duration": 12,
    "start_time": "2024-06-29T21:58:54.578Z"
   },
   {
    "duration": 32,
    "start_time": "2024-06-29T21:58:54.594Z"
   },
   {
    "duration": 23,
    "start_time": "2024-06-29T21:58:54.630Z"
   },
   {
    "duration": 10,
    "start_time": "2024-06-29T21:58:54.657Z"
   },
   {
    "duration": 65,
    "start_time": "2024-06-29T21:58:54.671Z"
   },
   {
    "duration": 28,
    "start_time": "2024-06-29T21:58:54.740Z"
   },
   {
    "duration": 58,
    "start_time": "2024-06-29T21:58:54.774Z"
   },
   {
    "duration": 9,
    "start_time": "2024-06-29T21:58:54.836Z"
   },
   {
    "duration": 210,
    "start_time": "2024-06-29T21:58:54.849Z"
   },
   {
    "duration": 18,
    "start_time": "2024-06-29T21:58:55.064Z"
   },
   {
    "duration": 46,
    "start_time": "2024-06-29T21:58:55.085Z"
   },
   {
    "duration": 8,
    "start_time": "2024-06-29T21:58:55.135Z"
   },
   {
    "duration": 125,
    "start_time": "2024-06-29T21:58:55.147Z"
   },
   {
    "duration": 26,
    "start_time": "2024-06-29T21:58:55.276Z"
   },
   {
    "duration": 11,
    "start_time": "2024-06-29T21:58:55.324Z"
   },
   {
    "duration": 196,
    "start_time": "2024-06-29T21:58:55.339Z"
   },
   {
    "duration": 17,
    "start_time": "2024-06-29T21:58:55.539Z"
   },
   {
    "duration": 65,
    "start_time": "2024-06-29T21:58:55.562Z"
   },
   {
    "duration": 41,
    "start_time": "2024-06-29T21:58:55.631Z"
   },
   {
    "duration": 53,
    "start_time": "2024-06-29T21:58:55.677Z"
   },
   {
    "duration": 29,
    "start_time": "2024-06-29T21:58:55.733Z"
   },
   {
    "duration": 85,
    "start_time": "2024-06-29T21:58:55.766Z"
   },
   {
    "duration": 30,
    "start_time": "2024-06-29T21:58:55.854Z"
   },
   {
    "duration": 107,
    "start_time": "2024-06-29T21:58:55.888Z"
   },
   {
    "duration": 23,
    "start_time": "2024-06-29T21:58:56.004Z"
   },
   {
    "duration": 28,
    "start_time": "2024-06-29T21:58:56.031Z"
   },
   {
    "duration": 435,
    "start_time": "2024-06-29T21:58:56.063Z"
   },
   {
    "duration": 430,
    "start_time": "2024-06-29T21:58:56.501Z"
   },
   {
    "duration": 376,
    "start_time": "2024-06-29T21:58:56.935Z"
   },
   {
    "duration": 492,
    "start_time": "2024-06-29T21:58:57.315Z"
   },
   {
    "duration": 22,
    "start_time": "2024-06-29T21:58:57.810Z"
   },
   {
    "duration": 207,
    "start_time": "2024-06-29T21:58:57.835Z"
   },
   {
    "duration": 367,
    "start_time": "2024-06-29T21:58:58.046Z"
   },
   {
    "duration": 24,
    "start_time": "2024-06-29T21:58:58.423Z"
   },
   {
    "duration": 414,
    "start_time": "2024-06-29T21:58:58.449Z"
   },
   {
    "duration": 354,
    "start_time": "2024-06-29T21:58:58.866Z"
   },
   {
    "duration": 289,
    "start_time": "2024-06-29T21:58:59.225Z"
   },
   {
    "duration": 295,
    "start_time": "2024-06-29T21:58:59.524Z"
   },
   {
    "duration": 287,
    "start_time": "2024-06-29T21:58:59.823Z"
   },
   {
    "duration": 29,
    "start_time": "2024-06-29T21:59:00.114Z"
   },
   {
    "duration": 17,
    "start_time": "2024-06-29T21:59:00.146Z"
   },
   {
    "duration": 84,
    "start_time": "2024-06-29T21:59:00.166Z"
   },
   {
    "duration": 19,
    "start_time": "2024-06-29T22:01:10.096Z"
   }
  ],
  "colab": {
   "provenance": []
  },
  "kernelspec": {
   "display_name": "Python 3 (ipykernel)",
   "language": "python",
   "name": "python3"
  },
  "language_info": {
   "codemirror_mode": {
    "name": "ipython",
    "version": 3
   },
   "file_extension": ".py",
   "mimetype": "text/x-python",
   "name": "python",
   "nbconvert_exporter": "python",
   "pygments_lexer": "ipython3",
   "version": "3.9.19"
  },
  "toc": {
   "base_numbering": 1,
   "nav_menu": {},
   "number_sections": true,
   "sideBar": true,
   "skip_h1_title": false,
   "title_cell": "Table of Contents",
   "title_sidebar": "Contents",
   "toc_cell": false,
   "toc_position": {
    "height": "calc(100% - 180px)",
    "left": "10px",
    "top": "150px",
    "width": "165px"
   },
   "toc_section_display": true,
   "toc_window_display": true
  }
 },
 "nbformat": 4,
 "nbformat_minor": 1
}
